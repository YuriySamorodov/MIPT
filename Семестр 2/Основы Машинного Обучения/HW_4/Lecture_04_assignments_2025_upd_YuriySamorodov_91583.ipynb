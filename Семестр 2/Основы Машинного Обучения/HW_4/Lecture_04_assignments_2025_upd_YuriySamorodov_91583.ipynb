{
  "nbformat": 4,
  "nbformat_minor": 0,
  "metadata": {
    "colab": {
      "provenance": [],
      "include_colab_link": true
    },
    "kernelspec": {
      "name": "python3",
      "display_name": "Python 3"
    },
    "language_info": {
      "name": "python"
    }
  },
  "cells": [
    {
      "cell_type": "markdown",
      "metadata": {
        "id": "view-in-github",
        "colab_type": "text"
      },
      "source": [
        "<a href=\"https://colab.research.google.com/github/YuriySamorodov/MIPT/blob/main/%D0%A1%D0%B5%D0%BC%D0%B5%D1%81%D1%82%D1%80%202/%D0%9E%D1%81%D0%BD%D0%BE%D0%B2%D1%8B%20%D0%9C%D0%B0%D1%88%D0%B8%D0%BD%D0%BD%D0%BE%D0%B3%D0%BE%20%D0%9E%D0%B1%D1%83%D1%87%D0%B5%D0%BD%D0%B8%D1%8F/HW_4/Lecture_04_assignments_2025_upd_YuriySamorodov_91583.ipynb\" target=\"_parent\"><img src=\"https://colab.research.google.com/assets/colab-badge.svg\" alt=\"Open In Colab\"/></a>"
      ]
    },
    {
      "cell_type": "markdown",
      "metadata": {
        "id": "rzEKuROcm5SP"
      },
      "source": [
        "# **Важно!**\n",
        "\n",
        "Домашнее задание состоит из нескольких задач, которые вам нужно решить.\n",
        "*   Баллы выставляются по принципу выполнено/невыполнено.\n",
        "*   За каждую выполненую задачу вы получаете баллы (количество баллов за задание указано в скобках).\n",
        "\n",
        "**Инструкция выполнения:** Выполните задания в этом же ноутбуке (места под решения **КАЖДОЙ** задачи обозначены как **#НАЧАЛО ВАШЕГО РЕШЕНИЯ** и **#КОНЕЦ ВАШЕГО РЕШЕНИЯ**)\n",
        "\n",
        "**Как отправить задание на проверку:** Вам необходимо сохранить ваше решение в данном блокноте и отправить итоговый **файл .IPYNB** на учебной платформе в **стандартную форму сдачи домашнего задания.**\n",
        "\n",
        "**Срок проверки преподавателем:** домашнее задание проверяется **в течение 3 дней после дедлайна сдачи** с предоставлением обратной связи\n",
        "\n",
        "# **Прежде чем проверять задания:**\n",
        "\n",
        "1. Перезапустите **ядро (restart the kernel)**: в меню, выбрать **Ядро (Kernel)**\n",
        "→ **Перезапустить (Restart)**\n",
        "2. Затем **Выполнить** **все ячейки (run all cells)**: в меню, выбрать **Ячейка (Cell)**\n",
        "→ **Запустить все (Run All)**.\n",
        "\n",
        "После ячеек с заданием следуют ячейки с проверкой **с помощью assert.**\n",
        "\n",
        "Если в коде есть ошибки, assert выведет уведомление об ошибке.\n",
        "\n",
        "Если в коде нет ошибок, assert отработает без вывода дополнительной информации."
      ]
    },
    {
      "cell_type": "markdown",
      "metadata": {
        "id": "IvjzKaM9m5ST"
      },
      "source": [
        "---"
      ]
    },
    {
      "cell_type": "markdown",
      "metadata": {
        "id": "I15VyW-1m5ST"
      },
      "source": [
        "# Домашнее задание №4. Линейная классификация. Логистическая регрессия. Метод опорных векторов.\n",
        "\n",
        "**Цели домашнего задания:** Решить проблемы бинарной классификации вручную. Решить многоклассовую классификацию на примере датасета рукописных цифр MNIST с помощью готовых библиотек. Реализовать метод опорных векторов."
      ]
    },
    {
      "cell_type": "code",
      "execution_count": 1,
      "metadata": {
        "deletable": false,
        "editable": false,
        "nbgrader": {
          "cell_type": "code",
          "checksum": "5c9ae45022783898a2aea57e451b47eb",
          "grade": false,
          "grade_id": "cell-d9e9033e8e7687c7",
          "locked": true,
          "schema_version": 3,
          "solution": false,
          "task": false
        },
        "id": "GMC4cNE2m5SU"
      },
      "outputs": [],
      "source": [
        "# Запустите эту ячейку для первоначальной настройки\n",
        "import numpy as np\n",
        "import pandas as pd\n",
        "import matplotlib.pyplot as plt\n",
        "\n",
        "plt.style.use('fivethirtyeight')\n",
        "plt.rc('lines', linewidth=2)"
      ]
    },
    {
      "cell_type": "markdown",
      "metadata": {
        "deletable": false,
        "editable": false,
        "nbgrader": {
          "cell_type": "markdown",
          "checksum": "9aa8fc14a3b822858f8162d40474eaac",
          "grade": false,
          "grade_id": "cell-cbe327c5d8b4bfb1",
          "locked": true,
          "schema_version": 3,
          "solution": false,
          "task": false
        },
        "id": "6bg9-fuim5SV"
      },
      "source": [
        "## Часть 1. Реализация алгоритма линейной классификации для бинарных данных\n",
        "\n",
        "В этой части, мы создадим синтетический набор бинарных данных и обучим модель вручную. Для этого нам неодходимо написать функцию сигмоиды, вычислить функцию потерь и её производную, чтобы использовать их во время градиентного спуска."
      ]
    },
    {
      "cell_type": "markdown",
      "source": [
        "**Задание 1 (1 балл)**\n",
        "\n",
        "Реализуйте функцию сигмоиды `sigmoid(z)`."
      ],
      "metadata": {
        "id": "G25H-QgTSFJ4"
      }
    },
    {
      "cell_type": "code",
      "source": [
        "# НАЧАЛО ВАШЕГО РЕШЕНИЯ\n",
        "def sigmoid(z):\n",
        "    return 1 / (1 + np.exp(-z))\n",
        "# КОНЕЦ ВАШЕГО РЕШЕНИЯ"
      ],
      "metadata": {
        "id": "TJT9GfQ8SD2d"
      },
      "execution_count": 2,
      "outputs": []
    },
    {
      "cell_type": "code",
      "source": [
        "assert np.isclose(sigmoid(5), 1, atol=0.01)"
      ],
      "metadata": {
        "id": "smoL8PTgjyKq"
      },
      "execution_count": 3,
      "outputs": []
    },
    {
      "cell_type": "markdown",
      "source": [
        "**Задание 2 (1 балл)**\n",
        "\n",
        "Реализуйте логистическую функцию потерь `compute_cost(y, y_pred)`.\n",
        "\n"
      ],
      "metadata": {
        "id": "5oFH0MhKkasJ"
      }
    },
    {
      "cell_type": "code",
      "source": [
        "# НАЧАЛО ВАШЕГО РЕШЕНИЯ\n",
        "def compute_cost(y, y_pred):\n",
        "    m = len(y)\n",
        "    cost = -(1/m) * np.sum(y * np.log(y_pred) + (1 - y) * np.log(1 - y_pred))\n",
        "    return cost\n",
        "# КОНЕЦ ВАШЕГО РЕШЕНИЯ"
      ],
      "metadata": {
        "id": "JaYP4OliknMy"
      },
      "execution_count": 4,
      "outputs": []
    },
    {
      "cell_type": "code",
      "source": [
        "y_pred = np.array([0.1, 0.8, 0.4])\n",
        "y = np.array([0, 1, 0])\n",
        "\n",
        "assert np.isclose(compute_cost(y, y_pred), 0.28, atol=0.01)"
      ],
      "metadata": {
        "id": "PikqHrBBjJH1"
      },
      "execution_count": 5,
      "outputs": []
    },
    {
      "cell_type": "markdown",
      "source": [
        "**Задание 3 (1 балл)**\n",
        "\n",
        "Реализуйте градиент логистической функции потерь `compute_gradient(X, y, w)`."
      ],
      "metadata": {
        "id": "Es3WCeiBlv9c"
      }
    },
    {
      "cell_type": "code",
      "source": [
        "def compute_gradient(X, y, w):\n",
        "    # НАЧАЛО ВАШЕГО РЕШЕНИЯ\n",
        "    m = len(y)\n",
        "    y_pred = sigmoid(np.dot(X, w))\n",
        "    gradient = (1/m) * np.dot(X.T, y_pred - y)\n",
        "    # КОНЕЦ ВАШЕГО РЕШЕНИЯ\n",
        "    return gradient"
      ],
      "metadata": {
        "id": "wp4JDp5GpOyi"
      },
      "execution_count": 6,
      "outputs": []
    },
    {
      "cell_type": "code",
      "source": [
        "X = np.array([[1, 2], [1, 3], [1, 4]])  # Пример данных с добавленным bias term\n",
        "y = np.array([0, 1, 0])  # Метки классов\n",
        "weights = np.array([0.1, -0.2])  # Начальные веса\n",
        "\n",
        "assert np.allclose(compute_gradient(X, y, weights), [0.04, 0.10], atol=0.01)"
      ],
      "metadata": {
        "id": "0jpwBVjepofV"
      },
      "execution_count": 7,
      "outputs": []
    },
    {
      "cell_type": "markdown",
      "source": [
        "**Задание 4 (1 балл)**\n",
        "\n",
        "По аналогии с предыдущим домашним заданием, реализуйте функцию градиентного спуска."
      ],
      "metadata": {
        "id": "7kxhZ7XTkpMj"
      }
    },
    {
      "cell_type": "code",
      "source": [
        "# Функция градиентного спуска\n",
        "def gradient_descent(X, y, w, learning_rate, num_iterations):\n",
        "    # НАЧАЛО ВАШЕГО РЕШЕНИЯ\n",
        "    for i in range(num_iterations):\n",
        "        w_tmp = w = w - learning_rate * compute_gradient(X, y, w)\n",
        "        if i % 100 == 0:\n",
        "            y_pred = sigmoid(np.dot(X, w))\n",
        "            print(f\"Iteration {i}: Loss = {compute_cost(y, y_pred)}\")\n",
        "    # КОНЕЦ ВАШЕГО РЕШЕНИЯ\n",
        "    return w_tmp"
      ],
      "metadata": {
        "id": "STOYOXEz6hwy"
      },
      "execution_count": 8,
      "outputs": []
    },
    {
      "cell_type": "code",
      "source": [
        "assert np.allclose(gradient_descent(X, y, weights, 0.03, 300), [-0.01, -0.22], atol=0.01)"
      ],
      "metadata": {
        "colab": {
          "base_uri": "https://localhost:8080/"
        },
        "id": "88kqK3_qlMKJ",
        "outputId": "e1929e4d-fc48-4a20-aca6-d3b9590073f2"
      },
      "execution_count": 9,
      "outputs": [
        {
          "output_type": "stream",
          "name": "stdout",
          "text": [
            "Iteration 0: Loss = 0.6435035259939496\n",
            "Iteration 100: Loss = 0.6408399452749816\n",
            "Iteration 200: Loss = 0.6404847744413191\n"
          ]
        }
      ]
    },
    {
      "cell_type": "markdown",
      "source": [
        "**Задание 5 (1 балл)**\n",
        "\n",
        "Подготовьте синтетические бинарные данные с помощью команды из библиотеки `sklearn`. Используйте функцию `make_classification`. Создайте 200 точек с двумя признаками и двумя классами, без излишних признаков (`n_redundant=0`). Зафиксируйте `random_state=42`. Добавьте столбец единиц к данным для свободного члена."
      ],
      "metadata": {
        "id": "mUDp-KAk7F0E"
      }
    },
    {
      "cell_type": "code",
      "source": [
        "from sklearn.datasets import make_classification\n",
        "import matplotlib.pyplot as plt\n",
        "import numpy as np\n",
        "\n",
        "# НАЧАЛО ВАШЕГО РЕШЕНИЯ\n",
        "X, y = make_classification(n_samples=200, n_features=2, n_redundant=0, random_state=42)\n",
        "X = np.c_[np.ones((X.shape[0], 1)), X]\n",
        "# КОНЕЦ ВАШЕГО РЕШЕНИЯ\n",
        "\n",
        "# Визуализация данных\n",
        "plt.figure(figsize=(8, 6))\n",
        "plt.scatter(X[y == 0, 0], X[y == 0, 1], color='blue', label='Класс 0', alpha=0.7)\n",
        "plt.scatter(X[y == 1, 0], X[y == 1, 1], color='red', label='Класс 1', alpha=0.7)\n",
        "plt.title(\"Синтетические бинарные данные\")\n",
        "plt.xlabel(\"Признак 1\")\n",
        "plt.ylabel(\"Признак 2\")\n",
        "plt.legend()\n",
        "plt.grid(alpha=0.3)\n",
        "plt.show()"
      ],
      "metadata": {
        "id": "GXZ4aege77Yo",
        "colab": {
          "base_uri": "https://localhost:8080/",
          "height": 606
        },
        "outputId": "df6af273-ea28-4c53-8a08-fc7e6e5734b1"
      },
      "execution_count": 10,
      "outputs": [
        {
          "output_type": "display_data",
          "data": {
            "text/plain": [
              "<Figure size 800x600 with 1 Axes>"
            ],
            "image/png": "[encoded data removed]"
          },
          "metadata": {}
        }
      ]
    },
    {
      "cell_type": "markdown",
      "source": [
        "**Задание 6 (1 балл)**\n",
        "\n",
        "Создайте новую переменную `X_ones`, добавив столбец единиц к данным для свободного члена с помощью `numpy` команды `concatenate`. Разбейте данные на тренировочную и тестовую выборки, выделив 20% данных под тестирование. Инициализируйте веса `weights` случайным образом."
      ],
      "metadata": {
        "id": "9elAF0IJxoKa"
      }
    },
    {
      "cell_type": "code",
      "source": [
        "from sklearn.model_selection import train_test_split\n",
        "# Не удаляйте и не меняйте seed\n",
        "np.random.seed(21)\n",
        "\n",
        "# НАЧАЛО ВАШЕГО РЕШЕНИЯ\n",
        "X_ones = np.concatenate([np.ones((X.shape[0], 1)), X[:, 1:]], axis=1)\n",
        "X_train, X_test, y_train, y_test = train_test_split(X_ones, y, test_size=0.2, random_state=21)\n",
        "weights = np.random.randn(X_ones.shape[1])\n",
        "# КОНЕЦ ВАШЕГО РЕШЕНИЯ\n",
        "X_ones.shape"
      ],
      "metadata": {
        "id": "GRhM9kJISB64",
        "colab": {
          "base_uri": "https://localhost:8080/"
        },
        "outputId": "c29fd5fe-d73a-4815-9d88-97dbe2e83f08"
      },
      "execution_count": 11,
      "outputs": [
        {
          "output_type": "execute_result",
          "data": {
            "text/plain": [
              "(200, 3)"
            ]
          },
          "metadata": {},
          "execution_count": 11
        }
      ]
    },
    {
      "cell_type": "code",
      "source": [
        "assert X_ones.shape[1]==3 and X_ones.shape[0]==200\n",
        "assert weights.shape[0]==3"
      ],
      "metadata": {
        "id": "0xGerQDd-e2k"
      },
      "execution_count": 12,
      "outputs": []
    },
    {
      "cell_type": "markdown",
      "source": [
        "**Задание 7 (1 балл)**\n",
        "\n",
        "Обучите модель и предскажите значения для тестовой выборки. Вычислите значение функции потерь для тестовой выборки, `test_cost`.\n",
        "\n",
        "*Hint!* Не забудьте сигмоиду ;)"
      ],
      "metadata": {
        "id": "S89lM8R4_cyZ"
      }
    },
    {
      "cell_type": "code",
      "source": [
        "# НАЧАЛО ВАШЕГО РЕШЕНИЯ\n",
        "weights = gradient_descent(X_train, y_train, weights, learning_rate=0.03, num_iterations=1000)\n",
        "y_pred_test = sigmoid(np.dot(X_test, weights))\n",
        "test_cost = compute_cost(y_test, y_pred_test)\n",
        "# КОНЕЦ ВАШЕГО РЕШЕНИЯ"
      ],
      "metadata": {
        "colab": {
          "base_uri": "https://localhost:8080/"
        },
        "id": "QxyONJqO_bCk",
        "outputId": "c60d942a-9198-4d75-b5a0-9fbe662c2e98"
      },
      "execution_count": 13,
      "outputs": [
        {
          "output_type": "stream",
          "name": "stdout",
          "text": [
            "Iteration 0: Loss = 0.9581295956505766\n",
            "Iteration 100: Loss = 0.4759107708578021\n",
            "Iteration 200: Loss = 0.40123196572580816\n",
            "Iteration 300: Loss = 0.37926038070548745\n",
            "Iteration 400: Loss = 0.3695927005432327\n",
            "Iteration 500: Loss = 0.36448002934784407\n",
            "Iteration 600: Loss = 0.3614990269486918\n",
            "Iteration 700: Loss = 0.35965343069349043\n",
            "Iteration 800: Loss = 0.3584633276633398\n",
            "Iteration 900: Loss = 0.3576730706800657\n"
          ]
        }
      ]
    },
    {
      "cell_type": "code",
      "source": [
        "assert np.isclose(test_cost, 0.3, atol=0.01)"
      ],
      "metadata": {
        "id": "2gOUhtCHCfdG"
      },
      "execution_count": 14,
      "outputs": []
    },
    {
      "cell_type": "markdown",
      "source": [
        "## Часть 2. Реализация алгоритма бинарной классификации sklearn. Сравнение результатов."
      ],
      "metadata": {
        "id": "5GuwTkXREvj0"
      }
    },
    {
      "cell_type": "markdown",
      "source": [
        "**Задание 8 (1 балл)**\n",
        "\n",
        "Реализуйте обучение на тех же данных с помощью готовой функции `LogisticRegression` из `sklearn.linear_model`. Предскажите вероятности для тестовой выборки с помощью метода `predict_proba` и оцените качество обучения при помощи `log_loss` из `sklearn.metrics`. Запишите значение функции потерь в переменную `cost_sklearn`."
      ],
      "metadata": {
        "id": "lIbR7L-NFbjS"
      }
    },
    {
      "cell_type": "code",
      "source": [
        "from sklearn.linear_model import LogisticRegression\n",
        "from sklearn.metrics import log_loss\n",
        "\n",
        "# НАЧАЛО ВАШЕГО РЕШЕНИЯ\n",
        "log_reg = LogisticRegression(max_iter=1000)\n",
        "log_reg.fit(X_train, y_train)\n",
        "y_pred_proba = log_reg.predict_proba(X_test)[:, 1]\n",
        "cost_sklearn = log_loss(y_test, y_pred_proba)\n",
        "# КОНЕЦ ВАШЕГО РЕШЕНИЯ"
      ],
      "metadata": {
        "id": "yxAt028LEv4F"
      },
      "execution_count": 15,
      "outputs": []
    },
    {
      "cell_type": "code",
      "source": [
        "assert np.isclose(cost_sklearn, 0.3, atol=0.01)"
      ],
      "metadata": {
        "id": "cpuBZ9I6Gh5C"
      },
      "execution_count": 16,
      "outputs": []
    },
    {
      "cell_type": "markdown",
      "source": [
        "Обратите внимание, что мы получили схожие значения функций потерь обоими методами.\n",
        "Теперь мы можем перейти к многоклассовой классификации."
      ],
      "metadata": {
        "id": "1qiLd8iMGp7y"
      }
    },
    {
      "cell_type": "markdown",
      "source": [
        "## Часть 3. Реализация алгоритма многоклассовой классификации на примере данных `digits`.\n",
        "\n"
      ],
      "metadata": {
        "id": "3K8qktCJuMB5"
      }
    },
    {
      "cell_type": "markdown",
      "source": [
        "Теперь, когда мы разобрались с тем, как работает обучение модели бинарной классификации, мы можем перейти к проблеме многих классов. В качестве примера, рассмотрим задачу классификации рукописных цифр из классического набора данных `digits`. Первым шагом необходимо загрузить данные. Мы будем использовать функцию `load_digits` из модуля `sklearn.datasets`, которая загрузит набор данных `digits` с цифрами от 0 до 9."
      ],
      "metadata": {
        "id": "g2_025qTv4kZ"
      }
    },
    {
      "cell_type": "code",
      "execution_count": 17,
      "metadata": {
        "deletable": false,
        "editable": false,
        "nbgrader": {
          "cell_type": "code",
          "checksum": "3329526413375c3a5ce82d7a8badf554",
          "grade": false,
          "grade_id": "cell-dc48db25ce0a4632",
          "locked": true,
          "schema_version": 3,
          "solution": false,
          "task": false
        },
        "id": "2cldPSWPm5SV"
      },
      "outputs": [],
      "source": [
        "from sklearn.datasets import load_digits\n",
        "from sklearn.metrics import accuracy_score, precision_score, recall_score, f1_score\n",
        "import matplotlib.pyplot as plt\n",
        "\n",
        "digits = load_digits()\n",
        "X = digits.data # изображения, преобразованные из матрицы (8, 8) в вектор (64,)\n",
        "y = digits.target"
      ]
    },
    {
      "cell_type": "markdown",
      "metadata": {
        "deletable": false,
        "editable": false,
        "nbgrader": {
          "cell_type": "markdown",
          "checksum": "b1815bf5d77a55487e5dc78b157621c6",
          "grade": false,
          "grade_id": "cell-c2e5221eda286ef9",
          "locked": true,
          "schema_version": 3,
          "solution": false,
          "task": false
        },
        "id": "zpWahM82m5SV"
      },
      "source": [
        "Для визуализации цифр из набора данных, загруженного с помощью библиотеки scikit-learn, можно использовать функцию `imshow() `библиотеки Matplotlib."
      ]
    },
    {
      "cell_type": "code",
      "execution_count": 18,
      "metadata": {
        "deletable": false,
        "editable": false,
        "nbgrader": {
          "cell_type": "code",
          "checksum": "68d6357f48473319a0b66b00bd3d0204",
          "grade": false,
          "grade_id": "cell-e9aa8c506f284875",
          "locked": true,
          "schema_version": 3,
          "solution": false,
          "task": false
        },
        "colab": {
          "base_uri": "https://localhost:8080/",
          "height": 410
        },
        "id": "oF6tYNyLm5SW",
        "outputId": "1ada65bc-d167-42d3-8dc3-e658247c773d"
      },
      "outputs": [
        {
          "output_type": "display_data",
          "data": {
            "text/plain": [
              "<Figure size 1000x600 with 10 Axes>"
            ],
            "image/png": "[encoded data removed]"
          },
          "metadata": {}
        }
      ],
      "source": [
        "# Визуализация нескольких случайных изображений цифр\n",
        "indices = np.random.choice(len(X), 10, replace=False)\n",
        "random_digits = X[indices]\n",
        "\n",
        "# Создаём сетку 5x2 для отображения изображений\n",
        "fig, axes = plt.subplots(nrows=2, ncols=5, figsize=(10, 6))\n",
        "\n",
        "# Строим картинки в каждой ячейке сетки\n",
        "for i, ax in enumerate(axes.flat):\n",
        "    ax.imshow(random_digits[i].reshape((8,8)), cmap='gray')\n",
        "    ax.axis('off')  # Убираем оси\n",
        "\n",
        "# Эта команда помогает избегать наложений объектов графика\n",
        "plt.tight_layout()\n",
        "plt.show()"
      ]
    },
    {
      "cell_type": "markdown",
      "metadata": {
        "deletable": false,
        "editable": false,
        "nbgrader": {
          "cell_type": "markdown",
          "checksum": "892b14072309db9fdc13ffc24d4b60dd",
          "grade": false,
          "grade_id": "cell-72972e0fb60029b1",
          "locked": true,
          "schema_version": 3,
          "solution": false,
          "task": false
        },
        "id": "5i8hCYecm5SW"
      },
      "source": [
        "Как обычно, необходимо разделить данные на обучающую и тестовую выборки:"
      ]
    },
    {
      "cell_type": "code",
      "execution_count": 19,
      "metadata": {
        "deletable": false,
        "editable": false,
        "nbgrader": {
          "cell_type": "code",
          "checksum": "e47fee4b5879a5bb7708cb6a783f99cf",
          "grade": false,
          "grade_id": "cell-7f82013d663dd86f",
          "locked": true,
          "schema_version": 3,
          "solution": false,
          "task": false
        },
        "id": "Z_NidS4Im5SW"
      },
      "outputs": [],
      "source": [
        "from sklearn.model_selection import train_test_split\n",
        "\n",
        "X_train, X_test, y_train, y_test = train_test_split(X, y, test_size=0.2, random_state=21)"
      ]
    },
    {
      "cell_type": "markdown",
      "metadata": {
        "deletable": false,
        "editable": false,
        "nbgrader": {
          "cell_type": "markdown",
          "checksum": "1f60fe43b5949f3b67658703cbd02f95",
          "grade": false,
          "grade_id": "cell-96d54fd4782001f5",
          "locked": true,
          "schema_version": 3,
          "solution": false,
          "task": false
        },
        "id": "4tF3iC9Tm5SX"
      },
      "source": [
        "**Задание 9 (1 балл)**\n",
        "\n",
        "Создайте по экземпляру класса `LogisticRegression` (`sklearn.linear_model`) и `SVC` (`sklearn.svm`). Внимательно почитайте официальную [документацию OneVsRestClassifier](https://scikit-learn.org/1.5/modules/generated/sklearn.multiclass.OneVsRestClassifier.html), обратите внимание на то, какие аргументы принимает этот класс. Назовите их `softmax_model` и `ovr_model`, соответственно. Обучите обе модели на данных MNIST. Сделайте предсказания для тестовой выборки."
      ]
    },
    {
      "cell_type": "code",
      "execution_count": 20,
      "metadata": {
        "deletable": false,
        "nbgrader": {
          "cell_type": "code",
          "checksum": "ea4f096280b3f8ecbcb99817022b06ab",
          "grade": false,
          "grade_id": "cell-6773ed1eb8bcf30c",
          "locked": false,
          "schema_version": 3,
          "solution": true,
          "task": false
        },
        "id": "iu-8KGpwm5SX"
      },
      "outputs": [],
      "source": [
        "import numpy as np\n",
        "from sklearn.datasets import fetch_openml\n",
        "from sklearn.linear_model import LogisticRegression\n",
        "from sklearn.svm import SVC\n",
        "from sklearn.model_selection import train_test_split\n",
        "from sklearn.metrics import accuracy_score, log_loss\n",
        "\n",
        "np.random.seed(21)\n",
        "\n",
        "# НАЧАЛО ВАШЕГО РЕШЕНИЯ\n",
        "softmax_model = LogisticRegression(max_iter=1000, solver='lbfgs')\n",
        "softmax_model.fit(X_train, y_train)\n",
        "y_pred_softmax = softmax_model.predict(X_test)\n",
        "\n",
        "svm_models = []\n",
        "num_classes = len(np.unique(y_train))\n",
        "\n",
        "for class_label in range(num_classes):\n",
        "    binary_target = (y_train == class_label).astype(int)\n",
        "    svm_model = SVC(max_iter=1000, probability=True)\n",
        "    svm_model.fit(X_train, binary_target)\n",
        "    svm_models.append(svm_model)\n",
        "\n",
        "y_pred_ovr_probs = np.zeros((len(X_test), num_classes))\n",
        "for i, model in enumerate(svm_models):\n",
        "    y_pred_ovr_probs[:, i] = model.predict_proba(X_test)[:, 1]\n",
        "\n",
        "y_pred_ovr = np.argmax(y_pred_ovr_probs, axis=1)\n",
        "svm_model = svm_models[0]\n",
        "# КОНЕЦ ВАШЕГО РЕШЕНИЯ"
      ]
    },
    {
      "cell_type": "code",
      "execution_count": 21,
      "metadata": {
        "deletable": false,
        "editable": false,
        "nbgrader": {
          "cell_type": "code",
          "checksum": "8d75dcf60bfd26b40301ea2cce4c33c7",
          "grade": true,
          "grade_id": "cell-920798c03be6c966",
          "locked": true,
          "points": 1,
          "schema_version": 3,
          "solution": false,
          "task": false
        },
        "id": "oVvEOT6om5SX"
      },
      "outputs": [],
      "source": [
        "assert type(softmax_model) == LogisticRegression and softmax_model.max_iter == 1000\n",
        "assert type(svm_model) == SVC and svm_model.max_iter == 1000"
      ]
    },
    {
      "cell_type": "markdown",
      "metadata": {
        "deletable": false,
        "editable": false,
        "nbgrader": {
          "cell_type": "markdown",
          "checksum": "5d12ea9ff32d5d2c9faf0b3ee62cf1b6",
          "grade": false,
          "grade_id": "cell-1eea5bfe58e8bd90",
          "locked": true,
          "schema_version": 3,
          "solution": false,
          "task": false
        },
        "id": "dlemY_jxm5SX"
      },
      "source": [
        "**Задание 10 (1 балл)**\n",
        "\n",
        "Вычислите и сравните основные метрики классификации. Для вычисления `precision`, `recall` и `F1-score` воспользуйтесь готовыми метриками из библиотки `sklearn.metrics` (найдите названия нужных функций самостоятельно). Укажите аргумент `average='macro'` для вычисления метрик усреднённых по категориям. Сохраните значения метрик в переменные:\n",
        "\n",
        "* `softmax_accuracy_score`\n",
        "* `softmax_precision_score`\n",
        "* `softmax_recall_score`\n",
        "* `softmax_f1_score`\n",
        "\n",
        "\n",
        "* `svm_accuracy_score`\n",
        "* `svm_precision_score`\n",
        "* `svm_recall_score`\n",
        "* `svm_f1_score`\n",
        "\n"
      ]
    },
    {
      "cell_type": "code",
      "execution_count": 22,
      "metadata": {
        "deletable": false,
        "nbgrader": {
          "cell_type": "code",
          "checksum": "e0619735849ec0626bd2f861da88052d",
          "grade": false,
          "grade_id": "cell-caefb1f3ef2e2ebd",
          "locked": false,
          "schema_version": 3,
          "solution": true,
          "task": false
        },
        "id": "12Qe16XFm5SY"
      },
      "outputs": [],
      "source": [
        "# НАЧАЛО ВАШЕГО РЕШЕНИЯ\n",
        "softmax_accuracy_score = accuracy_score(y_test, y_pred_softmax)\n",
        "softmax_precision_score = precision_score(y_test, y_pred_softmax, average='macro')\n",
        "softmax_recall_score = recall_score(y_test, y_pred_softmax, average='macro')\n",
        "softmax_f1_score = f1_score(y_test, y_pred_softmax, average='macro')\n",
        "\n",
        "svm_accuracy_score = accuracy_score(y_test, y_pred_ovr)\n",
        "svm_precision_score = precision_score(y_test, y_pred_ovr, average='macro')\n",
        "svm_recall_score = recall_score(y_test, y_pred_ovr, average='macro')\n",
        "svm_f1_score = f1_score(y_test, y_pred_ovr, average='macro')\n",
        "# КОНЕЦ ВАШЕГО РЕШЕНИЯ"
      ]
    },
    {
      "cell_type": "code",
      "source": [
        "# Качество по всем метрикам должно быть выше 95%\n",
        "print(f\"softmax_accuracy_score: {softmax_accuracy_score}\")\n",
        "print(f\"softmax_precision_score: {softmax_precision_score}\")\n",
        "print(f\"softmax_recall_score: {softmax_recall_score}\")\n",
        "print(f\"softmax_f1_score: {softmax_f1_score}\")\n",
        "\n",
        "print(f\"svm_accuracy_score: {svm_accuracy_score}\")\n",
        "print(f\"svm_precision_score: {svm_precision_score}\")\n",
        "print(f\"svm_recall_score: {svm_recall_score}\")\n",
        "print(f\"svm_f1_score: {svm_f1_score}\")"
      ],
      "metadata": {
        "id": "D5IaqiyHTlPV",
        "outputId": "798a8a82-64fa-4f7e-f01d-5c7a6e026181",
        "colab": {
          "base_uri": "https://localhost:8080/"
        }
      },
      "execution_count": 23,
      "outputs": [
        {
          "output_type": "stream",
          "name": "stdout",
          "text": [
            "softmax_accuracy_score: 0.975\n",
            "softmax_precision_score: 0.9755891749496401\n",
            "softmax_recall_score: 0.975590939649223\n",
            "softmax_f1_score: 0.9753951883808829\n",
            "svm_accuracy_score: 0.9888888888888889\n",
            "svm_precision_score: 0.9903496609516329\n",
            "svm_recall_score: 0.9873891625615764\n",
            "svm_f1_score: 0.9886730040612441\n"
          ]
        }
      ]
    },
    {
      "cell_type": "code",
      "source": [
        "assert softmax_accuracy_score > 0.95\n",
        "assert softmax_precision_score > 0.95\n",
        "assert softmax_recall_score > 0.95\n",
        "assert softmax_f1_score > 0.95\n",
        "\n",
        "assert svm_accuracy_score > 0.95\n",
        "assert svm_precision_score > 0.95\n",
        "assert svm_recall_score > 0.95\n",
        "assert svm_f1_score > 0.95"
      ],
      "metadata": {
        "id": "y-iGCxHmTm3J"
      },
      "execution_count": 24,
      "outputs": []
    },
    {
      "cell_type": "markdown",
      "source": [
        "# Поздравляем!\n",
        "В этом домашнем задании вы вручную реализовали алгоритм логистической регрессии с помощью градиентного спуска. Вы углубили навыки пользования библиотекой `sklearn` для обучения моделей, создания синтетических данных и вычисления метрик оценки качества моделей."
      ],
      "metadata": {
        "id": "HQgXk7ZSTsPH"
      }
    }
  ]
}