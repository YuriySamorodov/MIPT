{
  "nbformat": 4,
  "nbformat_minor": 0,
  "metadata": {
    "colab": {
      "provenance": [],
      "authorship_tag": "ABX9TyOy8o4hYpZcNwgg8aWa5ZjY",
      "include_colab_link": true
    },
    "kernelspec": {
      "name": "python3",
      "display_name": "Python 3"
    },
    "language_info": {
      "name": "python"
    }
  },
  "cells": [
    {
      "cell_type": "markdown",
      "metadata": {
        "id": "view-in-github",
        "colab_type": "text"
      },
      "source": [
        "<a href=\"https://colab.research.google.com/github/YuriySamorodov/MIPT/blob/main/%D0%A1%D0%B5%D0%BC%D0%B5%D1%81%D1%82%D1%80%202/%D0%A6%D0%9A/%D0%9F%D1%80%D0%BE%D0%B4%D0%B2%D0%B8%D0%BD%D1%83%D1%82%D1%8B%D0%B5%20%D0%9C%D0%B5%D1%82%D0%BE%D0%B4%D1%8B%20%D0%9C%D0%B0%D1%88%D0%B8%D0%BD%D0%BD%D0%BE%D0%B3%D0%BE%20%D0%9E%D0%B1%D1%83%D1%87%D0%B5%D0%BD%D0%B8%D1%8F/HW_6/%D0%A0%D0%B5%D1%88%D0%B0%D1%8E%D1%89%D0%B8%D0%B5_%D0%B4%D0%B5%D1%80%D0%B5%D0%B2%D1%8C%D1%8F.ipynb\" target=\"_parent\"><img src=\"https://colab.research.google.com/assets/colab-badge.svg\" alt=\"Open In Colab\"/></a>"
      ]
    },
    {
      "cell_type": "code",
      "execution_count": 1,
      "metadata": {
        "id": "CW6ioLjf80SU"
      },
      "outputs": [],
      "source": [
        "import pandas as pd\n",
        "\n",
        "# Считываем данные\n",
        "df = pd.read_csv('light_music.csv')\n"
      ]
    },
    {
      "cell_type": "code",
      "source": [
        "from sklearn.model_selection import train_test_split\n",
        "\n",
        "# Разделяем данные на признаки и целевую переменную\n",
        "X = df.drop(columns=['popularity'])\n",
        "y = df['popularity']\n",
        "\n",
        "# Разбиваем данные на тренировочную и тестовую выборки\n",
        "X_train, X_test, y_train, y_test = train_test_split(X, y, test_size=0.2, random_state=1)\n"
      ],
      "metadata": {
        "id": "fiMqjidl87Oo"
      },
      "execution_count": 2,
      "outputs": []
    },
    {
      "cell_type": "code",
      "source": [
        "from sklearn.preprocessing import OrdinalEncoder\n",
        "\n",
        "# Проверяем, есть ли категориальные строковые признаки\n",
        "categorical_columns = X_train.select_dtypes(include=['object']).columns\n",
        "\n",
        "if len(categorical_columns) > 0:\n",
        "    encoder = OrdinalEncoder()\n",
        "    X_train[categorical_columns] = encoder.fit_transform(X_train[categorical_columns])\n",
        "    X_test[categorical_columns] = encoder.transform(X_test[categorical_columns])\n"
      ],
      "metadata": {
        "id": "ufZI_3F_8-eW"
      },
      "execution_count": 3,
      "outputs": []
    },
    {
      "cell_type": "code",
      "source": [
        "train_shape = X_train.shape\n",
        "test_shape = X_test.shape\n",
        "\n",
        "print(f\"Размерность тренировочной выборки: {train_shape}\")\n",
        "print(f\"Размерность тестовой выборки: {test_shape}\")\n"
      ],
      "metadata": {
        "colab": {
          "base_uri": "https://localhost:8080/"
        },
        "id": "vtgzPX6A9BfT",
        "outputId": "77fa4841-aa6f-4d5a-ddbc-9734c802b46b"
      },
      "execution_count": 4,
      "outputs": [
        {
          "output_type": "stream",
          "name": "stdout",
          "text": [
            "Размерность тренировочной выборки: (4000, 15)\n",
            "Размерность тестовой выборки: (1000, 15)\n"
          ]
        }
      ]
    },
    {
      "cell_type": "code",
      "source": [
        "from sklearn.tree import DecisionTreeRegressor\n",
        "from sklearn.metrics import mean_squared_error\n",
        "\n",
        "# Создаем модель дерева решений\n",
        "model = DecisionTreeRegressor(random_state=1)\n",
        "\n",
        "# Обучаем модель на тренировочных данных\n",
        "model.fit(X_train, y_train)\n",
        "\n",
        "# Делаем предсказания на тестовых данных\n",
        "y_pred = model.predict(X_test)\n",
        "\n",
        "# Считаем MSE на тестовых данных\n",
        "mse = mean_squared_error(y_test, y_pred)\n",
        "print(f\"MSE на тестовых данных: {mse}\")\n"
      ],
      "metadata": {
        "colab": {
          "base_uri": "https://localhost:8080/"
        },
        "id": "H4QZ9uF79iDg",
        "outputId": "0f0d8479-f664-4c9c-ab88-136bde85eb2a"
      },
      "execution_count": 5,
      "outputs": [
        {
          "output_type": "stream",
          "name": "stdout",
          "text": [
            "MSE на тестовых данных: 899.3786557955538\n"
          ]
        }
      ]
    },
    {
      "cell_type": "code",
      "source": [
        "y_train_pred = model.predict(X_train)\n",
        "mse_train = mean_squared_error(y_train, y_train_pred)\n",
        "print(f\"MSE на тренировочных данных: {mse_train}\")"
      ],
      "metadata": {
        "colab": {
          "base_uri": "https://localhost:8080/"
        },
        "id": "YF0agRDr9i3-",
        "outputId": "f4c3a8d6-a752-4bb1-d154-0cdbc615f1df"
      },
      "execution_count": 6,
      "outputs": [
        {
          "output_type": "stream",
          "name": "stdout",
          "text": [
            "MSE на тренировочных данных: 20.26219201619459\n"
          ]
        }
      ]
    },
    {
      "cell_type": "code",
      "source": [
        "from sklearn.tree import DecisionTreeRegressor\n",
        "from sklearn.metrics import mean_squared_error\n",
        "\n",
        "best_mse = float('inf')\n",
        "best_depth = 0\n",
        "\n",
        "for depth in range(1, 26):\n",
        "    # Создаем модель дерева решений с текущей глубиной\n",
        "    model = DecisionTreeRegressor(max_depth=depth, random_state=1)\n",
        "\n",
        "    # Обучаем модель на тренировочных данных\n",
        "    model.fit(X_train, y_train)\n",
        "\n",
        "    # Делаем предсказания на тестовых данных\n",
        "    y_pred = model.predict(X_test)\n",
        "\n",
        "    # Считаем MSE на тестовых данных\n",
        "    mse = mean_squared_error(y_test, y_pred)\n",
        "\n",
        "    # Если MSE лучше, чем текущее лучшее значение, обновляем лучшую глубину и MSE\n",
        "    if mse < best_mse:\n",
        "        best_mse = mse\n",
        "        best_depth = depth\n",
        "\n",
        "print(f\"Лучшая глубина дерева: {best_depth}\")\n",
        "print(f\"Лучшее значение MSE на тесте: {round(best_mse, 2)}\")"
      ],
      "metadata": {
        "colab": {
          "base_uri": "https://localhost:8080/"
        },
        "id": "oZV6vr8v-Qz5",
        "outputId": "da178635-c6d5-4f90-941a-2c44b89d3942"
      },
      "execution_count": 7,
      "outputs": [
        {
          "output_type": "stream",
          "name": "stdout",
          "text": [
            "Лучшая глубина дерева: 10\n",
            "Лучшее значение MSE на тесте: 705.91\n"
          ]
        }
      ]
    },
    {
      "cell_type": "code",
      "source": [
        "# Преобразуем целевой признак в бинарный вид\n",
        "y_train_bin = (y_train > 50).astype(int)\n",
        "y_test_bin = (y_test > 50).astype(int)"
      ],
      "metadata": {
        "id": "pOe5oJaJ-8fv"
      },
      "execution_count": 8,
      "outputs": []
    },
    {
      "cell_type": "code",
      "source": [
        "# Соотношение классов на обучающей выборке\n",
        "train_class_1 = sum(y_train_bin == 1)\n",
        "train_class_0 = sum(y_train_bin == 0)\n",
        "\n",
        "# Соотношение классов на тестовой выборке\n",
        "test_class_1 = sum(y_test_bin == 1)\n",
        "test_class_0 = sum(y_test_bin == 0)\n",
        "\n",
        "print(f\"Объектов 1 класса на обучении: {train_class_1}\")\n",
        "print(f\"Объектов 0 класса на обучении: {train_class_0}\")\n",
        "print(f\"Объектов 1 класса на тесте: {test_class_1}\")\n",
        "print(f\"Объектов 0 класса на тесте: {test_class_0}\")"
      ],
      "metadata": {
        "colab": {
          "base_uri": "https://localhost:8080/"
        },
        "id": "XWBoBOD6-9Xv",
        "outputId": "96edb3f7-2df0-4bb4-8447-4bca95265151"
      },
      "execution_count": 9,
      "outputs": [
        {
          "output_type": "stream",
          "name": "stdout",
          "text": [
            "Объектов 1 класса на обучении: 1627\n",
            "Объектов 0 класса на обучении: 2373\n",
            "Объектов 1 класса на тесте: 401\n",
            "Объектов 0 класса на тесте: 599\n"
          ]
        }
      ]
    },
    {
      "cell_type": "code",
      "source": [
        "from sklearn.tree import DecisionTreeClassifier\n",
        "from sklearn.metrics import accuracy_score\n",
        "\n",
        "best_accuracy = 0\n",
        "best_depth = 0\n",
        "\n",
        "for depth in range(1, 26):\n",
        "    # Создаем модель дерева решений с текущей глубиной\n",
        "    model = DecisionTreeClassifier(max_depth=depth, random_state=1)\n",
        "\n",
        "    # Обучаем модель на тренировочных данных\n",
        "    model.fit(X_train, y_train_bin)\n",
        "\n",
        "    # Делаем предсказания на тестовых данных\n",
        "    y_pred = model.predict(X_test)\n",
        "\n",
        "    # Считаем accuracy на тестовых данных\n",
        "    accuracy = accuracy_score(y_test_bin, y_pred)\n",
        "\n",
        "    # Если accuracy лучше, чем текущее лучшее значение, обновляем лучшую глубину и accuracy\n",
        "    if accuracy > best_accuracy:\n",
        "        best_accuracy = accuracy\n",
        "        best_depth = depth\n",
        "\n",
        "print(f\"Лучшая глубина дерева: {best_depth}\")\n",
        "print(f\"Лучшее значение accuracy на тесте: {round(best_accuracy, 5)}\")"
      ],
      "metadata": {
        "colab": {
          "base_uri": "https://localhost:8080/"
        },
        "id": "q-N_PBf3_it3",
        "outputId": "84318529-08a9-4c68-d03d-fd7739cb4ab9"
      },
      "execution_count": 11,
      "outputs": [
        {
          "output_type": "stream",
          "name": "stdout",
          "text": [
            "Лучшая глубина дерева: 21\n",
            "Лучшее значение accuracy на тесте: 0.697\n"
          ]
        }
      ]
    },
    {
      "cell_type": "code",
      "source": [
        "# Обучаем модель с лучшей глубиной\n",
        "best_depth = 10  # Замените на значение, полученное в предыдущем задании\n",
        "model = DecisionTreeClassifier(max_depth=best_depth, random_state=1)\n",
        "model.fit(X_train, y_train_bin)\n",
        "\n",
        "# Получаем важности признаков\n",
        "feature_importances = model.feature_importances_\n",
        "\n",
        "# Создаем DataFrame для удобства анализа\n",
        "importance_df = pd.DataFrame({\n",
        "    'Feature': X_train.columns,\n",
        "    'Importance': feature_importances\n",
        "})\n",
        "\n",
        "# Сортируем по важности\n",
        "importance_df = importance_df.sort_values(by='Importance', ascending=False)\n",
        "print(importance_df)"
      ],
      "metadata": {
        "colab": {
          "base_uri": "https://localhost:8080/"
        },
        "id": "uZS6z9dqAEvC",
        "outputId": "96b1a1b2-fe07-4643-ab59-d4ab0963779e"
      },
      "execution_count": 12,
      "outputs": [
        {
          "output_type": "stream",
          "name": "stdout",
          "text": [
            "             Feature  Importance\n",
            "14       track_genre    0.143549\n",
            "8       acousticness    0.101842\n",
            "5           loudness    0.095755\n",
            "0        duration_ms    0.088352\n",
            "11           valence    0.082134\n",
            "9   instrumentalness    0.078435\n",
            "3             energy    0.076570\n",
            "7        speechiness    0.068388\n",
            "10          liveness    0.067458\n",
            "2       danceability    0.061187\n",
            "12             tempo    0.058852\n",
            "4                key    0.039635\n",
            "1           explicit    0.018448\n",
            "13    time_signature    0.014127\n",
            "6               mode    0.005268\n"
          ]
        }
      ]
    }
  ]
}