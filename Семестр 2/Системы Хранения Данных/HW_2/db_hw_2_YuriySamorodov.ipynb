{
 "cells": [
  {
   "cell_type": "markdown",
   "metadata": {},
   "source": [
    "# Основные операторы PostgreSQL #"
   ]
  },
  {
   "cell_type": "markdown",
   "metadata": {},
   "source": [
    "Работу выполнил: Самородов Юрий Сергеевич"
   ]
  },
  {
   "cell_type": "markdown",
   "metadata": {},
   "source": [
    "## Замечания к исходным файлам ##"
   ]
  },
  {
   "cell_type": "markdown",
   "metadata": {},
   "source": [
    "### Неоптимальный тип данных\n",
    "\n"
   ]
  },
  {
   "cell_type": "markdown",
   "metadata": {},
   "source": [
    "\n",
    "Обратил внимание, что значения в поле `list_price` содержат запятые. Из-за этого при импорте данных через скрипт вылетает ошибка:\n",
    "```\n",
    "ERROR:  invalid input syntax for type real: \"71,49\"\n",
    "CONTEXT:  COPY transaction, line 2, column list_price: \"71,49\"\n",
    "```\n",
    "\n",
    "В задании требуется, чтобы в таблице `transaction` тип полей `list_price` и `standard_price` был `float4 (REAL)`:\n",
    "\n",
    "<img src=\"img/float4_req.png\" alt=\"Alt text\" width=\"200\"/>\n",
    "\n",
    "\n",
    "Даннное поле ожидает разделитель \".\" (точка), однако в исходных таблицах данные в этих полях имеют разделитель \",\" (запятая)\n",
    "\n",
    "Через UI DBeaver данные загружаются, ошибки не происходит. Однако запятая оказывается не на своем месте, данные искажаются.\n",
    "\n",
    "Вот данные из оригинального CSV файла:\n",
    "\n",
    "<img src=\"img/wrong_delim_original.png\" alt=\"Alt text\" width=\"500\"/>\n",
    "\n",
    "\n",
    "А вот результат импорта в DBeaver через графический интерфейс:\n",
    "\n",
    "<img src=\"img/wrong_delim_placement.png\" alt=\"Alt text\" width=\"350\"/>\n",
    "\n",
    "\n",
    "Разница на лицо.\n",
    "\n"
   ]
  },
  {
   "cell_type": "markdown",
   "metadata": {},
   "source": [
    "### Проблема пустых значений"
   ]
  },
  {
   "cell_type": "markdown",
   "metadata": {},
   "source": [
    "* Строки, где standard_price - пустое значение удалил, так как нулевой себестоимоси быть не может\n",
    "* Строки, где online_order - пустое значение так же удалил, так как невозможно определить тип транзакции по другим полям\n",
    "* Разделитель в новом файле transaction_cleared - запятая (отличается от оригинального файла)"
   ]
  },
  {
   "cell_type": "markdown",
   "metadata": {},
   "source": [
    "### Дата в в виде текста"
   ]
  },
  {
   "cell_type": "markdown",
   "metadata": {},
   "source": [
    "По условию задачи, поле `DOB` (дата рождения) в таблице `customer` и `transaction_date` в таблице `transaction` должны быть в формате `VARCHAR`:\n",
    "\n",
    "<img src=\"img/date_as_string.png\" alt=\"Alt text\" width=\"500\"/>\n",
    "\n",
    "Однако, это не совсем корректно, так как немного усложняет скрипты.\n",
    "Более правильным подходом было бы хранение даты с форматом DATE , но в рамках данного задания решил конвертировать дату функции `TO_DATE`."
   ]
  },
  {
   "cell_type": "markdown",
   "metadata": {},
   "source": [
    "## Предварительная обработка"
   ]
  },
  {
   "cell_type": "markdown",
   "metadata": {},
   "source": [
    "### Создание таблиц"
   ]
  },
  {
   "cell_type": "markdown",
   "metadata": {},
   "source": [
    "#### customer"
   ]
  },
  {
   "cell_type": "code",
   "execution_count": null,
   "metadata": {
    "vscode": {
     "languageId": "sql"
    }
   },
   "outputs": [],
   "source": [
    "-- Удаляем таблицу, если существует\n",
    "DROP TABLE IF EXISTS customer;\n",
    "\n",
    "--  Создаем таблицу заново\n",
    "CREATE TABLE customer (\n",
    "    -- Базовая информация о клиенте\n",
    "    customer_id INT4 PRIMARY KEY,\n",
    "    first_name VARCHAR(50),\n",
    "    last_name VARCHAR(50),\n",
    "    \n",
    "    -- Персональная информация\n",
    "    gender VARCHAR(30),\n",
    "    dob VARCHAR(50),  -- Дата рождения клиента\n",
    "    \n",
    "    \n",
    "    -- Информация о профессии\n",
    "    job_title VARCHAR(50),\n",
    "    job_industry_category VARCHAR(50),\n",
    "    \n",
    "    -- Финансовое положение клиента\n",
    "    wealth_segment VARCHAR(50),\n",
    "    deceased_indicator VARCHAR(50),\n",
    "    owns_car VARCHAR(30),\n",
    "    \n",
    "    -- Место проживания клиента\n",
    "    address VARCHAR(50),\n",
    "    postcode VARCHAR(30),\n",
    "    state VARCHAR(30),\n",
    "    country VARCHAR(30),\n",
    "    \n",
    "    -- Оценка собственности\n",
    "    property_valuation INT4\n",
    ");\n",
    "\n",
    "-- Добавим комментари к таблице\n",
    "COMMENT ON TABLE customer IS 'Таблица с информацией о клиентах';\n",
    "\n",
    "-- Add column comments\n",
    "COMMENT ON COLUMN customer.customer_id IS 'id клиента';\n",
    "COMMENT ON COLUMN customer.first_name IS 'имя клиента';\n",
    "COMMENT ON COLUMN customer.last_name IS 'фамилия клиента';\n",
    "COMMENT ON COLUMN customer.gender IS 'пол';\n",
    "COMMENT ON COLUMN customer.dob IS 'дата рождения';\n",
    "COMMENT ON COLUMN customer.job_title IS 'профессия';\n",
    "COMMENT ON COLUMN customer.job_industry_category IS 'сфера деятельности';\n",
    "COMMENT ON COLUMN customer.wealth_segment IS 'сегмент благосостояния';\n",
    "COMMENT ON COLUMN customer.deceased_indicator IS 'флаг актуального клиента';\n",
    "COMMENT ON COLUMN customer.owns_car IS 'флаг наличия автомобиля';\n",
    "COMMENT ON COLUMN customer.address IS 'адрес проживания';\n",
    "COMMENT ON COLUMN customer.postcode IS 'почтовый индекс';\n",
    "COMMENT ON COLUMN customer.state IS 'штаты';\n",
    "COMMENT ON COLUMN customer.country IS 'страна проживания';\n",
    "COMMENT ON COLUMN customer.property_valuation IS 'оценка имущества';"
   ]
  },
  {
   "cell_type": "markdown",
   "metadata": {},
   "source": [
    "<img src=\"img/table_create_customer.png\" alt=\"Alt text\" width=\"500\"/>\n"
   ]
  },
  {
   "cell_type": "markdown",
   "metadata": {},
   "source": [
    "#### transaction"
   ]
  },
  {
   "cell_type": "code",
   "execution_count": null,
   "metadata": {
    "vscode": {
     "languageId": "sql"
    }
   },
   "outputs": [],
   "source": [
    "-- Удаляем таблицу, если существует\n",
    "DROP TABLE IF EXISTS transaction;\n",
    "\n",
    "-- Создание таблицы transaction\n",
    "CREATE TABLE transaction (\n",
    "    transaction_id INT4,         -- Уникальный идентификатор транзакции\n",
    "    product_id INT4,            -- Идентификатор продукта\n",
    "    customer_id INT4,           -- Идентификатор клиента\n",
    "    transaction_date VARCHAR(30),-- Дата совершения транзакции\n",
    "    online_order VARCHAR(30),   -- Признак онлайн-заказа\n",
    "    order_status VARCHAR(30),   -- Статус заказа\n",
    "    brand VARCHAR(30),          -- Бренд продукта\n",
    "    product_line VARCHAR(30),   -- Линейка продуктов\n",
    "    product_class VARCHAR(30),  -- Класс продукта\n",
    "    product_size VARCHAR(30),   -- Размер продукта\n",
    "    list_price FLOAT4,         -- Цена по прайс-листу\n",
    "    standard_cost FLOAT4        -- Стандартная себестоимость продукта\n",
    ");\n",
    "\n",
    "\n",
    "-- Добавим комментарий к таблице\n",
    "COMMENT ON TABLE transaction IS 'Таблица с информацией о транзакциях';\n",
    "\n",
    "-- Добавим комментарии к столбцам\n",
    "COMMENT ON COLUMN transaction.transaction_id IS 'Уникальный идентификатор транзакции';\n",
    "COMMENT ON COLUMN transaction.product_id IS 'Идентификатор продукта';\n",
    "COMMENT ON COLUMN transaction.customer_id IS 'Идентификатор клиента';\n",
    "COMMENT ON COLUMN transaction.transaction_date IS 'Дата совершения транзакции';\n",
    "COMMENT ON COLUMN transaction.online_order IS 'Признак онлайн-заказа';\n",
    "COMMENT ON COLUMN transaction.order_status IS 'Статус заказа';\n",
    "COMMENT ON COLUMN transaction.brand IS 'Бренд продукта';\n",
    "COMMENT ON COLUMN transaction.product_line IS 'Линейка продуктов';\n",
    "COMMENT ON COLUMN transaction.product_class IS 'Класс продукта';\n",
    "COMMENT ON COLUMN transaction.product_size IS 'Размер продукта';\n",
    "COMMENT ON COLUMN transaction.list_price IS 'Цена по прайс-листу';\n",
    "COMMENT ON COLUMN transaction.standard_cost IS 'Стандартная себестоимость продукта';"
   ]
  },
  {
   "cell_type": "markdown",
   "metadata": {},
   "source": [
    "<img src=\"img/table_create_transactions.png\" alt=\"Alt text\" width=\"500\"/>"
   ]
  },
  {
   "cell_type": "markdown",
   "metadata": {},
   "source": [
    "### Очистка таблиц"
   ]
  },
  {
   "cell_type": "code",
   "execution_count": null,
   "metadata": {
    "vscode": {
     "languageId": "sql"
    }
   },
   "outputs": [],
   "source": [
    "-- Удаляем данные\n",
    "/*\n",
    "Обратил внимание, что значения в поле list_price содержат запятые. Из-за этого при импорте данных через скрипт вылетает ошибка:\n",
    "ERROR:  invalid input syntax for type real: \"71,49\"\n",
    "CONTEXT:  COPY transaction, line 2, column list_price: \"71,49\"\n",
    "\n",
    "При импорте в UI меняется положение запятой, а, следовательно, искажаются данные.\n",
    " */\n",
    "\n",
    "\ttruncate table customer;\n",
    "\ttruncate table transaction;"
   ]
  },
  {
   "cell_type": "markdown",
   "metadata": {},
   "source": [
    "### Загрузка данных"
   ]
  },
  {
   "cell_type": "markdown",
   "metadata": {},
   "source": [
    "#### customer"
   ]
  },
  {
   "cell_type": "code",
   "execution_count": null,
   "metadata": {
    "vscode": {
     "languageId": "sql"
    }
   },
   "outputs": [],
   "source": [
    "-- Импортируем данные\n",
    "\t-- в таблицу customer\n",
    "\t\tCOPY customer\n",
    "\t\tFROM '/Users/yuriy.samorodov/Documents/МФТИ/Семестр 2/Системы Хранения Данных/HW_2/customer.csv' \n",
    "\t\tDELIMITER ';' \n",
    "\t\tCSV HEADER;\n",
    "\n"
   ]
  },
  {
   "cell_type": "markdown",
   "metadata": {},
   "source": [
    "<img src=\"img/import_customer.png\" alt=\"Alt text\" width=\"500\"/>\n",
    "<br>\n",
    "<img src=\"img/import_customer_2.png\" alt=\"Alt text\" width=\"500\"/>"
   ]
  },
  {
   "cell_type": "markdown",
   "metadata": {},
   "source": [
    "#### transaction"
   ]
  },
  {
   "cell_type": "code",
   "execution_count": null,
   "metadata": {
    "vscode": {
     "languageId": "sql"
    }
   },
   "outputs": [],
   "source": [
    "-- в таблицу transaction\n",
    "\n",
    "/*\n",
    "float(4) aka real требует точку в качестве разделителя.\n",
    "Потому нужно либо поменять тип полей list_price и standrard_cost с FLOAT4 (REAL) на NUMERIC или DECIMAL,\n",
    "но это не удовлетворяет условиям задачи\n",
    "Либо поменять разделитель прямо в файле, но это неинтересно, так как изменит датасет.\n",
    "Либо, нужна кастомная функция для преобразования запятых в точки, \n",
    "но она требует создания временной таблицы\n",
    "Поэтому будем импортировать при помощи sed с заменой запятых на точки в режиме реального времени\n",
    "*/\n",
    "\n",
    "/*\n",
    "    * Строки, где standard_price - пустое значение удалил, так как нулевой себестоимоси быть не может\n",
    "    * Строки, где online_order - пустое значение так же удалил, так как невозможно определить тип транзакции по другим полям\n",
    "    * Разделитель в новом файле transaction_cleared - запятая (отличается от оригинального файла)\n",
    "    * \t \n",
    "    */\n",
    "\n",
    "    COPY transaction\n",
    "    FROM PROGRAM 'sed ''s/,/\\./g'' ''/Users/yuriy.samorodov/Documents/МФТИ/Семестр 2/Системы Хранения Данных/HW_2/transaction_csv_clear.csv'''\n",
    "    WITH (FORMAT csv, DELIMITER ';',  header);\n"
   ]
  },
  {
   "cell_type": "markdown",
   "metadata": {},
   "source": [
    "<img src=\"img/import_transaction_1.png\" alt=\"Alt text\" width=\"500\"/>\n",
    "<br>\n",
    "<img src=\"img/import_transaction_2.png\" alt=\"Alt text\" width=\"500\"/>\n"
   ]
  },
  {
   "cell_type": "markdown",
   "metadata": {},
   "source": [
    "## Задачи и решения"
   ]
  },
  {
   "cell_type": "markdown",
   "metadata": {},
   "source": [
    "### (1 балл) Вывести все уникальные бренды, у которых стандартная стоимость выше 1500 долларов.\n"
   ]
  },
  {
   "cell_type": "code",
   "execution_count": null,
   "metadata": {
    "vscode": {
     "languageId": "sql"
    }
   },
   "outputs": [],
   "source": [
    "SELECT DISTINCT brand\n",
    "FROM transaction\n",
    "WHERE standard_cost > 1500;"
   ]
  },
  {
   "cell_type": "markdown",
   "metadata": {},
   "source": [
    "<img src=\"img/task01_dist_brands.png\" alt=\"Alt text\" width=\"200\"/>\n"
   ]
  },
  {
   "cell_type": "markdown",
   "metadata": {},
   "source": [
    "### (1 балл) Вывести все подтвержденные транзакции за период '2017-04-01' по '2017-04-09' включительно.\n"
   ]
  },
  {
   "cell_type": "code",
   "execution_count": null,
   "metadata": {
    "vscode": {
     "languageId": "sql"
    }
   },
   "outputs": [],
   "source": [
    "SELECT *\n",
    "FROM transaction\n",
    "WHERE order_status = 'Approved'\n",
    "    /* данные в исходной таблице хранятся в текстовом виде ДД.ММ.ГГГГ,\n",
    "     * поэтому дата требует конвертации в правильный формат\n",
    "     */\n",
    "    AND TO_DATE(transaction_date, 'DD.MM.YYYY') BETWEEN '2017-04-01' AND '2017-04-09';"
   ]
  },
  {
   "cell_type": "markdown",
   "metadata": {},
   "source": [
    "<img src=\"img/task02_approved_transactions.png\" alt=\"Alt text\" width=\"500\"/>"
   ]
  },
  {
   "cell_type": "markdown",
   "metadata": {},
   "source": [
    "### (1 балл) Вывести все профессии у клиентов из сферы IT или Financial Services, которые начинаются с фразы 'Senior'.\n"
   ]
  },
  {
   "cell_type": "code",
   "execution_count": null,
   "metadata": {
    "vscode": {
     "languageId": "sql"
    }
   },
   "outputs": [],
   "source": [
    "SELECT DISTINCT job_title\n",
    "FROM customer\n",
    "WHERE job_industry_category IN ('IT', 'Financial Services')\n",
    "    AND job_title LIKE 'Senior%';\n"
   ]
  },
  {
   "cell_type": "markdown",
   "metadata": {},
   "source": [
    "<img src=\"img/task03_seniors.png\" alt=\"Alt text\" width=\"500\"/>"
   ]
  },
  {
   "cell_type": "markdown",
   "metadata": {},
   "source": [
    "### (1 балл) Вывести все бренды, которые закупают клиенты, работающие в сфере Financial Services\n"
   ]
  },
  {
   "cell_type": "code",
   "execution_count": null,
   "metadata": {
    "vscode": {
     "languageId": "sql"
    }
   },
   "outputs": [],
   "source": [
    "SELECT DISTINCT t.brand\n",
    "FROM transaction t\n",
    "JOIN customer c ON t.customer_id = c.customer_id\n",
    "WHERE c.job_industry_category = 'Financial Services';"
   ]
  },
  {
   "cell_type": "markdown",
   "metadata": {},
   "source": [
    "<img src=\"img/task04_finance_industry.png\" alt=\"Alt text\" width=\"500\"/>"
   ]
  },
  {
   "cell_type": "markdown",
   "metadata": {},
   "source": [
    "### (1 балл) Вывести 10 клиентов, которые оформили онлайн-заказ продукции из брендов 'Giant Bicycles', 'Norco Bicycles', 'Trek Bicycles'.\n"
   ]
  },
  {
   "cell_type": "code",
   "execution_count": null,
   "metadata": {
    "vscode": {
     "languageId": "sql"
    }
   },
   "outputs": [],
   "source": [
    "SELECT DISTINCT c.customer_id, c.first_name, c.last_name\n",
    "FROM transaction t\n",
    "JOIN customer c ON t.customer_id = c.customer_id\n",
    "WHERE t.online_order = 'TRUE'\n",
    "    AND t.brand IN ('Giant Bicycles', 'Norco Bicycles', 'Trek Bicycles')\n",
    "LIMIT 10;"
   ]
  },
  {
   "cell_type": "markdown",
   "metadata": {},
   "source": [
    "<img src=\"img/task05_bicycles.png\" alt=\"Alt text\" width=\"500\"/>"
   ]
  },
  {
   "cell_type": "markdown",
   "metadata": {},
   "source": [
    "### (1 балл) Вывести всех клиентов, у которых нет транзакций.\n"
   ]
  },
  {
   "cell_type": "code",
   "execution_count": null,
   "metadata": {
    "vscode": {
     "languageId": "sql"
    }
   },
   "outputs": [],
   "source": [
    "SELECT c.customer_id, c.first_name, c.last_name\n",
    "FROM customer c\n",
    "LEFT JOIN transaction t ON c.customer_id = t.customer_id\n",
    "WHERE t.transaction_id IS NULL;\n"
   ]
  },
  {
   "cell_type": "markdown",
   "metadata": {},
   "source": [
    "<img src=\"img/task06_no_transactions.png\" alt=\"Alt text\" width=\"500\"/>"
   ]
  },
  {
   "cell_type": "markdown",
   "metadata": {},
   "source": [
    "### (2 балла) Вывести всех клиентов из IT, у которых транзакции с максимальной стандартной стоимостью.\n"
   ]
  },
  {
   "cell_type": "code",
   "execution_count": null,
   "metadata": {
    "vscode": {
     "languageId": "sql"
    }
   },
   "outputs": [],
   "source": [
    "SELECT c.customer_id, c.first_name, c.last_name\n",
    "FROM customer c\n",
    "JOIN transaction t ON c.customer_id = t.customer_id\n",
    "WHERE c.job_industry_category = 'IT'\n",
    "    AND t.standard_cost = (SELECT MAX(standard_cost) FROM transaction);\n",
    "    "
   ]
  },
  {
   "cell_type": "markdown",
   "metadata": {},
   "source": [
    "<img src=\"img/task07_it_max.png\" alt=\"Alt text\" width=\"500\"/>"
   ]
  },
  {
   "cell_type": "markdown",
   "metadata": {},
   "source": [
    "### Вывести всех клиентов из сферы IT и Health, у которых есть подтвержденные транзакции за период '2017-07-07' по '2017-07-17'.\n"
   ]
  },
  {
   "cell_type": "code",
   "execution_count": null,
   "metadata": {
    "vscode": {
     "languageId": "sql"
    }
   },
   "outputs": [],
   "source": [
    "SELECT DISTINCT c.customer_id, c.first_name, c.last_name\n",
    "FROM customer c\n",
    "JOIN transaction t ON c.customer_id = t.customer_id\n",
    "WHERE c.job_industry_category IN ('IT', 'Health')\n",
    "    AND t.order_status = 'Approved'\n",
    "    /* данные в исходной таблице хранятся в текстовом виде ДД.ММ.ГГГГ,\n",
    "     * поэтому дата требует конвертации в правильный формат\n",
    "     */\n",
    "    AND TO_DATE(transaction_date, 'DD.MM.YYYY') BETWEEN '2017-07-07' AND '2017-07-17';\n"
   ]
  },
  {
   "cell_type": "markdown",
   "metadata": {},
   "source": [
    "<img src=\"img/task08_it_health_approved.png\" alt=\"Alt text\" width=\"500\"/>"
   ]
  }
 ],
 "metadata": {
  "language_info": {
   "name": "python"
  }
 },
 "nbformat": 4,
 "nbformat_minor": 2
}
