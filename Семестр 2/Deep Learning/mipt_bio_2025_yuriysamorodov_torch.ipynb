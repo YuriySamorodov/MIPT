{
  "nbformat": 4,
  "nbformat_minor": 0,
  "metadata": {
    "colab": {
      "provenance": [],
      "gpuType": "T4",
      "authorship_tag": "ABX9TyNzK634OKYzmvAxXxQ1T+xM",
      "include_colab_link": true
    },
    "kernelspec": {
      "name": "python3",
      "display_name": "Python 3"
    },
    "language_info": {
      "name": "python"
    },
    "accelerator": "GPU"
  },
  "cells": [
    {
      "cell_type": "markdown",
      "metadata": {
        "id": "view-in-github",
        "colab_type": "text"
      },
      "source": [
        "<a href=\"https://colab.research.google.com/github/YuriySamorodov/MIPT/blob/main/%D0%A1%D0%B5%D0%BC%D0%B5%D1%81%D1%82%D1%80%202/Deep%20Learning/mipt_bio_2025_yuriysamorodov_torch.ipynb\" target=\"_parent\"><img src=\"https://colab.research.google.com/assets/colab-badge.svg\" alt=\"Open In Colab\"/></a>"
      ]
    },
    {
      "cell_type": "markdown",
      "source": [
        "Включаем GPU:\n",
        "\n",
        "**Google Colab**\n",
        "\n",
        "Среда выполнения > Сменить среду выполнения > T4 GPU\n",
        "\n",
        "**Kaggle**\n",
        "\n",
        "Settings > Accelerator > GPU P100\n",
        "\n"
      ],
      "metadata": {
        "id": "gZIl-canzv-L"
      }
    },
    {
      "cell_type": "code",
      "source": [
        "# Установка зависимостей\n",
        "# ETA ~ 1 минута 45 сек.\n",
        "!pip install pandas numpy torch tqdm torchvision --quiet"
      ],
      "metadata": {
        "colab": {
          "base_uri": "https://localhost:8080/"
        },
        "id": "cEwRYNtdztvg",
        "outputId": "0bdc6964-80c3-4f5b-a370-af9bfd286234"
      },
      "execution_count": null,
      "outputs": [
        {
          "output_type": "stream",
          "name": "stdout",
          "text": [
            "\u001b[2K   \u001b[90m━━━━━━━━━━━━━━━━━━━━━━━━━━━━━━━━━━━━━━━━\u001b[0m \u001b[32m363.4/363.4 MB\u001b[0m \u001b[31m3.9 MB/s\u001b[0m eta \u001b[36m0:00:00\u001b[0m\n",
            "\u001b[2K   \u001b[90m━━━━━━━━━━━━━━━━━━━━━━━━━━━━━━━━━━━━━━━━\u001b[0m \u001b[32m13.8/13.8 MB\u001b[0m \u001b[31m110.9 MB/s\u001b[0m eta \u001b[36m0:00:00\u001b[0m\n",
            "\u001b[2K   \u001b[90m━━━━━━━━━━━━━━━━━━━━━━━━━━━━━━━━━━━━━━━━\u001b[0m \u001b[32m24.6/24.6 MB\u001b[0m \u001b[31m98.1 MB/s\u001b[0m eta \u001b[36m0:00:00\u001b[0m\n",
            "\u001b[2K   \u001b[90m━━━━━━━━━━━━━━━━━━━━━━━━━━━━━━━━━━━━━━━━\u001b[0m \u001b[32m883.7/883.7 kB\u001b[0m \u001b[31m46.8 MB/s\u001b[0m eta \u001b[36m0:00:00\u001b[0m\n",
            "\u001b[2K   \u001b[90m━━━━━━━━━━━━━━━━━━━━━━━━━━━━━━━━━━━━━━━━\u001b[0m \u001b[32m664.8/664.8 MB\u001b[0m \u001b[31m2.8 MB/s\u001b[0m eta \u001b[36m0:00:00\u001b[0m\n",
            "\u001b[2K   \u001b[90m━━━━━━━━━━━━━━━━━━━━━━━━━━━━━━━━━━━━━━━━\u001b[0m \u001b[32m211.5/211.5 MB\u001b[0m \u001b[31m5.4 MB/s\u001b[0m eta \u001b[36m0:00:00\u001b[0m\n",
            "\u001b[2K   \u001b[90m━━━━━━━━━━━━━━━━━━━━━━━━━━━━━━━━━━━━━━━━\u001b[0m \u001b[32m56.3/56.3 MB\u001b[0m \u001b[31m13.1 MB/s\u001b[0m eta \u001b[36m0:00:00\u001b[0m\n",
            "\u001b[2K   \u001b[90m━━━━━━━━━━━━━━━━━━━━━━━━━━━━━━━━━━━━━━━━\u001b[0m \u001b[32m127.9/127.9 MB\u001b[0m \u001b[31m7.1 MB/s\u001b[0m eta \u001b[36m0:00:00\u001b[0m\n",
            "\u001b[2K   \u001b[90m━━━━━━━━━━━━━━━━━━━━━━━━━━━━━━━━━━━━━━━━\u001b[0m \u001b[32m207.5/207.5 MB\u001b[0m \u001b[31m6.7 MB/s\u001b[0m eta \u001b[36m0:00:00\u001b[0m\n",
            "\u001b[2K   \u001b[90m━━━━━━━━━━━━━━━━━━━━━━━━━━━━━━━━━━━━━━━━\u001b[0m \u001b[32m21.1/21.1 MB\u001b[0m \u001b[31m106.7 MB/s\u001b[0m eta \u001b[36m0:00:00\u001b[0m\n",
            "\u001b[?25h"
          ]
        }
      ]
    },
    {
      "cell_type": "code",
      "source": [
        "# Импорт библиотек\n",
        "import torch\n",
        "from tqdm import tqdm\n",
        "import pandas as pd\n",
        "import numpy as np\n",
        "from torch.utils.data import Dataset, DataLoader\n",
        "from torch import nn, optim\n",
        "from torchvision import transforms\n",
        "from sklearn.model_selection import train_test_split\n",
        "from sklearn.metrics import accuracy_score"
      ],
      "metadata": {
        "id": "Ec28Khn7z9I8"
      },
      "execution_count": null,
      "outputs": []
    },
    {
      "cell_type": "code",
      "source": [
        "# Проверка GPU\n",
        "device = torch.device('cuda' if torch.cuda.is_available() else 'cpu')\n",
        "print(f\"Используемое устройство: {device}\")"
      ],
      "metadata": {
        "colab": {
          "base_uri": "https://localhost:8080/"
        },
        "id": "dV4Pf3jm0B3l",
        "outputId": "16718b06-eda5-453a-bfa8-78c479bc4623"
      },
      "execution_count": null,
      "outputs": [
        {
          "output_type": "stream",
          "name": "stdout",
          "text": [
            "Используемое устройство: cuda\n"
          ]
        }
      ]
    },
    {
      "cell_type": "code",
      "source": [
        "# Загрузка данных\n",
        "train_df = pd.read_csv('fmnist_train.csv')\n",
        "test_df = pd.read_csv('fmnist_test.csv')\n",
        "\n",
        "# Обработка NaN\n",
        "print(f\"Пропуски в тренировочных данных: {train_df.isna().sum().sum()}\")\n",
        "print(f\"Пропуски в тестовых данных: {test_df.isna().sum().sum()}\")\n",
        "train_df = train_df.dropna()\n",
        "\n",
        "# Преобразование в тензоры\n",
        "class FashionMNISTDataset(Dataset):\n",
        "    def __init__(self, df, train=True):\n",
        "        self.train = train\n",
        "        if self.train:\n",
        "            self.labels = torch.tensor(df['label'].values, dtype=torch.long)\n",
        "            self.features = torch.tensor(df.drop(['label', 'Id'], axis=1).values,\n",
        "                                       dtype=torch.float32).view(-1, 1, 28, 28) / 255.0\n",
        "        else:\n",
        "            self.features = torch.tensor(df.drop('Id', axis=1).values,\n",
        "                                       dtype=torch.float32).view(-1, 1, 28, 28) / 255.0\n",
        "            self.ids = df['Id'].values\n",
        "\n",
        "    def __len__(self):\n",
        "        return len(self.features)\n",
        "\n",
        "    def __getitem__(self, idx):\n",
        "        if self.train:\n",
        "            return self.features[idx], self.labels[idx]\n",
        "        return self.features[idx], self.ids[idx]\n",
        "\n",
        "# Создание датасетов\n",
        "train_dataset = FashionMNISTDataset(train_df)\n",
        "test_dataset = FashionMNISTDataset(test_df, train=False)"
      ],
      "metadata": {
        "colab": {
          "base_uri": "https://localhost:8080/"
        },
        "id": "2TDdEptS0n9O",
        "outputId": "dedf4736-0c32-454a-bf20-2f38e3354e0b"
      },
      "execution_count": null,
      "outputs": [
        {
          "output_type": "stream",
          "name": "stdout",
          "text": [
            "Пропуски в тренировочных данных: 424\n",
            "Пропуски в тестовых данных: 0\n"
          ]
        }
      ]
    },
    {
      "cell_type": "code",
      "source": [
        "# Архитектура моделей\n",
        "\n",
        "class CNNModel(nn.Module):\n",
        "    def __init__(self):\n",
        "        super().__init__()\n",
        "        self.model = nn.Sequential(\n",
        "            nn.Conv2d(1, 32, 3, padding=1),\n",
        "            nn.BatchNorm2d(32),\n",
        "            nn.ReLU(),\n",
        "            nn.Conv2d(32, 32, 3, padding=1),\n",
        "            nn.BatchNorm2d(32),\n",
        "            nn.ReLU(),\n",
        "            nn.MaxPool2d(2),\n",
        "            nn.Dropout(0.25),\n",
        "\n",
        "            nn.Conv2d(32, 64, 3, padding=1),\n",
        "            nn.BatchNorm2d(64),\n",
        "            nn.ReLU(),\n",
        "            nn.Conv2d(64, 64, 3, padding=1),\n",
        "            nn.BatchNorm2d(64),\n",
        "            nn.ReLU(),\n",
        "            nn.MaxPool2d(2),\n",
        "            nn.Dropout(0.25),\n",
        "\n",
        "            nn.Flatten(),\n",
        "            nn.Linear(64*7*7, 512),\n",
        "            nn.BatchNorm1d(512),\n",
        "            nn.ReLU(),\n",
        "            nn.Dropout(0.5),\n",
        "            nn.Linear(512, 10)\n",
        "        )\n",
        "\n",
        "    def forward(self, x):\n",
        "        return self.model(x)"
      ],
      "metadata": {
        "id": "G3DoygMr0sdv"
      },
      "execution_count": null,
      "outputs": []
    },
    {
      "cell_type": "code",
      "source": [
        "# Обучение модели\n",
        "\n",
        "# Параметры\n",
        "BATCH_SIZE = 128\n",
        "EPOCHS = 50\n",
        "LR = 0.001\n",
        "\n",
        "# Даталоадеры\n",
        "train_loader = DataLoader(train_dataset, batch_size=BATCH_SIZE, shuffle=True)\n",
        "\n",
        "# Инициализация модели\n",
        "model = CNNModel().to(device)\n",
        "optimizer = optim.Adam(model.parameters(), lr=LR)\n",
        "criterion = nn.CrossEntropyLoss()\n",
        "\n",
        "# Цикл обучения\n",
        "for epoch in range(EPOCHS):\n",
        "    model.train()\n",
        "    running_loss = 0.0\n",
        "    correct = 0\n",
        "    total = 0\n",
        "\n",
        "    # Прогресс-бар с описанием\n",
        "    progress_bar = tqdm(train_loader, desc=f'Epoch {epoch+1}/{EPOCHS}',\n",
        "                        bar_format='{l_bar}{bar:20}{r_bar}{bar:-20b}')\n",
        "\n",
        "    for batch_idx, (inputs, labels) in enumerate(progress_bar):\n",
        "        inputs, labels = inputs.to(device), labels.to(device)\n",
        "\n",
        "        optimizer.zero_grad()\n",
        "        outputs = model(inputs)\n",
        "        loss = criterion(outputs, labels)\n",
        "        loss.backward()\n",
        "        optimizer.step()\n",
        "\n",
        "        # Расчет точности\n",
        "        preds = torch.argmax(outputs, dim=1)\n",
        "        correct += (preds == labels).sum().item()\n",
        "        total += labels.size(0)\n",
        "        running_loss += loss.item()\n",
        "\n",
        "        # Обновление прогресс-бара\n",
        "        progress_bar.set_postfix({\n",
        "            'Loss': f'{loss.item():.4f}',\n",
        "            'Accuracy': f'{100 * correct / total:.2f}%'\n",
        "        })\n",
        "\n",
        "    # Статистика эпохи\n",
        "    epoch_loss = running_loss / len(train_loader)\n",
        "    epoch_acc = correct / total\n",
        "    print(f'Epoch {epoch+1} Summary:')\n",
        "    print(f'Avg Loss: {epoch_loss:.4f} | Accuracy: {epoch_acc*100:.2f}%')\n",
        "    print('-'*50)\n",
        "\n"
      ],
      "metadata": {
        "colab": {
          "base_uri": "https://localhost:8080/"
        },
        "id": "gplb-Pa10xdG",
        "outputId": "67559a6c-9aea-4bb1-f713-5a1810a10402"
      },
      "execution_count": null,
      "outputs": [
        {
          "output_type": "stream",
          "name": "stderr",
          "text": [
            "Epoch 1/50: 100%|████████████████████| 134/134 [00:02<00:00, 46.70it/s, Loss=0.4042, Acc=80.64%]\n"
          ]
        },
        {
          "output_type": "stream",
          "name": "stdout",
          "text": [
            "Epoch 1 Summary:\n",
            "Avg Loss: 0.5298 | Accuracy: 80.64%\n",
            "--------------------------------------------------\n"
          ]
        },
        {
          "output_type": "stream",
          "name": "stderr",
          "text": [
            "Epoch 2/50: 100%|████████████████████| 134/134 [00:01<00:00, 82.30it/s, Loss=0.9092, Acc=87.44%]\n"
          ]
        },
        {
          "output_type": "stream",
          "name": "stdout",
          "text": [
            "Epoch 2 Summary:\n",
            "Avg Loss: 0.3461 | Accuracy: 87.44%\n",
            "--------------------------------------------------\n"
          ]
        },
        {
          "output_type": "stream",
          "name": "stderr",
          "text": [
            "Epoch 3/50: 100%|████████████████████| 134/134 [00:01<00:00, 82.50it/s, Loss=0.5101, Acc=88.77%]\n"
          ]
        },
        {
          "output_type": "stream",
          "name": "stdout",
          "text": [
            "Epoch 3 Summary:\n",
            "Avg Loss: 0.3032 | Accuracy: 88.77%\n",
            "--------------------------------------------------\n"
          ]
        },
        {
          "output_type": "stream",
          "name": "stderr",
          "text": [
            "Epoch 4/50: 100%|████████████████████| 134/134 [00:01<00:00, 68.49it/s, Loss=0.4593, Acc=90.29%]\n"
          ]
        },
        {
          "output_type": "stream",
          "name": "stdout",
          "text": [
            "Epoch 4 Summary:\n",
            "Avg Loss: 0.2646 | Accuracy: 90.29%\n",
            "--------------------------------------------------\n"
          ]
        },
        {
          "output_type": "stream",
          "name": "stderr",
          "text": [
            "Epoch 5/50: 100%|████████████████████| 134/134 [00:02<00:00, 56.05it/s, Loss=0.1951, Acc=90.73%]\n"
          ]
        },
        {
          "output_type": "stream",
          "name": "stdout",
          "text": [
            "Epoch 5 Summary:\n",
            "Avg Loss: 0.2458 | Accuracy: 90.73%\n",
            "--------------------------------------------------\n"
          ]
        },
        {
          "output_type": "stream",
          "name": "stderr",
          "text": [
            "Epoch 6/50: 100%|████████████████████| 134/134 [00:02<00:00, 57.66it/s, Loss=0.0743, Acc=91.68%]\n"
          ]
        },
        {
          "output_type": "stream",
          "name": "stdout",
          "text": [
            "Epoch 6 Summary:\n",
            "Avg Loss: 0.2219 | Accuracy: 91.68%\n",
            "--------------------------------------------------\n"
          ]
        },
        {
          "output_type": "stream",
          "name": "stderr",
          "text": [
            "Epoch 7/50: 100%|████████████████████| 134/134 [00:02<00:00, 55.21it/s, Loss=0.3440, Acc=92.32%]\n"
          ]
        },
        {
          "output_type": "stream",
          "name": "stdout",
          "text": [
            "Epoch 7 Summary:\n",
            "Avg Loss: 0.2076 | Accuracy: 92.32%\n",
            "--------------------------------------------------\n"
          ]
        },
        {
          "output_type": "stream",
          "name": "stderr",
          "text": [
            "Epoch 8/50: 100%|████████████████████| 134/134 [00:01<00:00, 82.18it/s, Loss=0.1414, Acc=92.95%]\n"
          ]
        },
        {
          "output_type": "stream",
          "name": "stdout",
          "text": [
            "Epoch 8 Summary:\n",
            "Avg Loss: 0.1922 | Accuracy: 92.95%\n",
            "--------------------------------------------------\n"
          ]
        },
        {
          "output_type": "stream",
          "name": "stderr",
          "text": [
            "Epoch 9/50: 100%|████████████████████| 134/134 [00:01<00:00, 82.99it/s, Loss=0.4201, Acc=93.73%]\n"
          ]
        },
        {
          "output_type": "stream",
          "name": "stdout",
          "text": [
            "Epoch 9 Summary:\n",
            "Avg Loss: 0.1710 | Accuracy: 93.73%\n",
            "--------------------------------------------------\n"
          ]
        },
        {
          "output_type": "stream",
          "name": "stderr",
          "text": [
            "Epoch 10/50: 100%|████████████████████| 134/134 [00:01<00:00, 82.54it/s, Loss=0.5254, Acc=93.54%]\n"
          ]
        },
        {
          "output_type": "stream",
          "name": "stdout",
          "text": [
            "Epoch 10 Summary:\n",
            "Avg Loss: 0.1758 | Accuracy: 93.54%\n",
            "--------------------------------------------------\n"
          ]
        },
        {
          "output_type": "stream",
          "name": "stderr",
          "text": [
            "Epoch 11/50: 100%|████████████████████| 134/134 [00:01<00:00, 81.66it/s, Loss=0.0899, Acc=94.03%]\n"
          ]
        },
        {
          "output_type": "stream",
          "name": "stdout",
          "text": [
            "Epoch 11 Summary:\n",
            "Avg Loss: 0.1586 | Accuracy: 94.03%\n",
            "--------------------------------------------------\n"
          ]
        },
        {
          "output_type": "stream",
          "name": "stderr",
          "text": [
            "Epoch 12/50: 100%|████████████████████| 134/134 [00:01<00:00, 81.38it/s, Loss=0.4048, Acc=94.47%]\n"
          ]
        },
        {
          "output_type": "stream",
          "name": "stdout",
          "text": [
            "Epoch 12 Summary:\n",
            "Avg Loss: 0.1477 | Accuracy: 94.47%\n",
            "--------------------------------------------------\n"
          ]
        },
        {
          "output_type": "stream",
          "name": "stderr",
          "text": [
            "Epoch 13/50: 100%|████████████████████| 134/134 [00:01<00:00, 80.89it/s, Loss=0.2225, Acc=94.77%]\n"
          ]
        },
        {
          "output_type": "stream",
          "name": "stdout",
          "text": [
            "Epoch 13 Summary:\n",
            "Avg Loss: 0.1419 | Accuracy: 94.77%\n",
            "--------------------------------------------------\n"
          ]
        },
        {
          "output_type": "stream",
          "name": "stderr",
          "text": [
            "Epoch 14/50: 100%|████████████████████| 134/134 [00:01<00:00, 74.99it/s, Loss=0.3354, Acc=95.16%]\n"
          ]
        },
        {
          "output_type": "stream",
          "name": "stdout",
          "text": [
            "Epoch 14 Summary:\n",
            "Avg Loss: 0.1287 | Accuracy: 95.16%\n",
            "--------------------------------------------------\n"
          ]
        },
        {
          "output_type": "stream",
          "name": "stderr",
          "text": [
            "Epoch 15/50: 100%|████████████████████| 134/134 [00:01<00:00, 77.76it/s, Loss=0.1338, Acc=95.41%]\n"
          ]
        },
        {
          "output_type": "stream",
          "name": "stdout",
          "text": [
            "Epoch 15 Summary:\n",
            "Avg Loss: 0.1227 | Accuracy: 95.41%\n",
            "--------------------------------------------------\n"
          ]
        },
        {
          "output_type": "stream",
          "name": "stderr",
          "text": [
            "Epoch 16/50: 100%|████████████████████| 134/134 [00:01<00:00, 83.14it/s, Loss=0.2196, Acc=95.80%]\n"
          ]
        },
        {
          "output_type": "stream",
          "name": "stdout",
          "text": [
            "Epoch 16 Summary:\n",
            "Avg Loss: 0.1183 | Accuracy: 95.80%\n",
            "--------------------------------------------------\n"
          ]
        },
        {
          "output_type": "stream",
          "name": "stderr",
          "text": [
            "Epoch 17/50: 100%|████████████████████| 134/134 [00:01<00:00, 82.13it/s, Loss=0.1663, Acc=95.85%]\n"
          ]
        },
        {
          "output_type": "stream",
          "name": "stdout",
          "text": [
            "Epoch 17 Summary:\n",
            "Avg Loss: 0.1096 | Accuracy: 95.85%\n",
            "--------------------------------------------------\n"
          ]
        },
        {
          "output_type": "stream",
          "name": "stderr",
          "text": [
            "Epoch 18/50: 100%|████████████████████| 134/134 [00:01<00:00, 82.44it/s, Loss=0.0285, Acc=96.23%]\n"
          ]
        },
        {
          "output_type": "stream",
          "name": "stdout",
          "text": [
            "Epoch 18 Summary:\n",
            "Avg Loss: 0.0991 | Accuracy: 96.23%\n",
            "--------------------------------------------------\n"
          ]
        },
        {
          "output_type": "stream",
          "name": "stderr",
          "text": [
            "Epoch 19/50: 100%|████████████████████| 134/134 [00:01<00:00, 82.86it/s, Loss=0.0168, Acc=96.53%]\n"
          ]
        },
        {
          "output_type": "stream",
          "name": "stdout",
          "text": [
            "Epoch 19 Summary:\n",
            "Avg Loss: 0.0916 | Accuracy: 96.53%\n",
            "--------------------------------------------------\n"
          ]
        },
        {
          "output_type": "stream",
          "name": "stderr",
          "text": [
            "Epoch 20/50: 100%|████████████████████| 134/134 [00:01<00:00, 82.38it/s, Loss=0.0435, Acc=96.67%]\n"
          ]
        },
        {
          "output_type": "stream",
          "name": "stdout",
          "text": [
            "Epoch 20 Summary:\n",
            "Avg Loss: 0.0914 | Accuracy: 96.67%\n",
            "--------------------------------------------------\n"
          ]
        },
        {
          "output_type": "stream",
          "name": "stderr",
          "text": [
            "Epoch 21/50: 100%|████████████████████| 134/134 [00:01<00:00, 77.77it/s, Loss=0.4031, Acc=97.16%]\n"
          ]
        },
        {
          "output_type": "stream",
          "name": "stdout",
          "text": [
            "Epoch 21 Summary:\n",
            "Avg Loss: 0.0794 | Accuracy: 97.16%\n",
            "--------------------------------------------------\n"
          ]
        },
        {
          "output_type": "stream",
          "name": "stderr",
          "text": [
            "Epoch 22/50: 100%|████████████████████| 134/134 [00:01<00:00, 73.86it/s, Loss=0.0160, Acc=96.76%]\n"
          ]
        },
        {
          "output_type": "stream",
          "name": "stdout",
          "text": [
            "Epoch 22 Summary:\n",
            "Avg Loss: 0.0870 | Accuracy: 96.76%\n",
            "--------------------------------------------------\n"
          ]
        },
        {
          "output_type": "stream",
          "name": "stderr",
          "text": [
            "Epoch 23/50: 100%|████████████████████| 134/134 [00:01<00:00, 79.71it/s, Loss=0.0078, Acc=97.32%]\n"
          ]
        },
        {
          "output_type": "stream",
          "name": "stdout",
          "text": [
            "Epoch 23 Summary:\n",
            "Avg Loss: 0.0717 | Accuracy: 97.32%\n",
            "--------------------------------------------------\n"
          ]
        },
        {
          "output_type": "stream",
          "name": "stderr",
          "text": [
            "Epoch 24/50: 100%|████████████████████| 134/134 [00:01<00:00, 81.89it/s, Loss=0.3639, Acc=97.42%]\n"
          ]
        },
        {
          "output_type": "stream",
          "name": "stdout",
          "text": [
            "Epoch 24 Summary:\n",
            "Avg Loss: 0.0737 | Accuracy: 97.42%\n",
            "--------------------------------------------------\n"
          ]
        },
        {
          "output_type": "stream",
          "name": "stderr",
          "text": [
            "Epoch 25/50: 100%|████████████████████| 134/134 [00:01<00:00, 81.73it/s, Loss=0.0064, Acc=97.14%]\n"
          ]
        },
        {
          "output_type": "stream",
          "name": "stdout",
          "text": [
            "Epoch 25 Summary:\n",
            "Avg Loss: 0.0782 | Accuracy: 97.14%\n",
            "--------------------------------------------------\n"
          ]
        },
        {
          "output_type": "stream",
          "name": "stderr",
          "text": [
            "Epoch 26/50: 100%|████████████████████| 134/134 [00:01<00:00, 82.27it/s, Loss=0.1689, Acc=97.60%]\n"
          ]
        },
        {
          "output_type": "stream",
          "name": "stdout",
          "text": [
            "Epoch 26 Summary:\n",
            "Avg Loss: 0.0675 | Accuracy: 97.60%\n",
            "--------------------------------------------------\n"
          ]
        },
        {
          "output_type": "stream",
          "name": "stderr",
          "text": [
            "Epoch 27/50: 100%|████████████████████| 134/134 [00:01<00:00, 82.13it/s, Loss=0.0290, Acc=97.49%]\n"
          ]
        },
        {
          "output_type": "stream",
          "name": "stdout",
          "text": [
            "Epoch 27 Summary:\n",
            "Avg Loss: 0.0685 | Accuracy: 97.49%\n",
            "--------------------------------------------------\n"
          ]
        },
        {
          "output_type": "stream",
          "name": "stderr",
          "text": [
            "Epoch 28/50: 100%|████████████████████| 134/134 [00:01<00:00, 80.55it/s, Loss=0.0946, Acc=97.89%]\n"
          ]
        },
        {
          "output_type": "stream",
          "name": "stdout",
          "text": [
            "Epoch 28 Summary:\n",
            "Avg Loss: 0.0594 | Accuracy: 97.89%\n",
            "--------------------------------------------------\n"
          ]
        },
        {
          "output_type": "stream",
          "name": "stderr",
          "text": [
            "Epoch 29/50: 100%|████████████████████| 134/134 [00:01<00:00, 74.93it/s, Loss=0.0054, Acc=97.82%]\n"
          ]
        },
        {
          "output_type": "stream",
          "name": "stdout",
          "text": [
            "Epoch 29 Summary:\n",
            "Avg Loss: 0.0597 | Accuracy: 97.82%\n",
            "--------------------------------------------------\n"
          ]
        },
        {
          "output_type": "stream",
          "name": "stderr",
          "text": [
            "Epoch 30/50: 100%|████████████████████| 134/134 [00:01<00:00, 78.65it/s, Loss=0.0110, Acc=98.14%]\n"
          ]
        },
        {
          "output_type": "stream",
          "name": "stdout",
          "text": [
            "Epoch 30 Summary:\n",
            "Avg Loss: 0.0524 | Accuracy: 98.14%\n",
            "--------------------------------------------------\n"
          ]
        },
        {
          "output_type": "stream",
          "name": "stderr",
          "text": [
            "Epoch 31/50: 100%|████████████████████| 134/134 [00:01<00:00, 82.15it/s, Loss=0.0162, Acc=98.31%]\n"
          ]
        },
        {
          "output_type": "stream",
          "name": "stdout",
          "text": [
            "Epoch 31 Summary:\n",
            "Avg Loss: 0.0469 | Accuracy: 98.31%\n",
            "--------------------------------------------------\n"
          ]
        },
        {
          "output_type": "stream",
          "name": "stderr",
          "text": [
            "Epoch 32/50: 100%|████████████████████| 134/134 [00:01<00:00, 81.71it/s, Loss=0.1661, Acc=98.26%]\n"
          ]
        },
        {
          "output_type": "stream",
          "name": "stdout",
          "text": [
            "Epoch 32 Summary:\n",
            "Avg Loss: 0.0483 | Accuracy: 98.26%\n",
            "--------------------------------------------------\n"
          ]
        },
        {
          "output_type": "stream",
          "name": "stderr",
          "text": [
            "Epoch 33/50: 100%|████████████████████| 134/134 [00:01<00:00, 82.01it/s, Loss=0.1412, Acc=98.13%]\n"
          ]
        },
        {
          "output_type": "stream",
          "name": "stdout",
          "text": [
            "Epoch 33 Summary:\n",
            "Avg Loss: 0.0525 | Accuracy: 98.13%\n",
            "--------------------------------------------------\n"
          ]
        },
        {
          "output_type": "stream",
          "name": "stderr",
          "text": [
            "Epoch 34/50: 100%|████████████████████| 134/134 [00:01<00:00, 82.20it/s, Loss=0.0030, Acc=97.98%]\n"
          ]
        },
        {
          "output_type": "stream",
          "name": "stdout",
          "text": [
            "Epoch 34 Summary:\n",
            "Avg Loss: 0.0548 | Accuracy: 97.98%\n",
            "--------------------------------------------------\n"
          ]
        },
        {
          "output_type": "stream",
          "name": "stderr",
          "text": [
            "Epoch 35/50: 100%|████████████████████| 134/134 [00:01<00:00, 81.63it/s, Loss=0.0037, Acc=98.55%]\n"
          ]
        },
        {
          "output_type": "stream",
          "name": "stdout",
          "text": [
            "Epoch 35 Summary:\n",
            "Avg Loss: 0.0405 | Accuracy: 98.55%\n",
            "--------------------------------------------------\n"
          ]
        },
        {
          "output_type": "stream",
          "name": "stderr",
          "text": [
            "Epoch 36/50: 100%|████████████████████| 134/134 [00:01<00:00, 75.47it/s, Loss=0.0022, Acc=98.44%]\n"
          ]
        },
        {
          "output_type": "stream",
          "name": "stdout",
          "text": [
            "Epoch 36 Summary:\n",
            "Avg Loss: 0.0438 | Accuracy: 98.44%\n",
            "--------------------------------------------------\n"
          ]
        },
        {
          "output_type": "stream",
          "name": "stderr",
          "text": [
            "Epoch 37/50: 100%|████████████████████| 134/134 [00:01<00:00, 75.94it/s, Loss=0.1399, Acc=98.52%]\n"
          ]
        },
        {
          "output_type": "stream",
          "name": "stdout",
          "text": [
            "Epoch 37 Summary:\n",
            "Avg Loss: 0.0433 | Accuracy: 98.52%\n",
            "--------------------------------------------------\n"
          ]
        },
        {
          "output_type": "stream",
          "name": "stderr",
          "text": [
            "Epoch 38/50: 100%|████████████████████| 134/134 [00:01<00:00, 82.20it/s, Loss=0.1252, Acc=98.26%]\n"
          ]
        },
        {
          "output_type": "stream",
          "name": "stdout",
          "text": [
            "Epoch 38 Summary:\n",
            "Avg Loss: 0.0463 | Accuracy: 98.26%\n",
            "--------------------------------------------------\n"
          ]
        },
        {
          "output_type": "stream",
          "name": "stderr",
          "text": [
            "Epoch 39/50: 100%|████████████████████| 134/134 [00:01<00:00, 81.47it/s, Loss=0.0575, Acc=98.18%]\n"
          ]
        },
        {
          "output_type": "stream",
          "name": "stdout",
          "text": [
            "Epoch 39 Summary:\n",
            "Avg Loss: 0.0493 | Accuracy: 98.18%\n",
            "--------------------------------------------------\n"
          ]
        },
        {
          "output_type": "stream",
          "name": "stderr",
          "text": [
            "Epoch 40/50: 100%|████████████████████| 134/134 [00:01<00:00, 81.29it/s, Loss=0.0192, Acc=98.54%]\n"
          ]
        },
        {
          "output_type": "stream",
          "name": "stdout",
          "text": [
            "Epoch 40 Summary:\n",
            "Avg Loss: 0.0403 | Accuracy: 98.54%\n",
            "--------------------------------------------------\n"
          ]
        },
        {
          "output_type": "stream",
          "name": "stderr",
          "text": [
            "Epoch 41/50: 100%|████████████████████| 134/134 [00:01<00:00, 80.67it/s, Loss=0.0095, Acc=98.68%]\n"
          ]
        },
        {
          "output_type": "stream",
          "name": "stdout",
          "text": [
            "Epoch 41 Summary:\n",
            "Avg Loss: 0.0360 | Accuracy: 98.68%\n",
            "--------------------------------------------------\n"
          ]
        },
        {
          "output_type": "stream",
          "name": "stderr",
          "text": [
            "Epoch 42/50: 100%|████████████████████| 134/134 [00:01<00:00, 81.71it/s, Loss=0.0381, Acc=98.79%]\n"
          ]
        },
        {
          "output_type": "stream",
          "name": "stdout",
          "text": [
            "Epoch 42 Summary:\n",
            "Avg Loss: 0.0341 | Accuracy: 98.79%\n",
            "--------------------------------------------------\n"
          ]
        },
        {
          "output_type": "stream",
          "name": "stderr",
          "text": [
            "Epoch 43/50: 100%|████████████████████| 134/134 [00:01<00:00, 78.11it/s, Loss=0.1721, Acc=98.79%]\n"
          ]
        },
        {
          "output_type": "stream",
          "name": "stdout",
          "text": [
            "Epoch 43 Summary:\n",
            "Avg Loss: 0.0343 | Accuracy: 98.79%\n",
            "--------------------------------------------------\n"
          ]
        },
        {
          "output_type": "stream",
          "name": "stderr",
          "text": [
            "Epoch 44/50: 100%|████████████████████| 134/134 [00:01<00:00, 74.89it/s, Loss=0.1774, Acc=98.05%]\n"
          ]
        },
        {
          "output_type": "stream",
          "name": "stdout",
          "text": [
            "Epoch 44 Summary:\n",
            "Avg Loss: 0.0545 | Accuracy: 98.05%\n",
            "--------------------------------------------------\n"
          ]
        },
        {
          "output_type": "stream",
          "name": "stderr",
          "text": [
            "Epoch 45/50: 100%|████████████████████| 134/134 [00:01<00:00, 73.26it/s, Loss=0.0484, Acc=98.50%]\n"
          ]
        },
        {
          "output_type": "stream",
          "name": "stdout",
          "text": [
            "Epoch 45 Summary:\n",
            "Avg Loss: 0.0409 | Accuracy: 98.50%\n",
            "--------------------------------------------------\n"
          ]
        },
        {
          "output_type": "stream",
          "name": "stderr",
          "text": [
            "Epoch 46/50: 100%|████████████████████| 134/134 [00:01<00:00, 72.12it/s, Loss=0.0423, Acc=98.79%]\n"
          ]
        },
        {
          "output_type": "stream",
          "name": "stdout",
          "text": [
            "Epoch 46 Summary:\n",
            "Avg Loss: 0.0350 | Accuracy: 98.79%\n",
            "--------------------------------------------------\n"
          ]
        },
        {
          "output_type": "stream",
          "name": "stderr",
          "text": [
            "Epoch 47/50: 100%|████████████████████| 134/134 [00:01<00:00, 80.33it/s, Loss=0.0699, Acc=98.74%]\n"
          ]
        },
        {
          "output_type": "stream",
          "name": "stdout",
          "text": [
            "Epoch 47 Summary:\n",
            "Avg Loss: 0.0318 | Accuracy: 98.74%\n",
            "--------------------------------------------------\n"
          ]
        },
        {
          "output_type": "stream",
          "name": "stderr",
          "text": [
            "Epoch 48/50: 100%|████████████████████| 134/134 [00:01<00:00, 80.80it/s, Loss=0.0021, Acc=98.91%]\n"
          ]
        },
        {
          "output_type": "stream",
          "name": "stdout",
          "text": [
            "Epoch 48 Summary:\n",
            "Avg Loss: 0.0302 | Accuracy: 98.91%\n",
            "--------------------------------------------------\n"
          ]
        },
        {
          "output_type": "stream",
          "name": "stderr",
          "text": [
            "Epoch 49/50: 100%|████████████████████| 134/134 [00:01<00:00, 79.45it/s, Loss=0.1117, Acc=98.90%]\n"
          ]
        },
        {
          "output_type": "stream",
          "name": "stdout",
          "text": [
            "Epoch 49 Summary:\n",
            "Avg Loss: 0.0303 | Accuracy: 98.90%\n",
            "--------------------------------------------------\n"
          ]
        },
        {
          "output_type": "stream",
          "name": "stderr",
          "text": [
            "Epoch 50/50: 100%|████████████████████| 134/134 [00:01<00:00, 78.82it/s, Loss=0.0203, Acc=98.82%]"
          ]
        },
        {
          "output_type": "stream",
          "name": "stdout",
          "text": [
            "Epoch 50 Summary:\n",
            "Avg Loss: 0.0313 | Accuracy: 98.82%\n",
            "--------------------------------------------------\n"
          ]
        },
        {
          "output_type": "stream",
          "name": "stderr",
          "text": [
            "\n"
          ]
        }
      ]
    },
    {
      "cell_type": "code",
      "execution_count": null,
      "metadata": {
        "colab": {
          "base_uri": "https://localhost:8080/"
        },
        "id": "H9lz3qDJzjj5",
        "outputId": "535a308e-9a46-498a-e603-1fda4da110a9"
      },
      "outputs": [
        {
          "output_type": "stream",
          "name": "stdout",
          "text": [
            "Файл submission.csv успешно создан!\n"
          ]
        }
      ],
      "source": [
        "# Предсказание и сохранение результатов\n",
        "\n",
        "model.eval()\n",
        "test_loader = DataLoader(test_dataset, batch_size=BATCH_SIZE, shuffle=False)\n",
        "\n",
        "predictions = []\n",
        "ids_list = []\n",
        "with torch.no_grad():\n",
        "    for inputs, ids in test_loader:\n",
        "        inputs = inputs.to(device)\n",
        "        outputs = model(inputs)\n",
        "        preds = torch.argmax(outputs, dim=1)\n",
        "        predictions.extend(preds.cpu().numpy())\n",
        "        ids_list.extend(ids.numpy())\n",
        "\n",
        "# Создание submission файла\n",
        "submission = pd.DataFrame({'Id': ids_list, 'label': predictions})\n",
        "submission.to_csv('submission.csv', index=False)\n",
        "print('Файл submission.csv успешно создан!')\n"
      ]
    }
  ]
}