{
  "nbformat": 4,
  "nbformat_minor": 0,
  "metadata": {
    "colab": {
      "provenance": [],
      "mount_file_id": "1Fhrl57f6Xlonl2bUfm6UsOa7st_hisDa",
      "authorship_tag": "ABX9TyMhmlA5yVhJrklJ3IH8tW0a",
      "include_colab_link": true
    },
    "kernelspec": {
      "name": "python3",
      "display_name": "Python 3"
    },
    "language_info": {
      "name": "python"
    }
  },
  "cells": [
    {
      "cell_type": "markdown",
      "metadata": {
        "id": "view-in-github",
        "colab_type": "text"
      },
      "source": [
        "<a href=\"https://colab.research.google.com/github/YuriySamorodov/MIPT/blob/main/%D0%A1%D0%B5%D0%BC%D0%B5%D1%81%D1%82%D1%80%202/Deep%20Learning/mipt_bio_2025_yuriysamorodov_tensor.ipynb\" target=\"_parent\"><img src=\"https://colab.research.google.com/assets/colab-badge.svg\" alt=\"Open In Colab\"/></a>"
      ]
    },
    {
      "cell_type": "code",
      "execution_count": 1,
      "metadata": {
        "colab": {
          "base_uri": "https://localhost:8080/"
        },
        "id": "XjwLxN89EZ8i",
        "outputId": "f5141875-1997-44c0-f074-ea73a5511456"
      },
      "outputs": [
        {
          "output_type": "stream",
          "name": "stderr",
          "text": [
            "/usr/local/lib/python3.11/dist-packages/keras/src/layers/convolutional/base_conv.py:107: UserWarning: Do not pass an `input_shape`/`input_dim` argument to a layer. When using Sequential models, prefer using an `Input(shape)` object as the first layer in the model instead.\n",
            "  super().__init__(activity_regularizer=activity_regularizer, **kwargs)\n"
          ]
        },
        {
          "output_type": "stream",
          "name": "stdout",
          "text": [
            "Epoch 1/10\n",
            "\u001b[1m426/426\u001b[0m \u001b[32m━━━━━━━━━━━━━━━━━━━━\u001b[0m\u001b[37m\u001b[0m \u001b[1m16s\u001b[0m 34ms/step - accuracy: 0.6645 - loss: 0.9258 - val_accuracy: 0.8198 - val_loss: 0.4944\n",
            "Epoch 2/10\n",
            "\u001b[1m426/426\u001b[0m \u001b[32m━━━━━━━━━━━━━━━━━━━━\u001b[0m\u001b[37m\u001b[0m \u001b[1m20s\u001b[0m 33ms/step - accuracy: 0.8404 - loss: 0.4320 - val_accuracy: 0.8462 - val_loss: 0.4114\n",
            "Epoch 3/10\n",
            "\u001b[1m426/426\u001b[0m \u001b[32m━━━━━━━━━━━━━━━━━━━━\u001b[0m\u001b[37m\u001b[0m \u001b[1m14s\u001b[0m 34ms/step - accuracy: 0.8730 - loss: 0.3525 - val_accuracy: 0.8685 - val_loss: 0.3477\n",
            "Epoch 4/10\n",
            "\u001b[1m426/426\u001b[0m \u001b[32m━━━━━━━━━━━━━━━━━━━━\u001b[0m\u001b[37m\u001b[0m \u001b[1m15s\u001b[0m 35ms/step - accuracy: 0.8886 - loss: 0.3145 - val_accuracy: 0.8773 - val_loss: 0.3494\n",
            "Epoch 5/10\n",
            "\u001b[1m426/426\u001b[0m \u001b[32m━━━━━━━━━━━━━━━━━━━━\u001b[0m\u001b[37m\u001b[0m \u001b[1m20s\u001b[0m 33ms/step - accuracy: 0.8970 - loss: 0.2800 - val_accuracy: 0.8809 - val_loss: 0.3265\n",
            "Epoch 6/10\n",
            "\u001b[1m426/426\u001b[0m \u001b[32m━━━━━━━━━━━━━━━━━━━━\u001b[0m\u001b[37m\u001b[0m \u001b[1m15s\u001b[0m 35ms/step - accuracy: 0.9080 - loss: 0.2433 - val_accuracy: 0.8668 - val_loss: 0.4000\n",
            "Epoch 7/10\n",
            "\u001b[1m426/426\u001b[0m \u001b[32m━━━━━━━━━━━━━━━━━━━━\u001b[0m\u001b[37m\u001b[0m \u001b[1m20s\u001b[0m 33ms/step - accuracy: 0.9152 - loss: 0.2299 - val_accuracy: 0.8844 - val_loss: 0.3166\n",
            "Epoch 8/10\n",
            "\u001b[1m426/426\u001b[0m \u001b[32m━━━━━━━━━━━━━━━━━━━━\u001b[0m\u001b[37m\u001b[0m \u001b[1m14s\u001b[0m 33ms/step - accuracy: 0.9254 - loss: 0.2016 - val_accuracy: 0.8920 - val_loss: 0.3190\n",
            "Epoch 9/10\n",
            "\u001b[1m426/426\u001b[0m \u001b[32m━━━━━━━━━━━━━━━━━━━━\u001b[0m\u001b[37m\u001b[0m \u001b[1m21s\u001b[0m 35ms/step - accuracy: 0.9352 - loss: 0.1765 - val_accuracy: 0.8853 - val_loss: 0.3269\n",
            "Epoch 10/10\n",
            "\u001b[1m426/426\u001b[0m \u001b[32m━━━━━━━━━━━━━━━━━━━━\u001b[0m\u001b[37m\u001b[0m \u001b[1m14s\u001b[0m 33ms/step - accuracy: 0.9444 - loss: 0.1501 - val_accuracy: 0.8879 - val_loss: 0.3360\n",
            "\u001b[1m107/107\u001b[0m \u001b[32m━━━━━━━━━━━━━━━━━━━━\u001b[0m\u001b[37m\u001b[0m \u001b[1m1s\u001b[0m 8ms/step - accuracy: 0.8917 - loss: 0.3283\n",
            "Accuracy on validation set: 0.887910783290863\n",
            "\u001b[1m313/313\u001b[0m \u001b[32m━━━━━━━━━━━━━━━━━━━━\u001b[0m\u001b[37m\u001b[0m \u001b[1m2s\u001b[0m 8ms/step\n",
            "Submission file 'submission_cnn.csv' created successfully.\n"
          ]
        }
      ],
      "source": [
        "import tensorflow as tf\n",
        "from tensorflow.keras.models import Sequential\n",
        "from tensorflow.keras.layers import Conv2D, MaxPooling2D, Flatten, Dense\n",
        "from tensorflow.keras.utils import to_categorical\n",
        "from sklearn.model_selection import train_test_split\n",
        "import pandas as pd\n",
        "import numpy as np\n",
        "\n",
        "# Загрузка данных\n",
        "df_train = pd.read_csv('fmnist_train.csv')\n",
        "df_test = pd.read_csv('fmnist_test.csv')\n",
        "\n",
        "# Обработка пропущенных значений\n",
        "df_train.dropna(inplace=True)\n",
        "\n",
        "# Подготовка данных\n",
        "X_train_raw = df_train.drop(['label', 'Id'], axis=1).values\n",
        "y_train_raw = df_train['label'].values\n",
        "X_test_raw = df_test.drop('Id', axis=1).values\n",
        "ids_test = df_test['Id']\n",
        "\n",
        "# Изменение размерности и масштабирование данных для CNN\n",
        "X_train = X_train_raw.reshape(-1, 28, 28, 1) / 255.0\n",
        "X_test = X_test_raw.reshape(-1, 28, 28, 1) / 255.0\n",
        "\n",
        "# Преобразование меток в one-hot кодирование\n",
        "y_train = to_categorical(y_train_raw, num_classes=10)\n",
        "\n",
        "# Разделение данных на обучающую и валидационную выборки\n",
        "X_train_split, X_val_split, y_train_split, y_val_split = train_test_split(\n",
        "    X_train, y_train, test_size=0.2, random_state=42\n",
        ")\n",
        "\n",
        "# Построение модели CNN\n",
        "model = Sequential([\n",
        "    Conv2D(32, (3, 3), activation='relu', input_shape=(28, 28, 1)),\n",
        "    MaxPooling2D((2, 2)),\n",
        "    Conv2D(64, (3, 3), activation='relu'),\n",
        "    MaxPooling2D((2, 2)),\n",
        "    Flatten(),\n",
        "    Dense(128, activation='relu'),\n",
        "    Dense(10, activation='softmax')  # 10 классов\n",
        "])\n",
        "\n",
        "# Компиляция модели\n",
        "model.compile(optimizer='adam',\n",
        "              loss='categorical_crossentropy',\n",
        "              metrics=['accuracy'])\n",
        "\n",
        "# Обучение модели\n",
        "history = model.fit(X_train_split, y_train_split, epochs=20, validation_data=(X_val_split, y_val_split))\n",
        "\n",
        "# Оценка модели на валидационной выборке (для проверки производительности)\n",
        "loss, accuracy = model.evaluate(X_val_split, y_val_split)\n",
        "print(f\"Accuracy on validation set: {accuracy}\")\n",
        "\n",
        "# Предсказание на тестовой выборке\n",
        "y_pred_probs = model.predict(X_test)\n",
        "y_pred = np.argmax(y_pred_probs, axis=1)\n",
        "\n",
        "# Создание файла для отправки\n",
        "submission_df = pd.DataFrame({'Id': ids_test, 'label': y_pred})\n",
        "submission_df.to_csv('submission_cnn.csv', index=False)\n",
        "\n",
        "print(\"Submission file 'submission_cnn.csv' created successfully.\")"
      ]
    }
  ]
}