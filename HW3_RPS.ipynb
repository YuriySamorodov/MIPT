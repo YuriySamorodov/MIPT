{
  "cells": [
    {
      "cell_type": "markdown",
      "metadata": {
        "id": "view-in-github",
        "colab_type": "text"
      },
      "source": [
        "<a href=\"https://colab.research.google.com/github/YuriySamorodov/MIPT/blob/main/HW3_RPS.ipynb\" target=\"_parent\"><img src=\"https://colab.research.google.com/assets/colab-badge.svg\" alt=\"Open In Colab\"/></a>"
      ]
    },
    {
      "cell_type": "markdown",
      "source": [
        "### Настройка окружения"
      ],
      "metadata": {
        "id": "f1udX0UqgvzV"
      }
    },
    {
      "cell_type": "code",
      "source": [
        "# System wide libraries\n",
        "import random\n",
        "import warnings\n",
        "from rich.progress import Progress\n",
        "import time\n",
        "import sys\n",
        "import logging\n",
        "import threading\n",
        "import concurrent.futures\n",
        "from threading import Lock\n",
        "from concurrent.futures import ThreadPoolExecutor, as_completed\n",
        "from itertools import combinations\n",
        "from typing import List, Dict, Tuple\n",
        "from dataclasses import dataclass\n",
        "from collections import defaultdict\n",
        "from IPython.display import display, clear_output"
      ],
      "metadata": {
        "id": "Gapyt0XTT_S8"
      },
      "execution_count": 1,
      "outputs": []
    },
    {
      "cell_type": "code",
      "execution_count": 2,
      "metadata": {
        "id": "MXXTuy_o0sjk",
        "colab": {
          "base_uri": "https://localhost:8080/"
        },
        "outputId": "b8865fce-a0cd-4cca-ea5c-c1ad15a7388c"
      },
      "outputs": [
        {
          "output_type": "stream",
          "name": "stdout",
          "text": [
            "  Preparing metadata (setup.py) ... \u001b[?25l\u001b[?25hdone\n",
            "\u001b[2K   \u001b[90m━━━━━━━━━━━━━━━━━━━━━━━━━━━━━━━━━━━━━━━━\u001b[0m \u001b[32m1.4/1.4 MB\u001b[0m \u001b[31m9.6 MB/s\u001b[0m eta \u001b[36m0:00:00\u001b[0m\n",
            "\u001b[2K   \u001b[90m━━━━━━━━━━━━━━━━━━━━━━━━━━━━━━━━━━━━━━━━\u001b[0m \u001b[32m953.8/953.8 kB\u001b[0m \u001b[31m18.3 MB/s\u001b[0m eta \u001b[36m0:00:00\u001b[0m\n",
            "\u001b[2K   \u001b[90m━━━━━━━━━━━━━━━━━━━━━━━━━━━━━━━━━━━━━━━━\u001b[0m \u001b[32m840.2/840.2 kB\u001b[0m \u001b[31m11.1 MB/s\u001b[0m eta \u001b[36m0:00:00\u001b[0m\n",
            "\u001b[2K   \u001b[90m━━━━━━━━━━━━━━━━━━━━━━━━━━━━━━━━━━━━━━━━\u001b[0m \u001b[32m178.7/178.7 kB\u001b[0m \u001b[31m8.7 MB/s\u001b[0m eta \u001b[36m0:00:00\u001b[0m\n",
            "\u001b[?25h  Building wheel for Chessnut (setup.py) ... \u001b[?25l\u001b[?25hdone\n"
          ]
        }
      ],
      "source": [
        "!pip install -q -U kaggle_environments"
      ]
    },
    {
      "cell_type": "code",
      "execution_count": 3,
      "metadata": {
        "id": "lE0ckrjigtk0",
        "colab": {
          "base_uri": "https://localhost:8080/"
        },
        "outputId": "37539704-e7eb-4a84-9f23-d4381a2f8174"
      },
      "outputs": [
        {
          "output_type": "stream",
          "name": "stderr",
          "text": [
            "/usr/local/lib/python3.10/dist-packages/pygame/pkgdata.py:25: DeprecationWarning: pkg_resources is deprecated as an API. See https://setuptools.pypa.io/en/latest/pkg_resources.html\n",
            "  from pkg_resources import resource_stream, resource_exists\n",
            "/usr/local/lib/python3.10/dist-packages/pkg_resources/__init__.py:3154: DeprecationWarning: Deprecated call to `pkg_resources.declare_namespace('google')`.\n",
            "Implementing implicit namespace packages (as specified in PEP 420) is preferred to `pkg_resources.declare_namespace`. See https://setuptools.pypa.io/en/latest/references/keywords.html#keyword-namespace-packages\n",
            "  declare_namespace(pkg)\n",
            "/usr/local/lib/python3.10/dist-packages/pkg_resources/__init__.py:3154: DeprecationWarning: Deprecated call to `pkg_resources.declare_namespace('google.cloud')`.\n",
            "Implementing implicit namespace packages (as specified in PEP 420) is preferred to `pkg_resources.declare_namespace`. See https://setuptools.pypa.io/en/latest/references/keywords.html#keyword-namespace-packages\n",
            "  declare_namespace(pkg)\n",
            "/usr/local/lib/python3.10/dist-packages/pkg_resources/__init__.py:3154: DeprecationWarning: Deprecated call to `pkg_resources.declare_namespace('sphinxcontrib')`.\n",
            "Implementing implicit namespace packages (as specified in PEP 420) is preferred to `pkg_resources.declare_namespace`. See https://setuptools.pypa.io/en/latest/references/keywords.html#keyword-namespace-packages\n",
            "  declare_namespace(pkg)\n"
          ]
        },
        {
          "output_type": "stream",
          "name": "stdout",
          "text": [
            "Loading environment lux_ai_s3 failed: No module named 'gymnax'\n"
          ]
        }
      ],
      "source": [
        "# DS libraries\n",
        "import math\n",
        "import numpy as np\n",
        "import pandas as pd\n",
        "import matplotlib as plt\n",
        "import seaborn as sns\n",
        "import tqdm\n",
        "from tqdm.notebook import tqdm_notebook\n",
        "from kaggle_environments import make, evaluate"
      ]
    },
    {
      "cell_type": "markdown",
      "source": [
        "> Нашел в коде параметр `tieRewardThreshold`. Он определяет минимальное количество побед, необходимое агенту для того, чтобы итог всех (например, 100) игр не был признан ничьей.\n",
        ">\n",
        "> Например, сли мы проводим 100 игр между двумя агентами, которые случайным образом выбирают камень, ножницы или бумагу, можно ожидать, что результаты обоих агентов не будут равны нулю. Вряд ли оба агента за 100 игр каждый раз будут делать одно и то же действие.\n",
        ">\n",
        "> Однако параметр `tieRewardThreshold` по умолчанию установлен на 20, что означает, что одному из агентов нужно одержать как минимум 20 побед, чтобы итог всех 100 игр не считался ничьей.\n",
        ">\n",
        "> Я везде изменил этот параметр на 1, чтобы сделать результаты более наглядными."
      ],
      "metadata": {
        "id": "_I_-6m0_hDxz"
      }
    },
    {
      "cell_type": "markdown",
      "metadata": {
        "id": "0kuo6IOxiRub"
      },
      "source": [
        "### 1. Агент, всегда игающий \"камень\""
      ]
    },
    {
      "cell_type": "code",
      "execution_count": 4,
      "metadata": {
        "colab": {
          "base_uri": "https://localhost:8080/"
        },
        "id": "bqTqV7B92rJ6",
        "outputId": "db2c1fd0-1463-45f7-ed38-45a5be8a36b9"
      },
      "outputs": [
        {
          "output_type": "stream",
          "name": "stdout",
          "text": [
            "Writing rock_agent.py\n"
          ]
        },
        {
          "output_type": "stream",
          "name": "stderr",
          "text": [
            "/usr/local/lib/python3.10/dist-packages/ipykernel/ipkernel.py:283: DeprecationWarning: `should_run_async` will not call `transform_cell` automatically in the future. Please pass the result to `transformed_cell` argument and any exception that happen during thetransform in `preprocessing_exc_tuple` in IPython 7.17 and above.\n",
            "  and should_run_async(code)\n"
          ]
        }
      ],
      "source": [
        "%%writefile rock_agent.py\n",
        "\n",
        "#0 - rock\n",
        "#1 - paper\n",
        "#2 - scissors\n",
        "def rock_agent(observation, configuration):\n",
        "    return 0"
      ]
    },
    {
      "cell_type": "code",
      "execution_count": 5,
      "metadata": {
        "colab": {
          "base_uri": "https://localhost:8080/"
        },
        "id": "eoEh5IVWgtk2",
        "outputId": "afa4ee92-3a0b-43d9-ae54-3e0d9156554b"
      },
      "outputs": [
        {
          "output_type": "execute_result",
          "data": {
            "text/plain": [
              "[[-98.0, 98.0]]"
            ]
          },
          "metadata": {},
          "execution_count": 5
        }
      ],
      "source": [
        "evaluate(\n",
        "    \"rps\", #environment to use - no need to change\n",
        "    [\"rock_agent.py\", \"statistical\"], #agents to evaluate\n",
        "    configuration={\"episodeSteps\": 100,\n",
        "                   \"tieRewardThreshold\": 1} #number of episodes\n",
        ")"
      ]
    },
    {
      "cell_type": "markdown",
      "metadata": {
        "id": "CZDUmTITyV8G"
      },
      "source": [
        "### 2. Агент, всегда играющий \"бумагу\""
      ]
    },
    {
      "cell_type": "code",
      "execution_count": 6,
      "metadata": {
        "colab": {
          "base_uri": "https://localhost:8080/"
        },
        "id": "eoMyw2lEyU82",
        "outputId": "4f42c76f-e840-4549-cdc6-8c90f7f0334e"
      },
      "outputs": [
        {
          "output_type": "stream",
          "name": "stdout",
          "text": [
            "Writing paper_agent.py\n"
          ]
        }
      ],
      "source": [
        "%%writefile paper_agent.py\n",
        "\n",
        "def paper_agent(observation, configuration):\n",
        "    return 1"
      ]
    },
    {
      "cell_type": "code",
      "execution_count": 7,
      "metadata": {
        "colab": {
          "base_uri": "https://localhost:8080/"
        },
        "id": "sWDIuOFcgtk3",
        "outputId": "d431be96-acc8-4254-e38c-fe2aadff5ed4"
      },
      "outputs": [
        {
          "output_type": "execute_result",
          "data": {
            "text/plain": [
              "[[-97.0, 97.0]]"
            ]
          },
          "metadata": {},
          "execution_count": 7
        }
      ],
      "source": [
        "evaluate(\n",
        "    \"rps\", #environment to use - no need to change\n",
        "    [\"paper_agent.py\", \"statistical\"], #agents to evaluate\n",
        "    configuration={\"episodeSteps\": 100,\n",
        "                   \"tieRewardThreshold\": 1} #number of episodes\n",
        ")"
      ]
    },
    {
      "cell_type": "markdown",
      "metadata": {
        "id": "gYcq1iInyl6M"
      },
      "source": [
        "### 3. Агент, всегда играющий \"ножницы\""
      ]
    },
    {
      "cell_type": "code",
      "execution_count": 8,
      "metadata": {
        "colab": {
          "base_uri": "https://localhost:8080/"
        },
        "id": "07C09HaWypWl",
        "outputId": "af2b4624-c729-4a53-8fd9-6a73f0f945f8"
      },
      "outputs": [
        {
          "output_type": "stream",
          "name": "stdout",
          "text": [
            "Writing scissors_agent.py\n"
          ]
        }
      ],
      "source": [
        "%%writefile scissors_agent.py\n",
        "\n",
        "def scissors_agent(observation, configuration):\n",
        "    return 2"
      ]
    },
    {
      "cell_type": "code",
      "execution_count": 9,
      "metadata": {
        "colab": {
          "base_uri": "https://localhost:8080/"
        },
        "id": "TmoJJyFhgtk4",
        "outputId": "b2a7575e-9f38-468d-ee5d-ce4220daf331"
      },
      "outputs": [
        {
          "output_type": "execute_result",
          "data": {
            "text/plain": [
              "[[-99.0, 99.0]]"
            ]
          },
          "metadata": {},
          "execution_count": 9
        }
      ],
      "source": [
        "evaluate(\n",
        "    \"rps\", #environment to use - no need to change\n",
        "    [\"scissors_agent.py\", \"statistical\"], #agents to evaluate\n",
        "    configuration={\"episodeSteps\": 100,\n",
        "                   \"tieRewardThreshold\": 1} #number of episodes\n",
        ")"
      ]
    },
    {
      "cell_type": "markdown",
      "metadata": {
        "id": "F_veTp0q0EB8"
      },
      "source": [
        "### 4. Агент всегда выбирает случайное значение"
      ]
    },
    {
      "cell_type": "code",
      "execution_count": 10,
      "metadata": {
        "colab": {
          "base_uri": "https://localhost:8080/"
        },
        "id": "T67y0KG_0Hoo",
        "outputId": "109a685b-e551-4422-dad3-f7cdd0be3cfc"
      },
      "outputs": [
        {
          "output_type": "stream",
          "name": "stdout",
          "text": [
            "Writing random_opponent.py\n"
          ]
        }
      ],
      "source": [
        "%%writefile random_opponent.py\n",
        "\n",
        "import random\n",
        "\n",
        "def random_opponent(observation, configuration):\n",
        "    return random.randrange(0, configuration.signs)"
      ]
    },
    {
      "cell_type": "code",
      "execution_count": 11,
      "metadata": {
        "colab": {
          "base_uri": "https://localhost:8080/"
        },
        "id": "Cw-EKaRfgtk5",
        "outputId": "a0d59823-0180-4832-89c3-595570f4587d"
      },
      "outputs": [
        {
          "output_type": "execute_result",
          "data": {
            "text/plain": [
              "[[-8.0, 8.0]]"
            ]
          },
          "metadata": {},
          "execution_count": 11
        }
      ],
      "source": [
        "evaluate(\n",
        "    \"rps\", #environment to use - no need to change\n",
        "    [\"random_opponent.py\", \"statistical\"], #agents to evaluate\n",
        "    configuration={\"episodeSteps\": 100,\n",
        "                   \"tieRewardThreshold\": 1} #number of episodes\n",
        ")"
      ]
    },
    {
      "cell_type": "markdown",
      "metadata": {
        "id": "et1J5hUGigeh"
      },
      "source": [
        "### 5. Агент повторяет прошлый ход оппонента"
      ]
    },
    {
      "cell_type": "code",
      "execution_count": 12,
      "metadata": {
        "colab": {
          "base_uri": "https://localhost:8080/"
        },
        "id": "7l6Ttw6qi0jk",
        "outputId": "615864fd-12f3-451a-a183-15662655f5c0"
      },
      "outputs": [
        {
          "output_type": "stream",
          "name": "stdout",
          "text": [
            "Writing copy_opponent.py\n"
          ]
        }
      ],
      "source": [
        "%%writefile copy_opponent.py\n",
        "\n",
        "import random\n",
        "\n",
        "def copy_opponent(observation, configuration):\n",
        "    if observation.step > 0:\n",
        "        return observation.lastOpponentAction\n",
        "    else:\n",
        "        return random.randrange(0, configuration.signs)"
      ]
    },
    {
      "cell_type": "code",
      "execution_count": 13,
      "metadata": {
        "colab": {
          "base_uri": "https://localhost:8080/"
        },
        "id": "uN9bw8kMgtk6",
        "outputId": "7b7a9dee-e80e-4919-ec73-0fd7e6c2c014"
      },
      "outputs": [
        {
          "output_type": "execute_result",
          "data": {
            "text/plain": [
              "[[-20.0, 20.0]]"
            ]
          },
          "metadata": {},
          "execution_count": 13
        }
      ],
      "source": [
        "evaluate(\n",
        "    \"rps\", #environment to use - no need to change\n",
        "    [\"copy_opponent.py\", \"statistical\"], #agents to evaluate\n",
        "    configuration={\"episodeSteps\": 100,\n",
        "                   \"tieRewardThreshold\": 1} #number of episodes\n",
        ")"
      ]
    },
    {
      "cell_type": "markdown",
      "metadata": {
        "id": "7sz2Oe2ry7yx"
      },
      "source": [
        "### 6. Агент делает ход, отличный от противника (выбирает следующее действие)"
      ]
    },
    {
      "cell_type": "code",
      "execution_count": 14,
      "metadata": {
        "colab": {
          "base_uri": "https://localhost:8080/"
        },
        "id": "VXkrB6bbzZbT",
        "outputId": "aba3d3e7-f33b-49d2-c1fd-b985023618f0"
      },
      "outputs": [
        {
          "output_type": "stream",
          "name": "stdout",
          "text": [
            "Writing copynext_opponent.py\n"
          ]
        }
      ],
      "source": [
        "%%writefile copynext_opponent.py\n",
        "\n",
        "import random\n",
        "\n",
        "def copynext_opponent(observation, configuration):\n",
        "    if observation.step > 0:\n",
        "        return (observation.lastOpponentAction + 1) % configuration.signs\n",
        "    else:\n",
        "        return random.randrange(0, configuration.signs)"
      ]
    },
    {
      "cell_type": "code",
      "execution_count": 15,
      "metadata": {
        "colab": {
          "base_uri": "https://localhost:8080/"
        },
        "id": "FuVfcbAkgtk7",
        "outputId": "cbdf034f-c5e4-4714-b2e2-fbe7c3782606"
      },
      "outputs": [
        {
          "output_type": "execute_result",
          "data": {
            "text/plain": [
              "[[59.0, -59.0]]"
            ]
          },
          "metadata": {},
          "execution_count": 15
        }
      ],
      "source": [
        "evaluate(\n",
        "    \"rps\", #environment to use - no need to change\n",
        "    [\"copynext_opponent.py\", \"statistical\"], #agents to evaluate\n",
        "    configuration={\"episodeSteps\": 100,\n",
        "                   \"tieRewardThreshold\": 1} #number of episodes\n",
        ")"
      ]
    },
    {
      "cell_type": "markdown",
      "metadata": {
        "id": "UXX1qs3Y3pq9"
      },
      "source": [
        "### 7. Агент делает ход, отличный от противника (выбирает предыдущее действие)"
      ]
    },
    {
      "cell_type": "code",
      "execution_count": 16,
      "metadata": {
        "colab": {
          "base_uri": "https://localhost:8080/"
        },
        "id": "befWCH_53rPC",
        "outputId": "24fd5b4d-dbde-4fa2-fa4d-aeb964b95d20"
      },
      "outputs": [
        {
          "output_type": "stream",
          "name": "stdout",
          "text": [
            "Writing copyprevious_opponent.py\n"
          ]
        }
      ],
      "source": [
        "%%writefile copyprevious_opponent.py\n",
        "\n",
        "import random\n",
        "\n",
        "def copyprevious_opponent(observation, configuration):\n",
        "    if observation.step > 0:\n",
        "        return (observation.lastOpponentAction + 2) % configuration.signs\n",
        "    else:\n",
        "        return random.randrange(0, configuration.signs)"
      ]
    },
    {
      "cell_type": "code",
      "execution_count": 17,
      "metadata": {
        "colab": {
          "base_uri": "https://localhost:8080/"
        },
        "id": "8pv6mC8Mgtk7",
        "outputId": "62feabc8-22c7-4d6b-c1f9-c5923500ec7f"
      },
      "outputs": [
        {
          "output_type": "execute_result",
          "data": {
            "text/plain": [
              "[[-96.0, 96.0]]"
            ]
          },
          "metadata": {},
          "execution_count": 17
        }
      ],
      "source": [
        "evaluate(\n",
        "    \"rps\", #environment to use - no need to change\n",
        "    [\"copyprevious_opponent.py\", \"statistical\"], #agents to evaluate\n",
        "    configuration={\"episodeSteps\": 100,\n",
        "                   \"tieRewardThreshold\": 1} #number of episodes\n",
        ")"
      ]
    },
    {
      "cell_type": "markdown",
      "metadata": {
        "id": "Et9IxnQCgtk8"
      },
      "source": [
        "### 8. Агент равновероятно играет то, что не выкинул противник на прошлом ходу"
      ]
    },
    {
      "cell_type": "code",
      "execution_count": 18,
      "metadata": {
        "colab": {
          "base_uri": "https://localhost:8080/"
        },
        "id": "LPLAItqZgtk8",
        "outputId": "879acd1f-f33a-4043-bbf6-fc1d0cefdab3"
      },
      "outputs": [
        {
          "output_type": "stream",
          "name": "stdout",
          "text": [
            "Writing opposit_agent.py\n"
          ]
        }
      ],
      "source": [
        "%%writefile opposit_agent.py\n",
        "\n",
        "import random\n",
        "\n",
        "def opposit_agent(observation, configuration):\n",
        "    if observation.step > 0:\n",
        "        if observation.lastOpponentAction == 0:\n",
        "            return random.choice([1,2])\n",
        "        elif observation.lastOpponentAction == 1:\n",
        "            return random.choice([0,2])\n",
        "        else:\n",
        "            return random.choice([1,0])\n",
        "    else:\n",
        "        return random.randrange(0, configuration.signs)"
      ]
    },
    {
      "cell_type": "code",
      "execution_count": 19,
      "metadata": {
        "colab": {
          "base_uri": "https://localhost:8080/"
        },
        "id": "Xc_rtj6Fgtk8",
        "outputId": "de54cd75-7bb9-4110-b68a-4eea6e57090e"
      },
      "outputs": [
        {
          "output_type": "execute_result",
          "data": {
            "text/plain": [
              "[[-17.0, 17.0]]"
            ]
          },
          "metadata": {},
          "execution_count": 19
        }
      ],
      "source": [
        "evaluate(\n",
        "    \"rps\", #environment to use - no need to change\n",
        "    [\"opposit_agent.py\", \"statistical\"], #agents to evaluate\n",
        "    configuration={\"episodeSteps\": 100,\n",
        "                   \"tieRewardThreshold\": 1} #number of episodes\n",
        ")"
      ]
    },
    {
      "cell_type": "markdown",
      "metadata": {
        "id": "UMkYCrDl5KAA"
      },
      "source": [
        "### 9. Агент выбрасывает три раза одно и то же, после чего меняет выбор на следующее случайное"
      ]
    },
    {
      "cell_type": "code",
      "execution_count": 20,
      "metadata": {
        "id": "Tj5tEIw85UIN",
        "colab": {
          "base_uri": "https://localhost:8080/"
        },
        "outputId": "81527847-42dd-49da-f217-467dab8eace0"
      },
      "outputs": [
        {
          "output_type": "stream",
          "name": "stdout",
          "text": [
            "Writing random3_opponent.py\n"
          ]
        }
      ],
      "source": [
        "%%writefile random3_opponent.py\n",
        "\n",
        "import random\n",
        "\n",
        "counter = 0\n",
        "stable_sign = None\n",
        "\n",
        "def random3_opponent(observation, configuration):\n",
        "    global counter\n",
        "    global stable_sign\n",
        "    if observation.step == 0:\n",
        "        stable_sign = random.randrange(0, configuration.signs)\n",
        "    elif counter % 3 == 2:\n",
        "        stable_sign = random.randrange(0, configuration.signs)\n",
        "    counter += 1\n",
        "    return stable_sign"
      ]
    },
    {
      "cell_type": "code",
      "execution_count": 21,
      "metadata": {
        "colab": {
          "base_uri": "https://localhost:8080/"
        },
        "id": "PqiGmb62gtk9",
        "outputId": "a0f6d706-3edc-4047-bfd5-ef48c701eb92"
      },
      "outputs": [
        {
          "output_type": "execute_result",
          "data": {
            "text/plain": [
              "[[-17.0, 17.0]]"
            ]
          },
          "metadata": {},
          "execution_count": 21
        }
      ],
      "source": [
        "evaluate(\n",
        "    \"rps\", #environment to use - no need to change\n",
        "    [\"random3_opponent.py\", \"statistical\"], #agents to evaluate\n",
        "    configuration={\"episodeSteps\": 100,\n",
        "                   \"tieRewardThreshold\": 1} #number of episodes\n",
        ")"
      ]
    },
    {
      "cell_type": "markdown",
      "metadata": {
        "id": "nwSSgzoSzqCx"
      },
      "source": [
        "### 10. Агент производит то же действие, если выиграл, и меняет на следующее, если проиграл"
      ]
    },
    {
      "cell_type": "code",
      "execution_count": 22,
      "metadata": {
        "id": "kzNKEiGr2WUu",
        "colab": {
          "base_uri": "https://localhost:8080/"
        },
        "outputId": "ab2c88c6-e67c-4e3d-a4ec-f51b6c29dcb9"
      },
      "outputs": [
        {
          "output_type": "stream",
          "name": "stdout",
          "text": [
            "Writing win_reaction1.py\n"
          ]
        }
      ],
      "source": [
        "%%writefile win_reaction1.py\n",
        "\n",
        "import math\n",
        "\n",
        "def get_score(left_move, right_move):\n",
        "    delta = (\n",
        "        right_move - left_move\n",
        "        if (left_move + right_move) % 2 == 0\n",
        "        else left_move - right_move\n",
        "    )\n",
        "    return 0 if delta == 0 else math.copysign(1, delta)\n",
        "\n",
        "import random\n",
        "\n",
        "lastAction = None\n",
        "\n",
        "def win_reaction1(observation, configuration):\n",
        "    global lastAction\n",
        "    if observation.step == 0:\n",
        "        lastAction = random.randrange(0, configuration.signs)\n",
        "    elif get_score(lastAction, observation.lastOpponentAction) < 1:\n",
        "        lastAction = (lastAction + 1) % configuration.signs\n",
        "    return lastAction"
      ]
    },
    {
      "cell_type": "code",
      "execution_count": 23,
      "metadata": {
        "colab": {
          "base_uri": "https://localhost:8080/"
        },
        "id": "1RB5cpDUgtk-",
        "outputId": "4348f457-d9be-4ef2-8697-0068702de6c5"
      },
      "outputs": [
        {
          "output_type": "execute_result",
          "data": {
            "text/plain": [
              "[[27.0, -27.0]]"
            ]
          },
          "metadata": {},
          "execution_count": 23
        }
      ],
      "source": [
        "evaluate(\n",
        "    \"rps\", #environment to use - no need to change\n",
        "    [\"win_reaction1.py\", \"statistical\"], #agents to evaluate\n",
        "    configuration={\"episodeSteps\": 100,\n",
        "                   \"tieRewardThreshold\": 1} #number of episodes\n",
        ")"
      ]
    },
    {
      "cell_type": "markdown",
      "metadata": {
        "id": "Ix0jfnmI4UKF"
      },
      "source": [
        "### 11. Агент производит то же действие, если выиграл, и меняет на предыдущее, если проиграл"
      ]
    },
    {
      "cell_type": "code",
      "execution_count": 24,
      "metadata": {
        "id": "9z6JFjDV4XbM",
        "colab": {
          "base_uri": "https://localhost:8080/"
        },
        "outputId": "066ac763-cf4a-4692-fb37-ce6976e0148c"
      },
      "outputs": [
        {
          "output_type": "stream",
          "name": "stdout",
          "text": [
            "Writing win_reaction2.py\n"
          ]
        }
      ],
      "source": [
        "%%writefile win_reaction2.py\n",
        "\n",
        "import math\n",
        "\n",
        "def get_score(left_move, right_move):\n",
        "    delta = (\n",
        "        right_move - left_move\n",
        "        if (left_move + right_move) % 2 == 0\n",
        "        else left_move - right_move\n",
        "    )\n",
        "    return 0 if delta == 0 else math.copysign(1, delta)\n",
        "\n",
        "import random\n",
        "\n",
        "lastAction = None\n",
        "\n",
        "def win_reaction2(observation, configuration):\n",
        "    global lastAction\n",
        "    if observation.step == 0:\n",
        "        lastAction = random.randrange(0, configuration.signs)\n",
        "    elif get_score(lastAction, observation.lastOpponentAction) < 1:\n",
        "        lastAction = (lastAction + 2) % configuration.signs\n",
        "    return lastAction"
      ]
    },
    {
      "cell_type": "code",
      "execution_count": 25,
      "metadata": {
        "colab": {
          "base_uri": "https://localhost:8080/"
        },
        "id": "vB0w9y5lgtk_",
        "outputId": "0ce8ddbf-4a47-4366-e29f-93030adc4802"
      },
      "outputs": [
        {
          "output_type": "execute_result",
          "data": {
            "text/plain": [
              "[[59.0, -59.0]]"
            ]
          },
          "metadata": {},
          "execution_count": 25
        }
      ],
      "source": [
        "evaluate(\n",
        "    \"rps\", #environment to use - no need to change\n",
        "    [\"win_reaction2.py\", \"statistical\"], #agents to evaluate\n",
        "    configuration={\"episodeSteps\": 100,\n",
        "                   \"tieRewardThreshold\": 1} #number of episodes\n",
        ")"
      ]
    },
    {
      "cell_type": "markdown",
      "metadata": {
        "id": "VHfuloXJ4sQn"
      },
      "source": [
        "### 12. Агент производит то же действие, если выиграл, и меняет на действие противника, если проиграл"
      ]
    },
    {
      "cell_type": "code",
      "execution_count": 26,
      "metadata": {
        "id": "cOKkhxDs4-3G",
        "colab": {
          "base_uri": "https://localhost:8080/"
        },
        "outputId": "ca8acad2-884b-45e3-fcf4-1ad4e0116c6d"
      },
      "outputs": [
        {
          "output_type": "stream",
          "name": "stdout",
          "text": [
            "Writing win_opposit1.py\n"
          ]
        }
      ],
      "source": [
        "%%writefile win_opposit1.py\n",
        "\n",
        "import math\n",
        "\n",
        "def get_score(left_move, right_move):\n",
        "    delta = (\n",
        "        right_move - left_move\n",
        "        if (left_move + right_move) % 2 == 0\n",
        "        else left_move - right_move\n",
        "    )\n",
        "    return 0 if delta == 0 else math.copysign(1, delta)\n",
        "\n",
        "import random\n",
        "\n",
        "lastAction = None\n",
        "\n",
        "def win_opposit1(observation, configuration):\n",
        "    global lastAction\n",
        "    if observation.step == 0:\n",
        "        lastAction = random.randrange(0, configuration.signs)\n",
        "    elif get_score(lastAction, observation.lastOpponentAction) < 1:\n",
        "        lastAction = observation.lastOpponentAction\n",
        "    return lastAction"
      ]
    },
    {
      "cell_type": "code",
      "execution_count": 27,
      "metadata": {
        "colab": {
          "base_uri": "https://localhost:8080/"
        },
        "id": "SadZpBA4gtk_",
        "outputId": "a3a8118e-e65b-46ac-ee86-7bc6817b6a62"
      },
      "outputs": [
        {
          "output_type": "execute_result",
          "data": {
            "text/plain": [
              "[[-20.0, 20.0]]"
            ]
          },
          "metadata": {},
          "execution_count": 27
        }
      ],
      "source": [
        "evaluate(\n",
        "    \"rps\", #environment to use - no need to change\n",
        "    [\"win_opposit1.py\", \"statistical\"], #agents to evaluate\n",
        "    configuration={\"episodeSteps\": 100,\n",
        "                   \"tieRewardThreshold\": 1} #number of episodes\n",
        ")"
      ]
    },
    {
      "cell_type": "markdown",
      "metadata": {
        "id": "1zLKXMXjgtlA"
      },
      "source": [
        "### 13. Агент производит то же действие, если проиграл, и меняет на действие противника, если выиграл"
      ]
    },
    {
      "cell_type": "markdown",
      "source": [],
      "metadata": {
        "id": "J6LB5Q-gmGR9"
      }
    },
    {
      "cell_type": "code",
      "execution_count": 28,
      "metadata": {
        "colab": {
          "base_uri": "https://localhost:8080/"
        },
        "id": "vFS1g_qZgtlA",
        "outputId": "085e091b-a931-41b9-ae59-cfbcda9ec139"
      },
      "outputs": [
        {
          "output_type": "stream",
          "name": "stdout",
          "text": [
            "Writing win_opposit2.py\n"
          ]
        }
      ],
      "source": [
        "%%writefile win_opposit2.py\n",
        "\n",
        "import math\n",
        "\n",
        "def get_score(left_move, right_move):\n",
        "    delta = (\n",
        "        right_move - left_move\n",
        "        if (left_move + right_move) % 2 == 0\n",
        "        else left_move - right_move\n",
        "    )\n",
        "    return 0 if delta == 0 else math.copysign(1, delta)\n",
        "\n",
        "import random\n",
        "\n",
        "lastAction = None\n",
        "\n",
        "def win_opposit2(observation, configuration):\n",
        "    global lastAction\n",
        "    if observation.step == 0:\n",
        "        lastAction = random.randrange(0, configuration.signs)\n",
        "    elif get_score(lastAction, observation.lastOpponentAction) == 1:\n",
        "        lastAction = observation.lastOpponentAction\n",
        "    return lastAction"
      ]
    },
    {
      "cell_type": "code",
      "execution_count": 29,
      "metadata": {
        "colab": {
          "base_uri": "https://localhost:8080/"
        },
        "id": "TyKN_n17gtlA",
        "outputId": "3ecbe2a3-a47b-4a0a-ea6c-1ae83ee3183e"
      },
      "outputs": [
        {
          "output_type": "execute_result",
          "data": {
            "text/plain": [
              "[[-93.0, 93.0]]"
            ]
          },
          "metadata": {},
          "execution_count": 29
        }
      ],
      "source": [
        "evaluate(\n",
        "    \"rps\", #environment to use - no need to change\n",
        "    [\"win_opposit2.py\", \"statistical\"], #agents to evaluate\n",
        "    configuration={\"episodeSteps\": 100,\n",
        "                   \"tieRewardThreshold\": 1} #number of episodes\n",
        ")"
      ]
    },
    {
      "cell_type": "markdown",
      "metadata": {
        "id": "N7a0lWpc4-BT"
      },
      "source": [
        "### 14. Агент производит то же действие, если выиграл, и меняет на случайное, если проиграл"
      ]
    },
    {
      "cell_type": "code",
      "execution_count": 30,
      "metadata": {
        "colab": {
          "base_uri": "https://localhost:8080/"
        },
        "id": "K8vgXSXCgtlB",
        "outputId": "4ab233d4-ef34-4f02-99fc-df20c5df4ac8"
      },
      "outputs": [
        {
          "output_type": "stream",
          "name": "stdout",
          "text": [
            "Writing win_random1.py\n"
          ]
        }
      ],
      "source": [
        "%%writefile win_random1.py\n",
        "\n",
        "import math\n",
        "\n",
        "def get_score(left_move, right_move):\n",
        "    delta = (\n",
        "        right_move - left_move\n",
        "        if (left_move + right_move) % 2 == 0\n",
        "        else left_move - right_move\n",
        "    )\n",
        "    return 0 if delta == 0 else math.copysign(1, delta)\n",
        "\n",
        "import random\n",
        "\n",
        "lastAction = None\n",
        "\n",
        "def win_random1(observation, configuration):\n",
        "    global lastAction\n",
        "    if observation.step == 0 or get_score(lastAction, observation.lastOpponentAction) < 1:\n",
        "        lastAction = random.randrange(0, configuration.signs)\n",
        "    return lastAction"
      ]
    },
    {
      "cell_type": "code",
      "execution_count": 31,
      "metadata": {
        "colab": {
          "base_uri": "https://localhost:8080/"
        },
        "id": "tKSV1aMYgtlB",
        "outputId": "7a303b9c-fed4-4ce7-f9ad-dcdd2124f780"
      },
      "outputs": [
        {
          "output_type": "execute_result",
          "data": {
            "text/plain": [
              "[[30.0, -30.0]]"
            ]
          },
          "metadata": {},
          "execution_count": 31
        }
      ],
      "source": [
        "evaluate(\n",
        "    \"rps\", #environment to use - no need to change\n",
        "    [\"win_random1.py\", \"statistical\"], #agents to evaluate\n",
        "    configuration={\"episodeSteps\": 100,\n",
        "                   \"tieRewardThreshold\": 1} #number of episodes\n",
        ")"
      ]
    },
    {
      "cell_type": "markdown",
      "metadata": {
        "id": "E6dchFDB5VrE"
      },
      "source": [
        "### 15. Агент повторяет свой предущий ход, если проиграл, и меняет на случайное, если выиграл"
      ]
    },
    {
      "cell_type": "code",
      "execution_count": 32,
      "metadata": {
        "colab": {
          "base_uri": "https://localhost:8080/"
        },
        "id": "EXDzMeWRgtlB",
        "outputId": "1b909d16-d927-49f1-f23c-d44f7a17b68d"
      },
      "outputs": [
        {
          "output_type": "stream",
          "name": "stdout",
          "text": [
            "Writing win_random2.py\n"
          ]
        }
      ],
      "source": [
        "%%writefile win_random2.py\n",
        "\n",
        "import math\n",
        "\n",
        "def get_score(left_move, right_move):\n",
        "    delta = (\n",
        "        right_move - left_move\n",
        "        if (left_move + right_move) % 2 == 0\n",
        "        else left_move - right_move\n",
        "    )\n",
        "    return 0 if delta == 0 else math.copysign(1, delta)\n",
        "\n",
        "import random\n",
        "\n",
        "lastAction = None\n",
        "\n",
        "def win_random2(observation, configuration):\n",
        "    global lastAction\n",
        "    if observation.step == 0 or get_score(lastAction, observation.lastOpponentAction) == 1:\n",
        "        lastAction = random.randrange(0, configuration.signs)\n",
        "    return lastAction"
      ]
    },
    {
      "cell_type": "code",
      "execution_count": 33,
      "metadata": {
        "colab": {
          "base_uri": "https://localhost:8080/"
        },
        "id": "0tCCCJGpgtlB",
        "outputId": "5cd0b55a-d7eb-4c7e-b158-1699dcbfdb06"
      },
      "outputs": [
        {
          "output_type": "execute_result",
          "data": {
            "text/plain": [
              "[[-99.0, 99.0]]"
            ]
          },
          "metadata": {},
          "execution_count": 33
        }
      ],
      "source": [
        "evaluate(\n",
        "    \"rps\", #environment to use - no need to change\n",
        "    [\"win_random2.py\", \"statistical\"], #agents to evaluate\n",
        "    configuration={\"episodeSteps\": 100,\n",
        "                   \"tieRewardThreshold\": 1} #number of episodes\n",
        ")"
      ]
    },
    {
      "cell_type": "markdown",
      "metadata": {
        "id": "qR46p90OgtlC"
      },
      "source": [
        "### 16. Агент играет по очереди камень, бумагу, ножницы"
      ]
    },
    {
      "cell_type": "code",
      "execution_count": 34,
      "metadata": {
        "colab": {
          "base_uri": "https://localhost:8080/"
        },
        "id": "A7dnVKtEgtlC",
        "outputId": "e97d1356-17aa-41b3-d251-075a78d0e1a0"
      },
      "outputs": [
        {
          "output_type": "stream",
          "name": "stdout",
          "text": [
            "Writing sequence_agent.py\n"
          ]
        }
      ],
      "source": [
        "%%writefile sequence_agent.py\n",
        "\n",
        "counter = -1\n",
        "\n",
        "def sequence(observation, configuration):\n",
        "    global counter\n",
        "    counter += 1\n",
        "    if counter % 3 == 0:\n",
        "        return 0\n",
        "    elif counter % 3 == 1:\n",
        "        return 1\n",
        "    else:\n",
        "        return 2"
      ]
    },
    {
      "cell_type": "code",
      "execution_count": 35,
      "metadata": {
        "colab": {
          "base_uri": "https://localhost:8080/"
        },
        "id": "Ptk9jvBzgtlC",
        "outputId": "12852436-1e96-4161-8e85-7e724274e35a"
      },
      "outputs": [
        {
          "output_type": "execute_result",
          "data": {
            "text/plain": [
              "[[1.0, -1.0]]"
            ]
          },
          "metadata": {},
          "execution_count": 35
        }
      ],
      "source": [
        "evaluate(\n",
        "    \"rps\", #environment to use - no need to change\n",
        "    [\"sequence_agent.py\", \"statistical\"], #agents to evaluate\n",
        "    configuration={\"episodeSteps\": 100,\n",
        "                   \"tieRewardThreshold\": 1} #number of episodes\n",
        ")"
      ]
    },
    {
      "cell_type": "markdown",
      "metadata": {
        "id": "lWUlQol2gtlC"
      },
      "source": [
        "### Турнир\n",
        "\n",
        "Воспользуемся функцией `evaluate` из библиотеки `kaggle_environments`. С её помощью запустим наших агентов и проведем эксперимент на заданном количестве игр\n",
        "\n",
        "Составим список агентов, потом заставим их сыграть между собой по количеству партий.\n",
        "Получившуюся статистику побед запишем в словарь и выведем в виде таблицы pandas"
      ]
    },
    {
      "cell_type": "code",
      "source": [
        "def run_rps_tournament(agents, num_rounds=3):\n",
        "    \"\"\"\n",
        "    Run a Rock Paper Scissors tournament between multiple agents.\n",
        "\n",
        "    Args:\n",
        "        agents (list): List of agent filenames to compete\n",
        "        num_rounds (int): Number of rounds for each matchup\n",
        "\n",
        "    Returns:\n",
        "        dict: Dictionary of agent rankings\n",
        "    \"\"\"\n",
        "    # Initialize ranking dictionary\n",
        "    rank = {agent: 0 for agent in agents}\n",
        "\n",
        "    def evaluate_pair(pair):\n",
        "        \"\"\"Evaluate a pair of agents and return the winner.\"\"\"\n",
        "        agent1, agent2 = pair\n",
        "        try:\n",
        "            e = evaluate(\n",
        "                \"rps\",  # Environment to use\n",
        "                [agent1, agent2],  # Agents to evaluate\n",
        "                configuration={\"episodeSteps\": 100, 'tieRewardThreshold': 1}\n",
        "            )\n",
        "            return (agent1, agent2, e[0][0], e[0][1])\n",
        "        except Exception as exc:\n",
        "            display(f\"Match error ({agent1} vs {agent2}): {str(exc)}\")\n",
        "            return None\n",
        "\n",
        "    # Generate all possible pairs of agents\n",
        "    agent_pairs = list(combinations(agents, 2))\n",
        "    matches_completed = 0\n",
        "    total_matches = len(agent_pairs)\n",
        "\n",
        "    # Display initial progress\n",
        "    display(f\"Starting tournament with {total_matches} matches...\")\n",
        "\n",
        "    # Use ThreadPoolExecutor for parallel evaluation\n",
        "    with ThreadPoolExecutor() as executor:\n",
        "        futures = []\n",
        "\n",
        "        # Submit all pairs for evaluation\n",
        "        for pair in agent_pairs:\n",
        "            futures.append(executor.submit(evaluate_pair, pair))\n",
        "\n",
        "        # Process results as they complete\n",
        "        for future in futures:\n",
        "            try:\n",
        "                result = future.result()\n",
        "                if result:\n",
        "                    agent1, agent2, score1, score2 = result\n",
        "                    matches_completed += 1\n",
        "\n",
        "                    if score1 > score2:\n",
        "                        rank[agent1] += 1\n",
        "                    elif score1 < score2:\n",
        "                        rank[agent2] += 1\n",
        "\n",
        "                    # Update progress every 5 matches\n",
        "                    if matches_completed % 5 == 0:\n",
        "                        display(f\"Progress: {matches_completed}/{total_matches} matches completed\")\n",
        "\n",
        "            except Exception as exc:\n",
        "                display(f\"Error processing match result: {str(exc)}\")\n",
        "                continue\n",
        "\n",
        "    return dict(sorted(rank.items(), key=lambda x: x[1], reverse=True))\n",
        "\n",
        "def display_tournament_results(rankings):\n",
        "    \"\"\"Display tournament results in a formatted way.\"\"\"\n",
        "    display(\"\\nTournament Results:\")\n",
        "    display(\"-\" * 50)\n",
        "    display(f\"{'Agent':<30} {'Score':<10}\")\n",
        "    display(\"-\" * 50)\n",
        "\n",
        "    for agent, score in rankings.items():\n",
        "        display(f\"{agent:<30} {score:<10}\")\n",
        "\n",
        "    display(\"-\" * 50)\n",
        "\n",
        "# List of agent scripts\n",
        "agents = [\n",
        "    'rock_agent.py',\n",
        "    'paper_agent.py',\n",
        "    'scissors_agent.py',\n",
        "    'random_opponent.py',\n",
        "    'copy_opponent.py',\n",
        "    'copynext_opponent.py',\n",
        "    'copyprevious_opponent.py',\n",
        "    'opposit_agent.py',\n",
        "    'random3_opponent.py',\n",
        "    'win_reaction1.py',\n",
        "    'win_reaction2.py',\n",
        "    'win_opposit1.py',\n",
        "    'win_opposit2.py',\n",
        "    'win_random1.py',\n",
        "    'win_random2.py',\n",
        "    'sequence_agent.py'\n",
        "]\n",
        "\n",
        "try:\n",
        "    # Run tournament\n",
        "    rankings = run_rps_tournament(agents)\n",
        "\n",
        "    # Display results\n",
        "    display_tournament_results(rankings)\n",
        "\n",
        "except Exception as e:\n",
        "    display(f\"Tournament error: {str(e)}\")"
      ],
      "metadata": {
        "colab": {
          "base_uri": "https://localhost:8080/",
          "height": 862
        },
        "id": "Ea8PjgwwpyLh",
        "outputId": "f214351d-0b1a-4856-f8df-8b0c0e932b8e"
      },
      "execution_count": 36,
      "outputs": [
        {
          "output_type": "display_data",
          "data": {
            "text/plain": [
              "'Starting tournament with 120 matches...'"
            ],
            "application/vnd.google.colaboratory.intrinsic+json": {
              "type": "string"
            }
          },
          "metadata": {}
        },
        {
          "output_type": "display_data",
          "data": {
            "text/plain": [
              "'Progress: 5/120 matches completed'"
            ],
            "application/vnd.google.colaboratory.intrinsic+json": {
              "type": "string"
            }
          },
          "metadata": {}
        },
        {
          "output_type": "display_data",
          "data": {
            "text/plain": [
              "'Progress: 10/120 matches completed'"
            ],
            "application/vnd.google.colaboratory.intrinsic+json": {
              "type": "string"
            }
          },
          "metadata": {}
        },
        {
          "output_type": "display_data",
          "data": {
            "text/plain": [
              "'Progress: 15/120 matches completed'"
            ],
            "application/vnd.google.colaboratory.intrinsic+json": {
              "type": "string"
            }
          },
          "metadata": {}
        },
        {
          "output_type": "display_data",
          "data": {
            "text/plain": [
              "'Progress: 20/120 matches completed'"
            ],
            "application/vnd.google.colaboratory.intrinsic+json": {
              "type": "string"
            }
          },
          "metadata": {}
        },
        {
          "output_type": "display_data",
          "data": {
            "text/plain": [
              "'Progress: 25/120 matches completed'"
            ],
            "application/vnd.google.colaboratory.intrinsic+json": {
              "type": "string"
            }
          },
          "metadata": {}
        },
        {
          "output_type": "display_data",
          "data": {
            "text/plain": [
              "'Progress: 30/120 matches completed'"
            ],
            "application/vnd.google.colaboratory.intrinsic+json": {
              "type": "string"
            }
          },
          "metadata": {}
        },
        {
          "output_type": "display_data",
          "data": {
            "text/plain": [
              "'Progress: 35/120 matches completed'"
            ],
            "application/vnd.google.colaboratory.intrinsic+json": {
              "type": "string"
            }
          },
          "metadata": {}
        },
        {
          "output_type": "display_data",
          "data": {
            "text/plain": [
              "'Progress: 40/120 matches completed'"
            ],
            "application/vnd.google.colaboratory.intrinsic+json": {
              "type": "string"
            }
          },
          "metadata": {}
        },
        {
          "output_type": "display_data",
          "data": {
            "text/plain": [
              "'Progress: 45/120 matches completed'"
            ],
            "application/vnd.google.colaboratory.intrinsic+json": {
              "type": "string"
            }
          },
          "metadata": {}
        },
        {
          "output_type": "display_data",
          "data": {
            "text/plain": [
              "'Progress: 50/120 matches completed'"
            ],
            "application/vnd.google.colaboratory.intrinsic+json": {
              "type": "string"
            }
          },
          "metadata": {}
        },
        {
          "output_type": "display_data",
          "data": {
            "text/plain": [
              "'Progress: 55/120 matches completed'"
            ],
            "application/vnd.google.colaboratory.intrinsic+json": {
              "type": "string"
            }
          },
          "metadata": {}
        },
        {
          "output_type": "display_data",
          "data": {
            "text/plain": [
              "'Progress: 60/120 matches completed'"
            ],
            "application/vnd.google.colaboratory.intrinsic+json": {
              "type": "string"
            }
          },
          "metadata": {}
        },
        {
          "output_type": "display_data",
          "data": {
            "text/plain": [
              "'Progress: 65/120 matches completed'"
            ],
            "application/vnd.google.colaboratory.intrinsic+json": {
              "type": "string"
            }
          },
          "metadata": {}
        },
        {
          "output_type": "display_data",
          "data": {
            "text/plain": [
              "'Progress: 70/120 matches completed'"
            ],
            "application/vnd.google.colaboratory.intrinsic+json": {
              "type": "string"
            }
          },
          "metadata": {}
        },
        {
          "output_type": "display_data",
          "data": {
            "text/plain": [
              "'Progress: 75/120 matches completed'"
            ],
            "application/vnd.google.colaboratory.intrinsic+json": {
              "type": "string"
            }
          },
          "metadata": {}
        },
        {
          "output_type": "display_data",
          "data": {
            "text/plain": [
              "'Progress: 80/120 matches completed'"
            ],
            "application/vnd.google.colaboratory.intrinsic+json": {
              "type": "string"
            }
          },
          "metadata": {}
        },
        {
          "output_type": "display_data",
          "data": {
            "text/plain": [
              "'Progress: 85/120 matches completed'"
            ],
            "application/vnd.google.colaboratory.intrinsic+json": {
              "type": "string"
            }
          },
          "metadata": {}
        },
        {
          "output_type": "display_data",
          "data": {
            "text/plain": [
              "'Progress: 90/120 matches completed'"
            ],
            "application/vnd.google.colaboratory.intrinsic+json": {
              "type": "string"
            }
          },
          "metadata": {}
        },
        {
          "output_type": "display_data",
          "data": {
            "text/plain": [
              "'Progress: 95/120 matches completed'"
            ],
            "application/vnd.google.colaboratory.intrinsic+json": {
              "type": "string"
            }
          },
          "metadata": {}
        },
        {
          "output_type": "display_data",
          "data": {
            "text/plain": [
              "'Progress: 100/120 matches completed'"
            ],
            "application/vnd.google.colaboratory.intrinsic+json": {
              "type": "string"
            }
          },
          "metadata": {}
        },
        {
          "output_type": "display_data",
          "data": {
            "text/plain": [
              "'Progress: 105/120 matches completed'"
            ],
            "application/vnd.google.colaboratory.intrinsic+json": {
              "type": "string"
            }
          },
          "metadata": {}
        },
        {
          "output_type": "display_data",
          "data": {
            "text/plain": [
              "'Progress: 110/120 matches completed'"
            ],
            "application/vnd.google.colaboratory.intrinsic+json": {
              "type": "string"
            }
          },
          "metadata": {}
        },
        {
          "output_type": "display_data",
          "data": {
            "text/plain": [
              "'Progress: 115/120 matches completed'"
            ],
            "application/vnd.google.colaboratory.intrinsic+json": {
              "type": "string"
            }
          },
          "metadata": {}
        },
        {
          "output_type": "display_data",
          "data": {
            "text/plain": [
              "'Progress: 120/120 matches completed'"
            ],
            "application/vnd.google.colaboratory.intrinsic+json": {
              "type": "string"
            }
          },
          "metadata": {}
        },
        {
          "output_type": "display_data",
          "data": {
            "text/plain": [
              "'\\nTournament Results:'"
            ],
            "application/vnd.google.colaboratory.intrinsic+json": {
              "type": "string"
            }
          },
          "metadata": {}
        },
        {
          "output_type": "display_data",
          "data": {
            "text/plain": [
              "'--------------------------------------------------'"
            ],
            "application/vnd.google.colaboratory.intrinsic+json": {
              "type": "string"
            }
          },
          "metadata": {}
        },
        {
          "output_type": "display_data",
          "data": {
            "text/plain": [
              "'Agent                          Score     '"
            ],
            "application/vnd.google.colaboratory.intrinsic+json": {
              "type": "string"
            }
          },
          "metadata": {}
        },
        {
          "output_type": "display_data",
          "data": {
            "text/plain": [
              "'--------------------------------------------------'"
            ],
            "application/vnd.google.colaboratory.intrinsic+json": {
              "type": "string"
            }
          },
          "metadata": {}
        },
        {
          "output_type": "display_data",
          "data": {
            "text/plain": [
              "'win_reaction2.py               12        '"
            ],
            "application/vnd.google.colaboratory.intrinsic+json": {
              "type": "string"
            }
          },
          "metadata": {}
        },
        {
          "output_type": "display_data",
          "data": {
            "text/plain": [
              "'win_random1.py                 12        '"
            ],
            "application/vnd.google.colaboratory.intrinsic+json": {
              "type": "string"
            }
          },
          "metadata": {}
        },
        {
          "output_type": "display_data",
          "data": {
            "text/plain": [
              "'copynext_opponent.py           10        '"
            ],
            "application/vnd.google.colaboratory.intrinsic+json": {
              "type": "string"
            }
          },
          "metadata": {}
        },
        {
          "output_type": "display_data",
          "data": {
            "text/plain": [
              "'win_reaction1.py               10        '"
            ],
            "application/vnd.google.colaboratory.intrinsic+json": {
              "type": "string"
            }
          },
          "metadata": {}
        },
        {
          "output_type": "display_data",
          "data": {
            "text/plain": [
              "'opposit_agent.py               8         '"
            ],
            "application/vnd.google.colaboratory.intrinsic+json": {
              "type": "string"
            }
          },
          "metadata": {}
        },
        {
          "output_type": "display_data",
          "data": {
            "text/plain": [
              "'random3_opponent.py            8         '"
            ],
            "application/vnd.google.colaboratory.intrinsic+json": {
              "type": "string"
            }
          },
          "metadata": {}
        },
        {
          "output_type": "display_data",
          "data": {
            "text/plain": [
              "'scissors_agent.py              7         '"
            ],
            "application/vnd.google.colaboratory.intrinsic+json": {
              "type": "string"
            }
          },
          "metadata": {}
        },
        {
          "output_type": "display_data",
          "data": {
            "text/plain": [
              "'rock_agent.py                  6         '"
            ],
            "application/vnd.google.colaboratory.intrinsic+json": {
              "type": "string"
            }
          },
          "metadata": {}
        },
        {
          "output_type": "display_data",
          "data": {
            "text/plain": [
              "'paper_agent.py                 6         '"
            ],
            "application/vnd.google.colaboratory.intrinsic+json": {
              "type": "string"
            }
          },
          "metadata": {}
        },
        {
          "output_type": "display_data",
          "data": {
            "text/plain": [
              "'copy_opponent.py               6         '"
            ],
            "application/vnd.google.colaboratory.intrinsic+json": {
              "type": "string"
            }
          },
          "metadata": {}
        },
        {
          "output_type": "display_data",
          "data": {
            "text/plain": [
              "'copyprevious_opponent.py       5         '"
            ],
            "application/vnd.google.colaboratory.intrinsic+json": {
              "type": "string"
            }
          },
          "metadata": {}
        },
        {
          "output_type": "display_data",
          "data": {
            "text/plain": [
              "'win_opposit1.py                5         '"
            ],
            "application/vnd.google.colaboratory.intrinsic+json": {
              "type": "string"
            }
          },
          "metadata": {}
        },
        {
          "output_type": "display_data",
          "data": {
            "text/plain": [
              "'win_random2.py                 5         '"
            ],
            "application/vnd.google.colaboratory.intrinsic+json": {
              "type": "string"
            }
          },
          "metadata": {}
        },
        {
          "output_type": "display_data",
          "data": {
            "text/plain": [
              "'sequence_agent.py              4         '"
            ],
            "application/vnd.google.colaboratory.intrinsic+json": {
              "type": "string"
            }
          },
          "metadata": {}
        },
        {
          "output_type": "display_data",
          "data": {
            "text/plain": [
              "'random_opponent.py             3         '"
            ],
            "application/vnd.google.colaboratory.intrinsic+json": {
              "type": "string"
            }
          },
          "metadata": {}
        },
        {
          "output_type": "display_data",
          "data": {
            "text/plain": [
              "'win_opposit2.py                3         '"
            ],
            "application/vnd.google.colaboratory.intrinsic+json": {
              "type": "string"
            }
          },
          "metadata": {}
        },
        {
          "output_type": "display_data",
          "data": {
            "text/plain": [
              "'--------------------------------------------------'"
            ],
            "application/vnd.google.colaboratory.intrinsic+json": {
              "type": "string"
            }
          },
          "metadata": {}
        }
      ]
    },
    {
      "cell_type": "markdown",
      "source": [],
      "metadata": {
        "id": "kkj_a8F7bxvq"
      }
    },
    {
      "cell_type": "code",
      "source": [
        "logging.basicConfig(level=logging.INFO, format='%(message)s')\n",
        "logger = logging.getLogger(__name__)\n",
        "print_lock = Lock()\n",
        "rounds_count = 100\n",
        "workers_count = 4\n",
        "\n",
        "@dataclass\n",
        "class MatchResult:\n",
        "    agent1: str\n",
        "    agent2: str\n",
        "    score1: int\n",
        "    score2: int\n",
        "\n",
        "class TournamentStats:\n",
        "    def __init__(self):\n",
        "        self.wins = defaultdict(int)\n",
        "        self.losses = defaultdict(int)\n",
        "        self.points_scored = defaultdict(int)\n",
        "        self.points_conceded = defaultdict(int)\n",
        "        self.matches_played = defaultdict(int)\n",
        "\n",
        "class RPSTournament:\n",
        "    def __init__(self, agents: List[str], num_rounds: int = rounds_count, max_workers: int = workers_count):\n",
        "        self.agents = agents\n",
        "        self.num_rounds = num_rounds\n",
        "        self.max_workers = max_workers\n",
        "        self.rankings = defaultdict(int)\n",
        "        self.matches_completed = 0\n",
        "        self.total_matches = len(list(combinations(agents, 2)))\n",
        "        self.rankings_lock = Lock()\n",
        "        self.stats = TournamentStats()\n",
        "        self.progress_bar = None\n",
        "\n",
        "    def simulate_game(self, agent1: str, agent2: str) -> Tuple[int, int]:\n",
        "        \"\"\"Simulate a game between two agents.\"\"\"\n",
        "        score1 = 0\n",
        "        score2 = 0\n",
        "\n",
        "        for _ in range(self.num_rounds):\n",
        "            move1 = self.get_move(agent1)\n",
        "            move2 = self.get_move(agent2)\n",
        "\n",
        "            if move1 == move2:\n",
        "                continue\n",
        "            elif (move1 == 'rock' and move2 == 'scissors') or \\\n",
        "                 (move1 == 'scissors' and move2 == 'paper') or \\\n",
        "                 (move1 == 'paper' and move2 == 'rock'):\n",
        "                score1 += 1\n",
        "            else:\n",
        "                score2 += 1\n",
        "\n",
        "        return score1, score2\n",
        "\n",
        "    def get_move(self, agent: str) -> str:\n",
        "        \"\"\"Determine the move for an agent based on its name.\"\"\"\n",
        "        if 'rock' in agent.lower():\n",
        "            return 'rock'\n",
        "        elif 'paper' in agent.lower():\n",
        "            return 'paper'\n",
        "        elif 'scissors' in agent.lower():\n",
        "            return 'scissors'\n",
        "        else:\n",
        "            return random.choice(['rock', 'paper', 'scissors'])\n",
        "\n",
        "    def evaluate_match(self, pair: Tuple[str, str]) -> MatchResult:\n",
        "        \"\"\"Evaluate a single match between two agents.\"\"\"\n",
        "        agent1, agent2 = pair\n",
        "        try:\n",
        "            score1, score2 = self.simulate_game(agent1, agent2)\n",
        "            return MatchResult(agent1, agent2, score1, score2)\n",
        "        except Exception as exc:\n",
        "            with print_lock:\n",
        "                logger.error(f\"Match error ({agent1} vs {agent2}): {str(exc)}\")\n",
        "            return None\n",
        "\n",
        "    def update_stats(self, result: MatchResult) -> None:\n",
        "        \"\"\"Update tournament statistics.\"\"\"\n",
        "        self.stats.matches_played[result.agent1] += 1\n",
        "        self.stats.matches_played[result.agent2] += 1\n",
        "\n",
        "        self.stats.points_scored[result.agent1] += result.score1\n",
        "        self.stats.points_scored[result.agent2] += result.score2\n",
        "\n",
        "        self.stats.points_conceded[result.agent1] += result.score2\n",
        "        self.stats.points_conceded[result.agent2] += result.score1\n",
        "\n",
        "        if result.score1 > result.score2:\n",
        "            self.stats.wins[result.agent1] += 1\n",
        "            self.stats.losses[result.agent2] += 1\n",
        "        elif result.score1 < result.score2:\n",
        "            self.stats.wins[result.agent2] += 1\n",
        "            self.stats.losses[result.agent1] += 1\n",
        "\n",
        "    def process_match_result(self, result: MatchResult) -> None:\n",
        "        \"\"\"Process the result of a match and update rankings.\"\"\"\n",
        "        if result:\n",
        "            with self.rankings_lock:\n",
        "                if result.score1 > result.score2:\n",
        "                    self.rankings[result.agent1] += 1\n",
        "                elif result.score1 < result.score2:\n",
        "                    self.rankings[result.agent2] += 1\n",
        "\n",
        "                self.update_stats(result)\n",
        "                self.matches_completed += 1\n",
        "\n",
        "                # Update progress bar here if applicable.\n",
        "                if self.progress_bar:\n",
        "                    with print_lock:  # Use a lock for thread safety.\n",
        "                        self.progress_bar.update(1)\n",
        "\n",
        "    def run(self) -> Dict[str, int]:\n",
        "        \"\"\"Run the tournament with parallel processing.\"\"\"\n",
        "        logger.info(f\"Starting tournament with {self.total_matches} matches...\")\n",
        "\n",
        "        agent_pairs = list(combinations(self.agents, 2))\n",
        "\n",
        "        with tqdm_notebook(total=self.total_matches, desc=\"Tournament Progress\") as self.progress_bar:\n",
        "            with ThreadPoolExecutor(max_workers=self.max_workers) as executor:\n",
        "                futures = {executor.submit(self.evaluate_match, pair): pair for pair in agent_pairs}\n",
        "\n",
        "                for future in as_completed(futures):\n",
        "                    try:\n",
        "                        result = future.result()\n",
        "                        self.process_match_result(result)\n",
        "                    except Exception as exc:\n",
        "                        logger.error(f\"Error processing match: {str(exc)}\")\n",
        "                        # Ensure progress bar updates even on error.\n",
        "                        with print_lock:\n",
        "                            self.progress_bar.update(1)\n",
        "\n",
        "        return dict(sorted(\n",
        "            self.rankings.items(),\n",
        "            key=lambda x: x[1],\n",
        "            reverse=True\n",
        "        ))\n",
        "\n",
        "    def get_stats_dataframe(self) -> pd.DataFrame:\n",
        "        \"\"\"Create a DataFrame with tournament statistics.\"\"\"\n",
        "        data = []\n",
        "\n",
        "        for agent in self.agents:\n",
        "            matches_played = self.stats.matches_played[agent]\n",
        "            win_rate = (self.stats.wins[agent] / matches_played * 100) if matches_played > 0 else 0\n",
        "            points_per_match = (self.stats.points_scored[agent] / matches_played) if matches_played > 0 else 0\n",
        "\n",
        "            data.append({\n",
        "                'Agent': agent.replace('.py', ''),\n",
        "                'Matches': matches_played,\n",
        "                'Wins': self.stats.wins[agent],\n",
        "                'Losses': self.stats.losses[agent],\n",
        "                'Win Rate %': round(win_rate, 1),\n",
        "                'Points Scored': self.stats.points_scored[agent],\n",
        "                'Points Conceded': self.stats.points_conceded[agent],\n",
        "                'Points/Match': round(points_per_match, 1)\n",
        "            })\n",
        "\n",
        "        return pd.DataFrame(data).sort_values('Win Rate %', ascending=False)\n"
      ],
      "metadata": {
        "id": "uz9jzfzBY0V_"
      },
      "execution_count": 37,
      "outputs": []
    },
    {
      "cell_type": "code",
      "source": [
        "def run_tournament(agents: List[str], num_rounds: int = rounds_count, max_workers: int = workers_count) -> Tuple[Dict[str, int], RPSTournament]:\n",
        "    \"\"\"Wrapper function to run tournament safely.\"\"\"\n",
        "    try:\n",
        "        tournament = RPSTournament(agents, num_rounds=num_rounds, max_workers=max_workers)\n",
        "        rankings = tournament.run()\n",
        "        return rankings, tournament  # Return both rankings and tournament instance\n",
        "    except Exception as e:\n",
        "        logger.error(f\"Tournament error: {str(e)}\")\n",
        "        return {}, None  # Return None for tournament in case of error\n",
        "\n"
      ],
      "metadata": {
        "id": "ZfT3q9-EcKnl"
      },
      "execution_count": 38,
      "outputs": []
    },
    {
      "cell_type": "code",
      "source": [
        "def display_results(tournament: RPSTournament) -> None:\n",
        "    \"\"\"Display tournament results with visualizations.\"\"\"\n",
        "    # Get stats DataFrame\n",
        "    stats_df = tournament.get_stats_dataframe()\n",
        "\n",
        "    # Display styled table\n",
        "    display(stats_df.style\n",
        "           .background_gradient(subset=['Win Rate %'], cmap='RdYlGn')\n",
        "           .background_gradient(subset=['Points/Match'], cmap='RdYlGn')\n",
        "           .format({\n",
        "               'Win Rate %': '{:.1f}%',\n",
        "               'Points/Match': '{:.1f}'\n",
        "           }))\n",
        "\n",
        "    # Create visualization for Win Rate Bar Plot\n",
        "    plt.pyplot.figure(figsize=(15, 8))\n",
        "\n",
        "    plt.pyplot.subplot(1, 2, 1)\n",
        "    #plt.pyplot.subplots_adjust(hspace=0.5, bottom=0.5, top=0.6)\n",
        "    sns.barplot(data=stats_df, x='Win Rate %', y='Agent', palette='viridis', hue='Agent', legend=False)\n",
        "    plt.pyplot.title('Win Rate by Agent')\n",
        "    plt.pyplot.xlabel('Win Rate (%)')\n",
        "\n",
        "    plt.pyplot.subplot(1, 2, 1)\n",
        "\n",
        "\n",
        "    # Create visualization for Points per Match Bar Plot\n",
        "    plt.pyplot.subplot( 1, 2, 2)\n",
        "    sns.barplot(data=stats_df, x='Points/Match', y='Agent', palette='viridis', hue='Agent', legend=False)\n",
        "    plt.pyplot.title('Points per Match by Agent')\n",
        "    plt.pyplot.xlabel('Points per Match')\n",
        "\n",
        "    plt.pyplot.tight_layout()\n",
        "    plt.pyplot.show()"
      ],
      "metadata": {
        "id": "Ym5SjuaLYbA4"
      },
      "execution_count": 39,
      "outputs": []
    },
    {
      "cell_type": "code",
      "source": [
        "# List of agents (same as before)\n",
        "agents = [\n",
        "    'rock_agent.py',\n",
        "    'paper_agent.py',\n",
        "    'scissors_agent.py',\n",
        "    'random_opponent.py',\n",
        "    'copy_opponent.py',\n",
        "    'copynext_opponent.py',\n",
        "    'copyprevious_opponent.py',\n",
        "    'opposit_agent.py',\n",
        "    'random3_opponent.py',\n",
        "    'win_reaction1.py',\n",
        "    'win_reaction2.py',\n",
        "    'win_opposit1.py',\n",
        "    'win_opposit2.py',\n",
        "    'win_random1.py',\n",
        "    'win_random2.py',\n",
        "    'sequence_agent.py'\n",
        "]\n",
        "\n",
        "# Run the tournament and get both rankings and tournament instance\n",
        "rankings, tournament = run_tournament(agents)\n"
      ],
      "metadata": {
        "colab": {
          "base_uri": "https://localhost:8080/",
          "height": 49,
          "referenced_widgets": [
            "9983b4391c644a9ab01a78fe1e42497a",
            "2a5df90f03ef4802bed6d0eb20c1d8c5",
            "46c0bf9787144ae7a73c5987e7bc7667",
            "0565ea930e484d25b9cf767f499bce13",
            "6427f20e9a4f440c9c3ef445f893f83c",
            "5868b8c3f9ba434e8d8b5d109c1c7d47",
            "089f5b93a1ed494bba91d06e3a3940b5",
            "9418b5fdfc1d49fd887528c5c7b08537",
            "01d2237ec21b4802949885150badf0a9",
            "c0bbe18909344b84a1c055cd2f8b6a10",
            "ea05483a16a64e2095685cad3d6913a8"
          ]
        },
        "id": "deo4i-XyYevs",
        "outputId": "c3551aa2-3494-49cf-9a25-21d2ecb7e514"
      },
      "execution_count": 40,
      "outputs": [
        {
          "output_type": "display_data",
          "data": {
            "text/plain": [
              "Tournament Progress:   0%|          | 0/120 [00:00<?, ?it/s]"
            ],
            "application/vnd.jupyter.widget-view+json": {
              "version_major": 2,
              "version_minor": 0,
              "model_id": "9983b4391c644a9ab01a78fe1e42497a"
            }
          },
          "metadata": {}
        }
      ]
    },
    {
      "cell_type": "markdown",
      "metadata": {
        "id": "79pEIyB7gtlD"
      },
      "source": [
        "# ИТОГОВЫЙ РЕЙТИНГ"
      ]
    },
    {
      "cell_type": "code",
      "source": [
        "# Check if tournament is not None before displaying results\n",
        "if tournament:\n",
        "    display_results(tournament)"
      ],
      "metadata": {
        "id": "8ro6lk2beCsH",
        "colab": {
          "base_uri": "https://localhost:8080/",
          "height": 1000
        },
        "outputId": "a8898e30-55a6-4526-f9ad-4f31d28980db"
      },
      "execution_count": 41,
      "outputs": [
        {
          "output_type": "display_data",
          "data": {
            "text/plain": [
              "<pandas.io.formats.style.Styler at 0x7cd4d53c4130>"
            ],
            "text/html": [
              "<style type=\"text/css\">\n",
              "#T_d2d49_row0_col4, #T_d2d49_row1_col4, #T_d2d49_row2_col4, #T_d2d49_row3_col7 {\n",
              "  background-color: #006837;\n",
              "  color: #f1f1f1;\n",
              "}\n",
              "#T_d2d49_row0_col7 {\n",
              "  background-color: #0a7b41;\n",
              "  color: #f1f1f1;\n",
              "}\n",
              "#T_d2d49_row1_col7 {\n",
              "  background-color: #bbe278;\n",
              "  color: #000000;\n",
              "}\n",
              "#T_d2d49_row2_col7 {\n",
              "  background-color: #6ec064;\n",
              "  color: #000000;\n",
              "}\n",
              "#T_d2d49_row3_col4, #T_d2d49_row4_col4, #T_d2d49_row5_col4, #T_d2d49_row6_col4 {\n",
              "  background-color: #87cb67;\n",
              "  color: #000000;\n",
              "}\n",
              "#T_d2d49_row4_col7 {\n",
              "  background-color: #15904c;\n",
              "  color: #f1f1f1;\n",
              "}\n",
              "#T_d2d49_row5_col7 {\n",
              "  background-color: #fffcba;\n",
              "  color: #000000;\n",
              "}\n",
              "#T_d2d49_row6_col7 {\n",
              "  background-color: #e2f397;\n",
              "  color: #000000;\n",
              "}\n",
              "#T_d2d49_row7_col4, #T_d2d49_row8_col4, #T_d2d49_row9_col4 {\n",
              "  background-color: #feffbe;\n",
              "  color: #000000;\n",
              "}\n",
              "#T_d2d49_row7_col7 {\n",
              "  background-color: #4eb15d;\n",
              "  color: #f1f1f1;\n",
              "}\n",
              "#T_d2d49_row8_col7 {\n",
              "  background-color: #f26841;\n",
              "  color: #f1f1f1;\n",
              "}\n",
              "#T_d2d49_row9_col7 {\n",
              "  background-color: #f7814c;\n",
              "  color: #f1f1f1;\n",
              "}\n",
              "#T_d2d49_row10_col4, #T_d2d49_row11_col4, #T_d2d49_row12_col4 {\n",
              "  background-color: #f98e52;\n",
              "  color: #f1f1f1;\n",
              "}\n",
              "#T_d2d49_row10_col7 {\n",
              "  background-color: #de402e;\n",
              "  color: #f1f1f1;\n",
              "}\n",
              "#T_d2d49_row11_col7 {\n",
              "  background-color: #ce2827;\n",
              "  color: #f1f1f1;\n",
              "}\n",
              "#T_d2d49_row12_col7 {\n",
              "  background-color: #f57547;\n",
              "  color: #f1f1f1;\n",
              "}\n",
              "#T_d2d49_row13_col4, #T_d2d49_row13_col7, #T_d2d49_row14_col4, #T_d2d49_row15_col4 {\n",
              "  background-color: #a50026;\n",
              "  color: #f1f1f1;\n",
              "}\n",
              "#T_d2d49_row14_col7 {\n",
              "  background-color: #e54e35;\n",
              "  color: #f1f1f1;\n",
              "}\n",
              "#T_d2d49_row15_col7 {\n",
              "  background-color: #fdad60;\n",
              "  color: #000000;\n",
              "}\n",
              "</style>\n",
              "<table id=\"T_d2d49\" class=\"dataframe\">\n",
              "  <thead>\n",
              "    <tr>\n",
              "      <th class=\"blank level0\" >&nbsp;</th>\n",
              "      <th id=\"T_d2d49_level0_col0\" class=\"col_heading level0 col0\" >Agent</th>\n",
              "      <th id=\"T_d2d49_level0_col1\" class=\"col_heading level0 col1\" >Matches</th>\n",
              "      <th id=\"T_d2d49_level0_col2\" class=\"col_heading level0 col2\" >Wins</th>\n",
              "      <th id=\"T_d2d49_level0_col3\" class=\"col_heading level0 col3\" >Losses</th>\n",
              "      <th id=\"T_d2d49_level0_col4\" class=\"col_heading level0 col4\" >Win Rate %</th>\n",
              "      <th id=\"T_d2d49_level0_col5\" class=\"col_heading level0 col5\" >Points Scored</th>\n",
              "      <th id=\"T_d2d49_level0_col6\" class=\"col_heading level0 col6\" >Points Conceded</th>\n",
              "      <th id=\"T_d2d49_level0_col7\" class=\"col_heading level0 col7\" >Points/Match</th>\n",
              "    </tr>\n",
              "  </thead>\n",
              "  <tbody>\n",
              "    <tr>\n",
              "      <th id=\"T_d2d49_level0_row0\" class=\"row_heading level0 row0\" >3</th>\n",
              "      <td id=\"T_d2d49_row0_col0\" class=\"data row0 col0\" >random_opponent</td>\n",
              "      <td id=\"T_d2d49_row0_col1\" class=\"data row0 col1\" >15</td>\n",
              "      <td id=\"T_d2d49_row0_col2\" class=\"data row0 col2\" >9</td>\n",
              "      <td id=\"T_d2d49_row0_col3\" class=\"data row0 col3\" >5</td>\n",
              "      <td id=\"T_d2d49_row0_col4\" class=\"data row0 col4\" >60.0%</td>\n",
              "      <td id=\"T_d2d49_row0_col5\" class=\"data row0 col5\" >545</td>\n",
              "      <td id=\"T_d2d49_row0_col6\" class=\"data row0 col6\" >480</td>\n",
              "      <td id=\"T_d2d49_row0_col7\" class=\"data row0 col7\" >36.3</td>\n",
              "    </tr>\n",
              "    <tr>\n",
              "      <th id=\"T_d2d49_level0_row1\" class=\"row_heading level0 row1\" >13</th>\n",
              "      <td id=\"T_d2d49_row1_col0\" class=\"data row1 col0\" >win_random1</td>\n",
              "      <td id=\"T_d2d49_row1_col1\" class=\"data row1 col1\" >15</td>\n",
              "      <td id=\"T_d2d49_row1_col2\" class=\"data row1 col2\" >9</td>\n",
              "      <td id=\"T_d2d49_row1_col3\" class=\"data row1 col3\" >6</td>\n",
              "      <td id=\"T_d2d49_row1_col4\" class=\"data row1 col4\" >60.0%</td>\n",
              "      <td id=\"T_d2d49_row1_col5\" class=\"data row1 col5\" >524</td>\n",
              "      <td id=\"T_d2d49_row1_col6\" class=\"data row1 col6\" >484</td>\n",
              "      <td id=\"T_d2d49_row1_col7\" class=\"data row1 col7\" >34.9</td>\n",
              "    </tr>\n",
              "    <tr>\n",
              "      <th id=\"T_d2d49_level0_row2\" class=\"row_heading level0 row2\" >14</th>\n",
              "      <td id=\"T_d2d49_row2_col0\" class=\"data row2 col0\" >win_random2</td>\n",
              "      <td id=\"T_d2d49_row2_col1\" class=\"data row2 col1\" >15</td>\n",
              "      <td id=\"T_d2d49_row2_col2\" class=\"data row2 col2\" >9</td>\n",
              "      <td id=\"T_d2d49_row2_col3\" class=\"data row2 col3\" >4</td>\n",
              "      <td id=\"T_d2d49_row2_col4\" class=\"data row2 col4\" >60.0%</td>\n",
              "      <td id=\"T_d2d49_row2_col5\" class=\"data row2 col5\" >532</td>\n",
              "      <td id=\"T_d2d49_row2_col6\" class=\"data row2 col6\" >462</td>\n",
              "      <td id=\"T_d2d49_row2_col7\" class=\"data row2 col7\" >35.5</td>\n",
              "    </tr>\n",
              "    <tr>\n",
              "      <th id=\"T_d2d49_level0_row3\" class=\"row_heading level0 row3\" >0</th>\n",
              "      <td id=\"T_d2d49_row3_col0\" class=\"data row3 col0\" >rock_agent</td>\n",
              "      <td id=\"T_d2d49_row3_col1\" class=\"data row3 col1\" >15</td>\n",
              "      <td id=\"T_d2d49_row3_col2\" class=\"data row3 col2\" >8</td>\n",
              "      <td id=\"T_d2d49_row3_col3\" class=\"data row3 col3\" >6</td>\n",
              "      <td id=\"T_d2d49_row3_col4\" class=\"data row3 col4\" >53.3%</td>\n",
              "      <td id=\"T_d2d49_row3_col5\" class=\"data row3 col5\" >548</td>\n",
              "      <td id=\"T_d2d49_row3_col6\" class=\"data row3 col6\" >535</td>\n",
              "      <td id=\"T_d2d49_row3_col7\" class=\"data row3 col7\" >36.5</td>\n",
              "    </tr>\n",
              "    <tr>\n",
              "      <th id=\"T_d2d49_level0_row4\" class=\"row_heading level0 row4\" >2</th>\n",
              "      <td id=\"T_d2d49_row4_col0\" class=\"data row4 col0\" >scissors_agent</td>\n",
              "      <td id=\"T_d2d49_row4_col1\" class=\"data row4 col1\" >15</td>\n",
              "      <td id=\"T_d2d49_row4_col2\" class=\"data row4 col2\" >8</td>\n",
              "      <td id=\"T_d2d49_row4_col3\" class=\"data row4 col3\" >5</td>\n",
              "      <td id=\"T_d2d49_row4_col4\" class=\"data row4 col4\" >53.3%</td>\n",
              "      <td id=\"T_d2d49_row4_col5\" class=\"data row4 col5\" >542</td>\n",
              "      <td id=\"T_d2d49_row4_col6\" class=\"data row4 col6\" >515</td>\n",
              "      <td id=\"T_d2d49_row4_col7\" class=\"data row4 col7\" >36.1</td>\n",
              "    </tr>\n",
              "    <tr>\n",
              "      <th id=\"T_d2d49_level0_row5\" class=\"row_heading level0 row5\" >8</th>\n",
              "      <td id=\"T_d2d49_row5_col0\" class=\"data row5 col0\" >random3_opponent</td>\n",
              "      <td id=\"T_d2d49_row5_col1\" class=\"data row5 col1\" >15</td>\n",
              "      <td id=\"T_d2d49_row5_col2\" class=\"data row5 col2\" >8</td>\n",
              "      <td id=\"T_d2d49_row5_col3\" class=\"data row5 col3\" >7</td>\n",
              "      <td id=\"T_d2d49_row5_col4\" class=\"data row5 col4\" >53.3%</td>\n",
              "      <td id=\"T_d2d49_row5_col5\" class=\"data row5 col5\" >512</td>\n",
              "      <td id=\"T_d2d49_row5_col6\" class=\"data row5 col6\" >489</td>\n",
              "      <td id=\"T_d2d49_row5_col7\" class=\"data row5 col7\" >34.1</td>\n",
              "    </tr>\n",
              "    <tr>\n",
              "      <th id=\"T_d2d49_level0_row6\" class=\"row_heading level0 row6\" >11</th>\n",
              "      <td id=\"T_d2d49_row6_col0\" class=\"data row6 col0\" >win_opposit1</td>\n",
              "      <td id=\"T_d2d49_row6_col1\" class=\"data row6 col1\" >15</td>\n",
              "      <td id=\"T_d2d49_row6_col2\" class=\"data row6 col2\" >8</td>\n",
              "      <td id=\"T_d2d49_row6_col3\" class=\"data row6 col3\" >6</td>\n",
              "      <td id=\"T_d2d49_row6_col4\" class=\"data row6 col4\" >53.3%</td>\n",
              "      <td id=\"T_d2d49_row6_col5\" class=\"data row6 col5\" >518</td>\n",
              "      <td id=\"T_d2d49_row6_col6\" class=\"data row6 col6\" >527</td>\n",
              "      <td id=\"T_d2d49_row6_col7\" class=\"data row6 col7\" >34.5</td>\n",
              "    </tr>\n",
              "    <tr>\n",
              "      <th id=\"T_d2d49_level0_row7\" class=\"row_heading level0 row7\" >1</th>\n",
              "      <td id=\"T_d2d49_row7_col0\" class=\"data row7 col0\" >paper_agent</td>\n",
              "      <td id=\"T_d2d49_row7_col1\" class=\"data row7 col1\" >15</td>\n",
              "      <td id=\"T_d2d49_row7_col2\" class=\"data row7 col2\" >7</td>\n",
              "      <td id=\"T_d2d49_row7_col3\" class=\"data row7 col3\" >6</td>\n",
              "      <td id=\"T_d2d49_row7_col4\" class=\"data row7 col4\" >46.7%</td>\n",
              "      <td id=\"T_d2d49_row7_col5\" class=\"data row7 col5\" >535</td>\n",
              "      <td id=\"T_d2d49_row7_col6\" class=\"data row7 col6\" >509</td>\n",
              "      <td id=\"T_d2d49_row7_col7\" class=\"data row7 col7\" >35.7</td>\n",
              "    </tr>\n",
              "    <tr>\n",
              "      <th id=\"T_d2d49_level0_row8\" class=\"row_heading level0 row8\" >6</th>\n",
              "      <td id=\"T_d2d49_row8_col0\" class=\"data row8 col0\" >copyprevious_opponent</td>\n",
              "      <td id=\"T_d2d49_row8_col1\" class=\"data row8 col1\" >15</td>\n",
              "      <td id=\"T_d2d49_row8_col2\" class=\"data row8 col2\" >7</td>\n",
              "      <td id=\"T_d2d49_row8_col3\" class=\"data row8 col3\" >8</td>\n",
              "      <td id=\"T_d2d49_row8_col4\" class=\"data row8 col4\" >46.7%</td>\n",
              "      <td id=\"T_d2d49_row8_col5\" class=\"data row8 col5\" >490</td>\n",
              "      <td id=\"T_d2d49_row8_col6\" class=\"data row8 col6\" >521</td>\n",
              "      <td id=\"T_d2d49_row8_col7\" class=\"data row8 col7\" >32.7</td>\n",
              "    </tr>\n",
              "    <tr>\n",
              "      <th id=\"T_d2d49_level0_row9\" class=\"row_heading level0 row9\" >9</th>\n",
              "      <td id=\"T_d2d49_row9_col0\" class=\"data row9 col0\" >win_reaction1</td>\n",
              "      <td id=\"T_d2d49_row9_col1\" class=\"data row9 col1\" >15</td>\n",
              "      <td id=\"T_d2d49_row9_col2\" class=\"data row9 col2\" >7</td>\n",
              "      <td id=\"T_d2d49_row9_col3\" class=\"data row9 col3\" >7</td>\n",
              "      <td id=\"T_d2d49_row9_col4\" class=\"data row9 col4\" >46.7%</td>\n",
              "      <td id=\"T_d2d49_row9_col5\" class=\"data row9 col5\" >493</td>\n",
              "      <td id=\"T_d2d49_row9_col6\" class=\"data row9 col6\" >486</td>\n",
              "      <td id=\"T_d2d49_row9_col7\" class=\"data row9 col7\" >32.9</td>\n",
              "    </tr>\n",
              "    <tr>\n",
              "      <th id=\"T_d2d49_level0_row10\" class=\"row_heading level0 row10\" >4</th>\n",
              "      <td id=\"T_d2d49_row10_col0\" class=\"data row10 col0\" >copy_opponent</td>\n",
              "      <td id=\"T_d2d49_row10_col1\" class=\"data row10 col1\" >15</td>\n",
              "      <td id=\"T_d2d49_row10_col2\" class=\"data row10 col2\" >6</td>\n",
              "      <td id=\"T_d2d49_row10_col3\" class=\"data row10 col3\" >9</td>\n",
              "      <td id=\"T_d2d49_row10_col4\" class=\"data row10 col4\" >40.0%</td>\n",
              "      <td id=\"T_d2d49_row10_col5\" class=\"data row10 col5\" >486</td>\n",
              "      <td id=\"T_d2d49_row10_col6\" class=\"data row10 col6\" >537</td>\n",
              "      <td id=\"T_d2d49_row10_col7\" class=\"data row10 col7\" >32.4</td>\n",
              "    </tr>\n",
              "    <tr>\n",
              "      <th id=\"T_d2d49_level0_row11\" class=\"row_heading level0 row11\" >5</th>\n",
              "      <td id=\"T_d2d49_row11_col0\" class=\"data row11 col0\" >copynext_opponent</td>\n",
              "      <td id=\"T_d2d49_row11_col1\" class=\"data row11 col1\" >15</td>\n",
              "      <td id=\"T_d2d49_row11_col2\" class=\"data row11 col2\" >6</td>\n",
              "      <td id=\"T_d2d49_row11_col3\" class=\"data row11 col3\" >7</td>\n",
              "      <td id=\"T_d2d49_row11_col4\" class=\"data row11 col4\" >40.0%</td>\n",
              "      <td id=\"T_d2d49_row11_col5\" class=\"data row11 col5\" >483</td>\n",
              "      <td id=\"T_d2d49_row11_col6\" class=\"data row11 col6\" >527</td>\n",
              "      <td id=\"T_d2d49_row11_col7\" class=\"data row11 col7\" >32.2</td>\n",
              "    </tr>\n",
              "    <tr>\n",
              "      <th id=\"T_d2d49_level0_row12\" class=\"row_heading level0 row12\" >7</th>\n",
              "      <td id=\"T_d2d49_row12_col0\" class=\"data row12 col0\" >opposit_agent</td>\n",
              "      <td id=\"T_d2d49_row12_col1\" class=\"data row12 col1\" >15</td>\n",
              "      <td id=\"T_d2d49_row12_col2\" class=\"data row12 col2\" >6</td>\n",
              "      <td id=\"T_d2d49_row12_col3\" class=\"data row12 col3\" >9</td>\n",
              "      <td id=\"T_d2d49_row12_col4\" class=\"data row12 col4\" >40.0%</td>\n",
              "      <td id=\"T_d2d49_row12_col5\" class=\"data row12 col5\" >492</td>\n",
              "      <td id=\"T_d2d49_row12_col6\" class=\"data row12 col6\" >526</td>\n",
              "      <td id=\"T_d2d49_row12_col7\" class=\"data row12 col7\" >32.8</td>\n",
              "    </tr>\n",
              "    <tr>\n",
              "      <th id=\"T_d2d49_level0_row13\" class=\"row_heading level0 row13\" >10</th>\n",
              "      <td id=\"T_d2d49_row13_col0\" class=\"data row13 col0\" >win_reaction2</td>\n",
              "      <td id=\"T_d2d49_row13_col1\" class=\"data row13 col1\" >15</td>\n",
              "      <td id=\"T_d2d49_row13_col2\" class=\"data row13 col2\" >5</td>\n",
              "      <td id=\"T_d2d49_row13_col3\" class=\"data row13 col3\" >9</td>\n",
              "      <td id=\"T_d2d49_row13_col4\" class=\"data row13 col4\" >33.3%</td>\n",
              "      <td id=\"T_d2d49_row13_col5\" class=\"data row13 col5\" >477</td>\n",
              "      <td id=\"T_d2d49_row13_col6\" class=\"data row13 col6\" >520</td>\n",
              "      <td id=\"T_d2d49_row13_col7\" class=\"data row13 col7\" >31.8</td>\n",
              "    </tr>\n",
              "    <tr>\n",
              "      <th id=\"T_d2d49_level0_row14\" class=\"row_heading level0 row14\" >12</th>\n",
              "      <td id=\"T_d2d49_row14_col0\" class=\"data row14 col0\" >win_opposit2</td>\n",
              "      <td id=\"T_d2d49_row14_col1\" class=\"data row14 col1\" >15</td>\n",
              "      <td id=\"T_d2d49_row14_col2\" class=\"data row14 col2\" >5</td>\n",
              "      <td id=\"T_d2d49_row14_col3\" class=\"data row14 col3\" >9</td>\n",
              "      <td id=\"T_d2d49_row14_col4\" class=\"data row14 col4\" >33.3%</td>\n",
              "      <td id=\"T_d2d49_row14_col5\" class=\"data row14 col5\" >488</td>\n",
              "      <td id=\"T_d2d49_row14_col6\" class=\"data row14 col6\" >535</td>\n",
              "      <td id=\"T_d2d49_row14_col7\" class=\"data row14 col7\" >32.5</td>\n",
              "    </tr>\n",
              "    <tr>\n",
              "      <th id=\"T_d2d49_level0_row15\" class=\"row_heading level0 row15\" >15</th>\n",
              "      <td id=\"T_d2d49_row15_col0\" class=\"data row15 col0\" >sequence_agent</td>\n",
              "      <td id=\"T_d2d49_row15_col1\" class=\"data row15 col1\" >15</td>\n",
              "      <td id=\"T_d2d49_row15_col2\" class=\"data row15 col2\" >5</td>\n",
              "      <td id=\"T_d2d49_row15_col3\" class=\"data row15 col3\" >10</td>\n",
              "      <td id=\"T_d2d49_row15_col4\" class=\"data row15 col4\" >33.3%</td>\n",
              "      <td id=\"T_d2d49_row15_col5\" class=\"data row15 col5\" >498</td>\n",
              "      <td id=\"T_d2d49_row15_col6\" class=\"data row15 col6\" >510</td>\n",
              "      <td id=\"T_d2d49_row15_col7\" class=\"data row15 col7\" >33.2</td>\n",
              "    </tr>\n",
              "  </tbody>\n",
              "</table>\n"
            ]
          },
          "metadata": {}
        },
        {
          "output_type": "display_data",
          "data": {
            "text/plain": [
              "<Figure size 1500x800 with 2 Axes>"
            ],
            "image/png": "[encoded data removed]"
          },
          "metadata": {}
        }
      ]
    },
    {
      "cell_type": "code",
      "execution_count": null,
      "metadata": {
        "id": "Bx4dmHubgtlD"
      },
      "outputs": [],
      "source": [
        "rank_se = pd.Series(rankings, name=\"Рейтинг турнира по количеству выигранных партий\").sort_values(ascending=False).to_frame()\n",
        "rank_se"
      ]
    }
  ],
  "metadata": {
    "colab": {
      "provenance": [],
      "include_colab_link": true
    },
    "kernelspec": {
      "display_name": "Python 3 (ipykernel)",
      "language": "python",
      "name": "python3"
    },
    "language_info": {
      "codemirror_mode": {
        "name": "ipython",
        "version": 3
      },
      "file_extension": ".py",
      "mimetype": "text/x-python",
      "name": "python",
      "nbconvert_exporter": "python",
      "pygments_lexer": "ipython3",
      "version": "3.9.12"
    },
    "vscode": {
      "interpreter": {
        "hash": "f753dde58ddb99e3e3a8a3f6ff6bb163e9afd007b68b7c9487cb38bca28a3c09"
      }
    },
    "widgets": {
      "application/vnd.jupyter.widget-state+json": {
        "9983b4391c644a9ab01a78fe1e42497a": {
          "model_module": "@jupyter-widgets/controls",
          "model_name": "HBoxModel",
          "model_module_version": "1.5.0",
          "state": {
            "_dom_classes": [],
            "_model_module": "@jupyter-widgets/controls",
            "_model_module_version": "1.5.0",
            "_model_name": "HBoxModel",
            "_view_count": null,
            "_view_module": "@jupyter-widgets/controls",
            "_view_module_version": "1.5.0",
            "_view_name": "HBoxView",
            "box_style": "",
            "children": [
              "IPY_MODEL_2a5df90f03ef4802bed6d0eb20c1d8c5",
              "IPY_MODEL_46c0bf9787144ae7a73c5987e7bc7667",
              "IPY_MODEL_0565ea930e484d25b9cf767f499bce13"
            ],
            "layout": "IPY_MODEL_6427f20e9a4f440c9c3ef445f893f83c"
          }
        },
        "2a5df90f03ef4802bed6d0eb20c1d8c5": {
          "model_module": "@jupyter-widgets/controls",
          "model_name": "HTMLModel",
          "model_module_version": "1.5.0",
          "state": {
            "_dom_classes": [],
            "_model_module": "@jupyter-widgets/controls",
            "_model_module_version": "1.5.0",
            "_model_name": "HTMLModel",
            "_view_count": null,
            "_view_module": "@jupyter-widgets/controls",
            "_view_module_version": "1.5.0",
            "_view_name": "HTMLView",
            "description": "",
            "description_tooltip": null,
            "layout": "IPY_MODEL_5868b8c3f9ba434e8d8b5d109c1c7d47",
            "placeholder": "​",
            "style": "IPY_MODEL_089f5b93a1ed494bba91d06e3a3940b5",
            "value": "Tournament Progress: 100%"
          }
        },
        "46c0bf9787144ae7a73c5987e7bc7667": {
          "model_module": "@jupyter-widgets/controls",
          "model_name": "FloatProgressModel",
          "model_module_version": "1.5.0",
          "state": {
            "_dom_classes": [],
            "_model_module": "@jupyter-widgets/controls",
            "_model_module_version": "1.5.0",
            "_model_name": "FloatProgressModel",
            "_view_count": null,
            "_view_module": "@jupyter-widgets/controls",
            "_view_module_version": "1.5.0",
            "_view_name": "ProgressView",
            "bar_style": "success",
            "description": "",
            "description_tooltip": null,
            "layout": "IPY_MODEL_9418b5fdfc1d49fd887528c5c7b08537",
            "max": 120,
            "min": 0,
            "orientation": "horizontal",
            "style": "IPY_MODEL_01d2237ec21b4802949885150badf0a9",
            "value": 120
          }
        },
        "0565ea930e484d25b9cf767f499bce13": {
          "model_module": "@jupyter-widgets/controls",
          "model_name": "HTMLModel",
          "model_module_version": "1.5.0",
          "state": {
            "_dom_classes": [],
            "_model_module": "@jupyter-widgets/controls",
            "_model_module_version": "1.5.0",
            "_model_name": "HTMLModel",
            "_view_count": null,
            "_view_module": "@jupyter-widgets/controls",
            "_view_module_version": "1.5.0",
            "_view_name": "HTMLView",
            "description": "",
            "description_tooltip": null,
            "layout": "IPY_MODEL_c0bbe18909344b84a1c055cd2f8b6a10",
            "placeholder": "​",
            "style": "IPY_MODEL_ea05483a16a64e2095685cad3d6913a8",
            "value": " 120/120 [00:00&lt;00:00,  2.32it/s]"
          }
        },
        "6427f20e9a4f440c9c3ef445f893f83c": {
          "model_module": "@jupyter-widgets/base",
          "model_name": "LayoutModel",
          "model_module_version": "1.2.0",
          "state": {
            "_model_module": "@jupyter-widgets/base",
            "_model_module_version": "1.2.0",
            "_model_name": "LayoutModel",
            "_view_count": null,
            "_view_module": "@jupyter-widgets/base",
            "_view_module_version": "1.2.0",
            "_view_name": "LayoutView",
            "align_content": null,
            "align_items": null,
            "align_self": null,
            "border": null,
            "bottom": null,
            "display": null,
            "flex": null,
            "flex_flow": null,
            "grid_area": null,
            "grid_auto_columns": null,
            "grid_auto_flow": null,
            "grid_auto_rows": null,
            "grid_column": null,
            "grid_gap": null,
            "grid_row": null,
            "grid_template_areas": null,
            "grid_template_columns": null,
            "grid_template_rows": null,
            "height": null,
            "justify_content": null,
            "justify_items": null,
            "left": null,
            "margin": null,
            "max_height": null,
            "max_width": null,
            "min_height": null,
            "min_width": null,
            "object_fit": null,
            "object_position": null,
            "order": null,
            "overflow": null,
            "overflow_x": null,
            "overflow_y": null,
            "padding": null,
            "right": null,
            "top": null,
            "visibility": null,
            "width": null
          }
        },
        "5868b8c3f9ba434e8d8b5d109c1c7d47": {
          "model_module": "@jupyter-widgets/base",
          "model_name": "LayoutModel",
          "model_module_version": "1.2.0",
          "state": {
            "_model_module": "@jupyter-widgets/base",
            "_model_module_version": "1.2.0",
            "_model_name": "LayoutModel",
            "_view_count": null,
            "_view_module": "@jupyter-widgets/base",
            "_view_module_version": "1.2.0",
            "_view_name": "LayoutView",
            "align_content": null,
            "align_items": null,
            "align_self": null,
            "border": null,
            "bottom": null,
            "display": null,
            "flex": null,
            "flex_flow": null,
            "grid_area": null,
            "grid_auto_columns": null,
            "grid_auto_flow": null,
            "grid_auto_rows": null,
            "grid_column": null,
            "grid_gap": null,
            "grid_row": null,
            "grid_template_areas": null,
            "grid_template_columns": null,
            "grid_template_rows": null,
            "height": null,
            "justify_content": null,
            "justify_items": null,
            "left": null,
            "margin": null,
            "max_height": null,
            "max_width": null,
            "min_height": null,
            "min_width": null,
            "object_fit": null,
            "object_position": null,
            "order": null,
            "overflow": null,
            "overflow_x": null,
            "overflow_y": null,
            "padding": null,
            "right": null,
            "top": null,
            "visibility": null,
            "width": null
          }
        },
        "089f5b93a1ed494bba91d06e3a3940b5": {
          "model_module": "@jupyter-widgets/controls",
          "model_name": "DescriptionStyleModel",
          "model_module_version": "1.5.0",
          "state": {
            "_model_module": "@jupyter-widgets/controls",
            "_model_module_version": "1.5.0",
            "_model_name": "DescriptionStyleModel",
            "_view_count": null,
            "_view_module": "@jupyter-widgets/base",
            "_view_module_version": "1.2.0",
            "_view_name": "StyleView",
            "description_width": ""
          }
        },
        "9418b5fdfc1d49fd887528c5c7b08537": {
          "model_module": "@jupyter-widgets/base",
          "model_name": "LayoutModel",
          "model_module_version": "1.2.0",
          "state": {
            "_model_module": "@jupyter-widgets/base",
            "_model_module_version": "1.2.0",
            "_model_name": "LayoutModel",
            "_view_count": null,
            "_view_module": "@jupyter-widgets/base",
            "_view_module_version": "1.2.0",
            "_view_name": "LayoutView",
            "align_content": null,
            "align_items": null,
            "align_self": null,
            "border": null,
            "bottom": null,
            "display": null,
            "flex": null,
            "flex_flow": null,
            "grid_area": null,
            "grid_auto_columns": null,
            "grid_auto_flow": null,
            "grid_auto_rows": null,
            "grid_column": null,
            "grid_gap": null,
            "grid_row": null,
            "grid_template_areas": null,
            "grid_template_columns": null,
            "grid_template_rows": null,
            "height": null,
            "justify_content": null,
            "justify_items": null,
            "left": null,
            "margin": null,
            "max_height": null,
            "max_width": null,
            "min_height": null,
            "min_width": null,
            "object_fit": null,
            "object_position": null,
            "order": null,
            "overflow": null,
            "overflow_x": null,
            "overflow_y": null,
            "padding": null,
            "right": null,
            "top": null,
            "visibility": null,
            "width": null
          }
        },
        "01d2237ec21b4802949885150badf0a9": {
          "model_module": "@jupyter-widgets/controls",
          "model_name": "ProgressStyleModel",
          "model_module_version": "1.5.0",
          "state": {
            "_model_module": "@jupyter-widgets/controls",
            "_model_module_version": "1.5.0",
            "_model_name": "ProgressStyleModel",
            "_view_count": null,
            "_view_module": "@jupyter-widgets/base",
            "_view_module_version": "1.2.0",
            "_view_name": "StyleView",
            "bar_color": null,
            "description_width": ""
          }
        },
        "c0bbe18909344b84a1c055cd2f8b6a10": {
          "model_module": "@jupyter-widgets/base",
          "model_name": "LayoutModel",
          "model_module_version": "1.2.0",
          "state": {
            "_model_module": "@jupyter-widgets/base",
            "_model_module_version": "1.2.0",
            "_model_name": "LayoutModel",
            "_view_count": null,
            "_view_module": "@jupyter-widgets/base",
            "_view_module_version": "1.2.0",
            "_view_name": "LayoutView",
            "align_content": null,
            "align_items": null,
            "align_self": null,
            "border": null,
            "bottom": null,
            "display": null,
            "flex": null,
            "flex_flow": null,
            "grid_area": null,
            "grid_auto_columns": null,
            "grid_auto_flow": null,
            "grid_auto_rows": null,
            "grid_column": null,
            "grid_gap": null,
            "grid_row": null,
            "grid_template_areas": null,
            "grid_template_columns": null,
            "grid_template_rows": null,
            "height": null,
            "justify_content": null,
            "justify_items": null,
            "left": null,
            "margin": null,
            "max_height": null,
            "max_width": null,
            "min_height": null,
            "min_width": null,
            "object_fit": null,
            "object_position": null,
            "order": null,
            "overflow": null,
            "overflow_x": null,
            "overflow_y": null,
            "padding": null,
            "right": null,
            "top": null,
            "visibility": null,
            "width": null
          }
        },
        "ea05483a16a64e2095685cad3d6913a8": {
          "model_module": "@jupyter-widgets/controls",
          "model_name": "DescriptionStyleModel",
          "model_module_version": "1.5.0",
          "state": {
            "_model_module": "@jupyter-widgets/controls",
            "_model_module_version": "1.5.0",
            "_model_name": "DescriptionStyleModel",
            "_view_count": null,
            "_view_module": "@jupyter-widgets/base",
            "_view_module_version": "1.2.0",
            "_view_name": "StyleView",
            "description_width": ""
          }
        }
      }
    }
  },
  "nbformat": 4,
  "nbformat_minor": 0
}